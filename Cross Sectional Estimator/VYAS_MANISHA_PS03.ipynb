{
 "cells": [
  {
   "cell_type": "markdown",
   "metadata": {
    "ein.tags": "worksheet-0",
    "slideshow": {
     "slide_type": "-"
    }
   },
   "source": [
    "# Problem Set 3, due Wednesday, May 3rd, 5:30pm."
   ]
  },
  {
   "cell_type": "markdown",
   "metadata": {
    "ein.tags": "worksheet-0",
    "slideshow": {
     "slide_type": "-"
    }
   },
   "source": [
    "## Introduction to the assignment\n",
    "\n",
    "For this assignment, you will be using data from the [Progresa\n",
    "program](http://en.wikipedia.org/wiki/Oportunidades), a government\n",
    "social assistance program in Mexico. This program, as well as the\n",
    "details of its impact, are described in the paper \"[School subsidies\n",
    "for the poor: evaluating the Mexican Progresa poverty\n",
    "program](http://www.sciencedirect.com/science/article/pii/S0304387803001858)\",\n",
    "by Paul Shultz (available on Canvas).  The data\n",
    "(progresa_sample.csv.gz) is available on canvas\n",
    "in files/data.\n",
    "\n",
    "Please read the paper to familiarize yourself with\n",
    "the PROGRESA program before beginning this problem set, so you have a\n",
    "rough sense of where the data come from and how they were\n",
    "generated. If you just proceed into the problem set without\n",
    "understanding Progresa or the data, it will be very difficult!\n",
    "\n",
    "The goal of this problem set is to implement some of the basic\n",
    "econometric techniques that you are learning in class to measure the\n",
    "impact of Progresa on secondary school enrollment rates, in particular\n",
    "differences-in-differences.  Your task is to **estimate the impact of\n",
    "_progresa_ subsidies on the school attendance**.  Note: this asks to\n",
    "estimate a causal effect.\n",
    "\n",
    "The timeline of the program was:\n",
    "\n",
    " * Baseline survey conducted in 1997\n",
    " * Intervention begins in 1998, \"Wave 1\" of data collected in 1998\n",
    " * \"Wave 2 of data\" collected in 1999\n",
    " * Evaluation ends in 2000, at which point the control villages were treated. \n",
    " \n",
    "When you are ready, download the progresa_sample.csv data from\n",
    "Canvas. The data are actual data collected to evaluate the impact of\n",
    "the Progresa program.  In this file, each row corresponds to an\n",
    "observation taken for a given child for a given year. There are two\n",
    "years of data (1997 and 1998), and just under 40,000 children who are\n",
    "surveyed in both years.  For each child-year observation, the\n",
    "following variables are collected:\n",
    "\n",
    "| Variable name | Description|\n",
    "|------|------|\n",
    "|year\t  |year in which data is collected\n",
    "|sex\t  |male = 1|\n",
    "|indig\t  |indigenous = 1|\n",
    "|dist_sec |nearest distance to a secondary school|\n",
    "|sc\t      |enrolled in school in year of survey (=1)|\n",
    "|grc      |grade enrolled|\n",
    "|fam_n    |family size|\n",
    "|min_dist |\tmin distance to an urban center|\n",
    "|dist_cap |\tmin distance to the capital|\n",
    "|poor     |\tpoor = \"pobre\", not poor = \"no pobre\"|\n",
    "|progresa |treatment = \"basal\", control = \"0\"|\n",
    "|hohedu\t  |years of schooling of head of household|\n",
    "|hohwag\t  |monthly wages of head of household|\n",
    "|welfare_index|\twelfare index used to classify poor|\n",
    "|hohsex\t|gender of head of household (male=1)|\n",
    "|hohage\t|age of head of household|\n",
    "|age\t|years old|\n",
    "|folnum\t|individual id|\n",
    "|village|\tvillage id|\n",
    "|sc97\t|enrolled in school in 1997 (=1) |"
   ]
  },
  {
   "cell_type": "markdown",
   "metadata": {
    "ein.tags": "worksheet-0",
    "slideshow": {
     "slide_type": "-"
    }
   },
   "source": [
    "## Part 1: Descriptive analysis\n",
    "\n",
    "### 1.1\tSummary Statistics\n",
    "\n",
    "Report summary statistics (mean, standard deviation, and number of missings) for all of\n",
    "the demographic variables in the dataset (i.e., everything except\n",
    "year, folnum, village).  Present the actual levels for 'progresa' and\n",
    "'poor'.  Do these fit with the documentation above?\n",
    "\n",
    "Present these in a single table alphabetized\n",
    "by variable name. Do NOT simply expect the grader to scroll through\n",
    "your output!"
   ]
  },
  {
   "cell_type": "code",
   "execution_count": 1,
   "metadata": {
    "autoscroll": false,
    "collapsed": true,
    "ein.tags": "worksheet-0",
    "slideshow": {
     "slide_type": "-"
    }
   },
   "outputs": [],
   "source": [
    "import pandas as pd\n",
    "import numpy as np\n",
    "import scipy\n",
    "from scipy import stats\n",
    "import matplotlib.pyplot as plt\n",
    "import statsmodels.formula.api as smf"
   ]
  },
  {
   "cell_type": "code",
   "execution_count": 2,
   "metadata": {},
   "outputs": [
    {
     "data": {
      "text/html": [
       "<div>\n",
       "<style>\n",
       "    .dataframe thead tr:only-child th {\n",
       "        text-align: right;\n",
       "    }\n",
       "\n",
       "    .dataframe thead th {\n",
       "        text-align: left;\n",
       "    }\n",
       "\n",
       "    .dataframe tbody tr th {\n",
       "        vertical-align: top;\n",
       "    }\n",
       "</style>\n",
       "<table border=\"1\" class=\"dataframe\">\n",
       "  <thead>\n",
       "    <tr style=\"text-align: right;\">\n",
       "      <th></th>\n",
       "      <th>Variables</th>\n",
       "      <th>Mean</th>\n",
       "      <th>Standard Deviation</th>\n",
       "      <th>Missing Values</th>\n",
       "    </tr>\n",
       "  </thead>\n",
       "  <tbody>\n",
       "    <tr>\n",
       "      <th>0</th>\n",
       "      <td>age</td>\n",
       "      <td>11.366460</td>\n",
       "      <td>3.167744</td>\n",
       "      <td>0</td>\n",
       "    </tr>\n",
       "    <tr>\n",
       "      <th>1</th>\n",
       "      <td>dist_cap</td>\n",
       "      <td>147.674452</td>\n",
       "      <td>76.063134</td>\n",
       "      <td>0</td>\n",
       "    </tr>\n",
       "    <tr>\n",
       "      <th>2</th>\n",
       "      <td>dist_sec</td>\n",
       "      <td>2.418910</td>\n",
       "      <td>2.234109</td>\n",
       "      <td>0</td>\n",
       "    </tr>\n",
       "    <tr>\n",
       "      <th>3</th>\n",
       "      <td>fam_n</td>\n",
       "      <td>7.215715</td>\n",
       "      <td>2.352900</td>\n",
       "      <td>0</td>\n",
       "    </tr>\n",
       "    <tr>\n",
       "      <th>4</th>\n",
       "      <td>grc</td>\n",
       "      <td>3.963537</td>\n",
       "      <td>2.499063</td>\n",
       "      <td>6549</td>\n",
       "    </tr>\n",
       "    <tr>\n",
       "      <th>5</th>\n",
       "      <td>grc97</td>\n",
       "      <td>3.705372</td>\n",
       "      <td>2.572387</td>\n",
       "      <td>0</td>\n",
       "    </tr>\n",
       "    <tr>\n",
       "      <th>6</th>\n",
       "      <td>hohage</td>\n",
       "      <td>44.436717</td>\n",
       "      <td>11.620372</td>\n",
       "      <td>10</td>\n",
       "    </tr>\n",
       "    <tr>\n",
       "      <th>7</th>\n",
       "      <td>hohedu</td>\n",
       "      <td>2.768104</td>\n",
       "      <td>2.656106</td>\n",
       "      <td>0</td>\n",
       "    </tr>\n",
       "    <tr>\n",
       "      <th>8</th>\n",
       "      <td>hohsex</td>\n",
       "      <td>0.925185</td>\n",
       "      <td>0.263095</td>\n",
       "      <td>20</td>\n",
       "    </tr>\n",
       "    <tr>\n",
       "      <th>9</th>\n",
       "      <td>hohwag</td>\n",
       "      <td>586.985312</td>\n",
       "      <td>788.133664</td>\n",
       "      <td>0</td>\n",
       "    </tr>\n",
       "    <tr>\n",
       "      <th>10</th>\n",
       "      <td>indig</td>\n",
       "      <td>0.298324</td>\n",
       "      <td>0.457525</td>\n",
       "      <td>300</td>\n",
       "    </tr>\n",
       "    <tr>\n",
       "      <th>11</th>\n",
       "      <td>min_dist</td>\n",
       "      <td>103.447520</td>\n",
       "      <td>42.089441</td>\n",
       "      <td>0</td>\n",
       "    </tr>\n",
       "    <tr>\n",
       "      <th>12</th>\n",
       "      <td>sc</td>\n",
       "      <td>0.819818</td>\n",
       "      <td>0.384342</td>\n",
       "      <td>8453</td>\n",
       "    </tr>\n",
       "    <tr>\n",
       "      <th>13</th>\n",
       "      <td>sc97</td>\n",
       "      <td>0.813922</td>\n",
       "      <td>0.389172</td>\n",
       "      <td>3872</td>\n",
       "    </tr>\n",
       "    <tr>\n",
       "      <th>14</th>\n",
       "      <td>sex</td>\n",
       "      <td>0.512211</td>\n",
       "      <td>0.499854</td>\n",
       "      <td>24</td>\n",
       "    </tr>\n",
       "    <tr>\n",
       "      <th>15</th>\n",
       "      <td>welfare_index</td>\n",
       "      <td>690.346564</td>\n",
       "      <td>139.491130</td>\n",
       "      <td>210</td>\n",
       "    </tr>\n",
       "  </tbody>\n",
       "</table>\n",
       "</div>"
      ],
      "text/plain": [
       "        Variables        Mean  Standard Deviation  Missing Values\n",
       "0             age   11.366460            3.167744               0\n",
       "1        dist_cap  147.674452           76.063134               0\n",
       "2        dist_sec    2.418910            2.234109               0\n",
       "3           fam_n    7.215715            2.352900               0\n",
       "4             grc    3.963537            2.499063            6549\n",
       "5           grc97    3.705372            2.572387               0\n",
       "6          hohage   44.436717           11.620372              10\n",
       "7          hohedu    2.768104            2.656106               0\n",
       "8          hohsex    0.925185            0.263095              20\n",
       "9          hohwag  586.985312          788.133664               0\n",
       "10          indig    0.298324            0.457525             300\n",
       "11       min_dist  103.447520           42.089441               0\n",
       "12             sc    0.819818            0.384342            8453\n",
       "13           sc97    0.813922            0.389172            3872\n",
       "14            sex    0.512211            0.499854              24\n",
       "15  welfare_index  690.346564          139.491130             210"
      ]
     },
     "execution_count": 2,
     "metadata": {},
     "output_type": "execute_result"
    }
   ],
   "source": [
    "dat = pd.read_csv('C:/Users/Manisha/Desktop/UW/MSIM 2017 - 2019/03. Spring Quarter 2017/INFX 574/Problem Sets/PS 3/progresa_sample.csv')\n",
    "\n",
    "det = pd.DataFrame(data=dat, columns=('sex','indig','dist_sec','sc','grc','fam_n','min_dist','dist_cap','hohedu','hohwag','welfare_index','hohsex','hohage','age','grc97','sc97'))\n",
    "det.head()\n",
    "missing = det.isnull().sum()\n",
    "\n",
    "det = det.describe()\n",
    "det = pd.DataFrame({'Mean':det.loc['mean'],'Standard Deviation':det.loc['std'],'Missing Values':missing})\n",
    "det.reset_index(level=0,inplace=True)\n",
    "det.sort_values('index')\n",
    "\n",
    "fdet = det.rename(columns={\"index\":\"Variables\"}).sort_values('Variables').reset_index(level=0,inplace=False)\n",
    "fdet = pd.DataFrame(data=fdet,columns=('Variables','Mean','Standard Deviation','Missing Values'))\n",
    "\n",
    "fdet"
   ]
  },
  {
   "cell_type": "code",
   "execution_count": 3,
   "metadata": {},
   "outputs": [
    {
     "name": "stdout",
     "output_type": "stream",
     "text": [
      "Levels in progresa column: ['0' 'basal']\n",
      "Missing values in progresa column: 0\n",
      "\n",
      "Levels in poor column: ['pobre' 'no pobre']\n",
      "Missing values in poor column: 0\n"
     ]
    }
   ],
   "source": [
    "# Levels in Pregresa and Poor\n",
    "print(\"Levels in progresa column:\",dat.progresa.unique())\n",
    "print(\"Missing values in progresa column:\",dat.progresa.isnull().sum())\n",
    "print(\"\\nLevels in poor column:\",dat.poor.unique())\n",
    "print(\"Missing values in poor column:\",dat.poor.isnull().sum())"
   ]
  },
  {
   "cell_type": "markdown",
   "metadata": {},
   "source": [
    "Yes, 'progresa' and 'poor' levels coded in the dataset match with the information documented above. Progresa variable has levels: 0 and basal, with no missing values. Poor variable has levels: no pobre and pobre, with no missing values."
   ]
  },
  {
   "cell_type": "markdown",
   "metadata": {
    "ein.tags": "worksheet-0",
    "slideshow": {
     "slide_type": "-"
    }
   },
   "source": [
    "### 1.2 Differences at baseline?\n",
    "Now let's investigate the differences in baseline.  Are the baseline (1997) demographic characteristics **for the poor**\n",
    "different in treatment and control villages?\n",
    "\n",
    "I suggest you to use a T-Test to\n",
    "determine whether there is a statistically significant difference in\n",
    "the average values of each of the variables in the dataset. Focus only\n",
    "on the data from 1997 for poor.\n",
    "\n",
    "Present your results in a single table with the following columns and 14 (or so) rows:\n",
    "\n",
    "| Variable name | Average value (Treatment villages) | Average value (Control villages) | Difference (Treat - Control) | p-value |\n",
    "|------|------|------|------|------|\n",
    "|Male|?|?|?|?|\n"
   ]
  },
  {
   "cell_type": "code",
   "execution_count": 4,
   "metadata": {},
   "outputs": [
    {
     "data": {
      "text/html": [
       "<div>\n",
       "<style>\n",
       "    .dataframe thead tr:only-child th {\n",
       "        text-align: right;\n",
       "    }\n",
       "\n",
       "    .dataframe thead th {\n",
       "        text-align: left;\n",
       "    }\n",
       "\n",
       "    .dataframe tbody tr th {\n",
       "        vertical-align: top;\n",
       "    }\n",
       "</style>\n",
       "<table border=\"1\" class=\"dataframe\">\n",
       "  <thead>\n",
       "    <tr style=\"text-align: right;\">\n",
       "      <th></th>\n",
       "      <th>Variable name</th>\n",
       "      <th>Average value (Treatment villages)</th>\n",
       "      <th>Average value (Control villages)</th>\n",
       "      <th>Difference (Treat - Control)</th>\n",
       "      <th>p-value</th>\n",
       "    </tr>\n",
       "  </thead>\n",
       "  <tbody>\n",
       "    <tr>\n",
       "      <th>0</th>\n",
       "      <td>sex</td>\n",
       "      <td>0.519317</td>\n",
       "      <td>0.505052</td>\n",
       "      <td>0.014265</td>\n",
       "      <td>1.219172e-02</td>\n",
       "    </tr>\n",
       "    <tr>\n",
       "      <th>1</th>\n",
       "      <td>indig</td>\n",
       "      <td>0.325986</td>\n",
       "      <td>0.332207</td>\n",
       "      <td>-0.006222</td>\n",
       "      <td>2.453603e-01</td>\n",
       "    </tr>\n",
       "    <tr>\n",
       "      <th>2</th>\n",
       "      <td>dist_sec</td>\n",
       "      <td>2.453122</td>\n",
       "      <td>2.507662</td>\n",
       "      <td>-0.054540</td>\n",
       "      <td>3.569843e-02</td>\n",
       "    </tr>\n",
       "    <tr>\n",
       "      <th>3</th>\n",
       "      <td>sc</td>\n",
       "      <td>0.822697</td>\n",
       "      <td>0.815186</td>\n",
       "      <td>0.007511</td>\n",
       "      <td>9.517806e-02</td>\n",
       "    </tr>\n",
       "    <tr>\n",
       "      <th>4</th>\n",
       "      <td>grc</td>\n",
       "      <td>3.531599</td>\n",
       "      <td>3.543050</td>\n",
       "      <td>-0.011450</td>\n",
       "      <td>6.890151e-01</td>\n",
       "    </tr>\n",
       "    <tr>\n",
       "      <th>5</th>\n",
       "      <td>fam_n</td>\n",
       "      <td>7.281327</td>\n",
       "      <td>7.302469</td>\n",
       "      <td>-0.021142</td>\n",
       "      <td>4.271039e-01</td>\n",
       "    </tr>\n",
       "    <tr>\n",
       "      <th>6</th>\n",
       "      <td>min_dist</td>\n",
       "      <td>107.152915</td>\n",
       "      <td>103.237854</td>\n",
       "      <td>3.915060</td>\n",
       "      <td>2.358312e-16</td>\n",
       "    </tr>\n",
       "    <tr>\n",
       "      <th>7</th>\n",
       "      <td>dist_cap</td>\n",
       "      <td>150.829074</td>\n",
       "      <td>153.769730</td>\n",
       "      <td>-2.940656</td>\n",
       "      <td>8.415005e-04</td>\n",
       "    </tr>\n",
       "    <tr>\n",
       "      <th>8</th>\n",
       "      <td>hohedu</td>\n",
       "      <td>2.663139</td>\n",
       "      <td>2.590348</td>\n",
       "      <td>0.072791</td>\n",
       "      <td>1.105093e-02</td>\n",
       "    </tr>\n",
       "    <tr>\n",
       "      <th>9</th>\n",
       "      <td>hohwag</td>\n",
       "      <td>544.339544</td>\n",
       "      <td>573.163558</td>\n",
       "      <td>-28.824015</td>\n",
       "      <td>3.253835e-04</td>\n",
       "    </tr>\n",
       "    <tr>\n",
       "      <th>10</th>\n",
       "      <td>welfare_index</td>\n",
       "      <td>655.428377</td>\n",
       "      <td>659.579100</td>\n",
       "      <td>-4.150723</td>\n",
       "      <td>1.431016e-03</td>\n",
       "    </tr>\n",
       "    <tr>\n",
       "      <th>11</th>\n",
       "      <td>hohsex</td>\n",
       "      <td>0.924656</td>\n",
       "      <td>0.922947</td>\n",
       "      <td>0.001709</td>\n",
       "      <td>5.711858e-01</td>\n",
       "    </tr>\n",
       "    <tr>\n",
       "      <th>12</th>\n",
       "      <td>hohage</td>\n",
       "      <td>43.648828</td>\n",
       "      <td>44.276918</td>\n",
       "      <td>-0.628090</td>\n",
       "      <td>1.796243e-06</td>\n",
       "    </tr>\n",
       "    <tr>\n",
       "      <th>13</th>\n",
       "      <td>age</td>\n",
       "      <td>10.716991</td>\n",
       "      <td>10.742023</td>\n",
       "      <td>-0.025032</td>\n",
       "      <td>4.785594e-01</td>\n",
       "    </tr>\n",
       "    <tr>\n",
       "      <th>14</th>\n",
       "      <td>grc97</td>\n",
       "      <td>3.531599</td>\n",
       "      <td>3.543050</td>\n",
       "      <td>-0.011450</td>\n",
       "      <td>6.890151e-01</td>\n",
       "    </tr>\n",
       "    <tr>\n",
       "      <th>15</th>\n",
       "      <td>sc97</td>\n",
       "      <td>0.822697</td>\n",
       "      <td>0.815186</td>\n",
       "      <td>0.007511</td>\n",
       "      <td>9.517806e-02</td>\n",
       "    </tr>\n",
       "  </tbody>\n",
       "</table>\n",
       "</div>"
      ],
      "text/plain": [
       "    Variable name  Average value (Treatment villages)  \\\n",
       "0             sex                            0.519317   \n",
       "1           indig                            0.325986   \n",
       "2        dist_sec                            2.453122   \n",
       "3              sc                            0.822697   \n",
       "4             grc                            3.531599   \n",
       "5           fam_n                            7.281327   \n",
       "6        min_dist                          107.152915   \n",
       "7        dist_cap                          150.829074   \n",
       "8          hohedu                            2.663139   \n",
       "9          hohwag                          544.339544   \n",
       "10  welfare_index                          655.428377   \n",
       "11         hohsex                            0.924656   \n",
       "12         hohage                           43.648828   \n",
       "13            age                           10.716991   \n",
       "14          grc97                            3.531599   \n",
       "15           sc97                            0.822697   \n",
       "\n",
       "    Average value (Control villages)  Difference (Treat - Control)  \\\n",
       "0                           0.505052                      0.014265   \n",
       "1                           0.332207                     -0.006222   \n",
       "2                           2.507662                     -0.054540   \n",
       "3                           0.815186                      0.007511   \n",
       "4                           3.543050                     -0.011450   \n",
       "5                           7.302469                     -0.021142   \n",
       "6                         103.237854                      3.915060   \n",
       "7                         153.769730                     -2.940656   \n",
       "8                           2.590348                      0.072791   \n",
       "9                         573.163558                    -28.824015   \n",
       "10                        659.579100                     -4.150723   \n",
       "11                          0.922947                      0.001709   \n",
       "12                         44.276918                     -0.628090   \n",
       "13                         10.742023                     -0.025032   \n",
       "14                          3.543050                     -0.011450   \n",
       "15                          0.815186                      0.007511   \n",
       "\n",
       "         p-value  \n",
       "0   1.219172e-02  \n",
       "1   2.453603e-01  \n",
       "2   3.569843e-02  \n",
       "3   9.517806e-02  \n",
       "4   6.890151e-01  \n",
       "5   4.271039e-01  \n",
       "6   2.358312e-16  \n",
       "7   8.415005e-04  \n",
       "8   1.105093e-02  \n",
       "9   3.253835e-04  \n",
       "10  1.431016e-03  \n",
       "11  5.711858e-01  \n",
       "12  1.796243e-06  \n",
       "13  4.785594e-01  \n",
       "14  6.890151e-01  \n",
       "15  9.517806e-02  "
      ]
     },
     "execution_count": 4,
     "metadata": {},
     "output_type": "execute_result"
    }
   ],
   "source": [
    "ntdat = dat.loc[(dat['year']==97) & (dat['poor']=='pobre') & (dat['progresa']=='0')]\n",
    "tdat = dat.loc[(dat['year']==97) & (dat['poor']=='pobre') & (dat['progresa']=='basal')]\n",
    "ntdat = pd.DataFrame(data=ntdat, columns=('sex','indig','dist_sec','sc','grc','fam_n','min_dist','dist_cap','hohedu','hohwag','welfare_index','hohsex','hohage','age','grc97','sc97'))\n",
    "tdat = pd.DataFrame(data=tdat, columns=('sex','indig','dist_sec','sc','grc','fam_n','min_dist','dist_cap','hohedu','hohwag','welfare_index','hohsex','hohage','age','grc97','sc97'))\n",
    "tdat = tdat.T\n",
    "ntdat = ntdat.T\n",
    "\n",
    "tdat.mean(axis=1)\n",
    "ntdat.mean(axis=1)\n",
    "\n",
    "diff = []\n",
    "p = []\n",
    "d = pd.DataFrame({'Variable name':tdat.mean(axis=1).index,'Average value (Treatment villages)':tdat.mean(axis=1).values,'Average value (Control villages)':ntdat.mean(axis=1).values})\n",
    "\n",
    "for i in range(16):\n",
    "    diff.append(d.iloc[i,1] - d.iloc[i,0])\n",
    "    p.append(scipy.stats.ttest_ind(tdat.iloc[i].dropna().values,ntdat.iloc[i].dropna().values).pvalue)\n",
    "    \n",
    "d = pd.DataFrame({'Variable name':tdat.mean(axis=1).index,'Average value (Treatment villages)':tdat.mean(axis=1).values,'Average value (Control villages)':ntdat.mean(axis=1).values,'Difference (Treat - Control)':diff,'p-value':p})\n",
    "d = pd.DataFrame(data=d, columns=('Variable name','Average value (Treatment villages)','Average value (Control villages)','Difference (Treat - Control)','p-value'))\n",
    "\n",
    "d"
   ]
  },
  {
   "cell_type": "markdown",
   "metadata": {
    "ein.tags": "worksheet-0",
    "slideshow": {
     "slide_type": "-"
    }
   },
   "source": [
    "### 1.3 Interpretation\n",
    "\n",
    "* A: Are there statistically significant differences between treatment and control villages as baseline? \n",
    "* B: Why does it matter if there are differences at baseline?\n",
    "* C: What does this imply about how to measure the impact of the treatment?"
   ]
  },
  {
   "cell_type": "markdown",
   "metadata": {
    "ein.tags": "worksheet-0",
    "slideshow": {
     "slide_type": "-"
    }
   },
   "source": [
    "-A. Yes, there are variables for which we obtain statitically significant differences (min_dist, hohedu,hohwage etc.). For other variables (indig,grc,fam_n etc.), we do not see statitically significant differences as p values are comparable to 0.05.\n",
    "\n",
    "-B. Baseline considered here is treatment and control villages. With statistically signifiacnt differences, it refrain us from establishing a causal relationship between effect of treatment and enrollment as the counterfactual is difficult to assume with differences at the baseline.\n",
    "\n",
    "-C. It helps us identify the demographic parameters in which the treatment and control populations are similar and can be leveraged for establishing causal relationship. For instance, if we take the example of head of household education, we see that the average value for treatment villages is higher than the control villages in 1997 and this difference is statistically insignificant which implies that we can make the counterfactual assumption that the average change in the control group represents the counterfactual change in the treatment group if there were no treatment."
   ]
  },
  {
   "cell_type": "markdown",
   "metadata": {
    "ein.tags": "worksheet-0",
    "slideshow": {
     "slide_type": "-"
    }
   },
   "source": [
    "### 1.4 Graphical exploration, part 1\n",
    "\n",
    "For each level of household head education, compute the average\n",
    "enrollment rate in 1997. Create a scatterplot that shows this\n",
    "relationship. What do you notice?"
   ]
  },
  {
   "cell_type": "code",
   "execution_count": 5,
   "metadata": {
    "autoscroll": false,
    "ein.tags": "worksheet-0",
    "scrolled": false,
    "slideshow": {
     "slide_type": "-"
    }
   },
   "outputs": [
    {
     "data": {
      "image/png": "[encoded data removed]",
      "text/plain": [
       "<matplotlib.figure.Figure at 0x1d4ebd81a90>"
      ]
     },
     "metadata": {},
     "output_type": "display_data"
    },
    {
     "data": {
      "image/png": "[encoded data removed]",
      "text/plain": [
       "<matplotlib.figure.Figure at 0x1d4eb449e80>"
      ]
     },
     "metadata": {},
     "output_type": "display_data"
    }
   ],
   "source": [
    "bdat = dat[dat['year']==97]\n",
    "g = bdat.groupby('hohedu').sc97.mean()\n",
    "\n",
    "plt.style.use('ggplot')\n",
    "plt.figure(figsize=(15,8))\n",
    "\n",
    "plt.plot(g.index,g.values, '-o')\n",
    "plt.xlabel('Education level of the Head of Household',fontsize=18)\n",
    "plt.ylabel('Rate of Enrollment',fontsize=18)\n",
    "plt.title('Rate of Employment by Education level of the Head of the Household',fontsize=20)\n",
    "plt.show()\n",
    "\n",
    "bdat = dat[dat['year']==97]\n",
    "g = bdat.groupby('hohedu').hohwag.mean()\n",
    "\n",
    "plt.figure(figsize=(15,8))\n",
    "plt.plot(g.index,g.values,'-o')\n",
    "plt.xlabel('Education level of the Head of Household',fontsize=18)\n",
    "plt.ylabel('Average Head of Household Wages',fontsize=18)\n",
    "plt.title('Average value of Head of Household wages by Education level of the Head of the Household',fontsize=20)\n",
    "plt.show()"
   ]
  },
  {
   "cell_type": "markdown",
   "metadata": {
    "ein.tags": "worksheet-0",
    "slideshow": {
     "slide_type": "-"
    }
   },
   "source": [
    "Based on the above, we notice that with increase education level of the head of the household, there is an increase in the enrollment rate. However, at higher years of education for head od household(>18), there is a sudden decrease in the rate of enrollment. Though, it is contradictory to the inituition that more educated the elders in the family leads to better support of child education in the household however, financial aspect could be the reason for most of these cases which is evident in the second plot where we see dip in the average head of household wages drop at th higher level of education(>18)."
   ]
  },
  {
   "cell_type": "markdown",
   "metadata": {
    "ein.tags": "worksheet-0",
    "slideshow": {
     "slide_type": "-"
    }
   },
   "source": [
    "### 1.5 Graphical exploration, part 2\n",
    "\n",
    "Create a histogram of village enrollment rates **among poor households\n",
    "in treated villages**, before and after treatment.  Specifically, for\n",
    "each village, calculate the average rate of enrollment of poor\n",
    "households in treated villages in 1997, then compute the average rate\n",
    "of enrollment of poor households in treated villages in 1998. Create\n",
    "two separate histograms showing the distribution of these average\n",
    "enrollments rates, one histogram for 1997 and one histogram for\n",
    "1998. On each histogram, draw a vertical line that intersects the\n",
    "x-axis at the average value (across all households). Does there appear\n",
    "to be a difference? Is this difference statistically significant?"
   ]
  },
  {
   "cell_type": "code",
   "execution_count": 14,
   "metadata": {
    "autoscroll": false,
    "ein.tags": "worksheet-0",
    "scrolled": false,
    "slideshow": {
     "slide_type": "-"
    }
   },
   "outputs": [
    {
     "data": {
      "image/png": "[encoded data removed]",
      "text/plain": [
       "<matplotlib.figure.Figure at 0x1d4eae14dd8>"
      ]
     },
     "metadata": {},
     "output_type": "display_data"
    }
   ],
   "source": [
    "bdat = dat[(dat['year']==97) & (dat['poor']=='pobre') & (dat['progresa']=='basal')]\n",
    "g1 = bdat.groupby('village').sc97.mean()\n",
    "\n",
    "plt.figure(figsize=(8,8))\n",
    "plt.hist(g1.values)\n",
    "plt.ylabel('Frequency',fontsize=18)\n",
    "plt.xlabel('Rate of Enrollment',fontsize=18)\n",
    "plt.title('Rate of Enrollement in year 1997', fontsize=20)\n",
    "plt.axvline(x=g.values.mean(), color='k', linestyle='--')\n",
    "plt.text(x=g1.values.mean()+0.020,y=20,s=round(g1.values.mean(),2))\n",
    "plt.show()"
   ]
  },
  {
   "cell_type": "code",
   "execution_count": 15,
   "metadata": {},
   "outputs": [
    {
     "data": {
      "image/png": "[encoded data removed]",
      "text/plain": [
       "<matplotlib.figure.Figure at 0x1d4ec7fb1d0>"
      ]
     },
     "metadata": {},
     "output_type": "display_data"
    },
    {
     "name": "stdout",
     "output_type": "stream",
     "text": [
      "P-value for treatment villages(before and after 1998): 0.0442487003657\n"
     ]
    }
   ],
   "source": [
    "bdat1 = dat[(dat['year']==98) & (dat['poor']=='pobre') & (dat['progresa']=='basal')]\n",
    "g = bdat1.groupby('village').sc.mean()\n",
    "plt.figure(figsize=(8,8))\n",
    "plt.hist(g.values)\n",
    "plt.ylabel('Frequency',fontsize=18)\n",
    "plt.xlabel('Rate of Enrollment',fontsize=18)\n",
    "plt.title('Rate of Enrollement in year 1998',fontsize=20)\n",
    "plt.axvline(x=g.values.mean(), color='k', linestyle='--')\n",
    "plt.text(x=g.values.mean()+0.005,y=20,s=round(g.values.mean(),2))\n",
    "plt.show()\n",
    "\n",
    "print(\"P-value for treatment villages(before and after 1998):\",scipy.stats.ttest_ind(g1,g).pvalue)"
   ]
  },
  {
   "cell_type": "markdown",
   "metadata": {
    "ein.tags": "worksheet-0",
    "slideshow": {
     "slide_type": "-"
    }
   },
   "source": [
    "* There is a small difference between average rate of enrollement before and after 1998. It comes out to be around 0.02 approx. \n",
    "* Yes, this difference is statistically significant as the p-value(0.044 approx) is less than the signigifcant critical value (0.05) which means we can reject the null hypothesis that the means/averages are equal."
   ]
  },
  {
   "cell_type": "markdown",
   "metadata": {
    "ein.tags": "worksheet-0",
    "slideshow": {
     "slide_type": "-"
    }
   },
   "source": [
    "## Part 2: Measuring Impact\n",
    "\n",
    "Our goal is to estimate the causal impact of the PROGRESA program on\n",
    "the social and economic outcomes of individuals in Mexico. We will\n",
    "focus on the impact of the program on the poor (those with\n",
    "poor=='pobre'), since only the poor were eligible to receive the\n",
    "PROGRESA assistance.\n",
    "\n",
    "### 2.1 Cross-Sectional Estimator: T-test\n",
    "\n",
    "Begin by estimating the impact of Progresa using \"simple differences.\"\n",
    "Restricting yourself to data from 1998 (after treatment), calculate\n",
    "the average enrollment rate among **poor** households in the Treatment\n",
    "villages and the average enrollment rate among **poor** households in\n",
    "the control villages. Use a t-test to determine if this difference is\n",
    "statistically significant. What do you conclude?"
   ]
  },
  {
   "cell_type": "code",
   "execution_count": 7,
   "metadata": {
    "autoscroll": false,
    "ein.tags": "worksheet-0",
    "slideshow": {
     "slide_type": "-"
    }
   },
   "outputs": [
    {
     "name": "stdout",
     "output_type": "stream",
     "text": [
      "progresa\n",
      "0        0.807637\n",
      "basal    0.846479\n",
      "Name: sc, dtype: float64\n",
      "\n",
      "P-value with the t test: 6.63634444752e-17\n"
     ]
    }
   ],
   "source": [
    "dat1 = dat[(dat['poor']=='pobre') & (dat['year']==98)]\n",
    "dat1.groupby('progresa').sc.mean()\n",
    "\n",
    "print(dat1.groupby('progresa').sc.mean())\n",
    "\n",
    "tdat1 = dat1[dat1['progresa']=='basal']\n",
    "ntdat1 = dat1[dat1['progresa']=='0']\n",
    "\n",
    "print(\"\\nP-value with the t test:\",scipy.stats.ttest_ind(tdat1['sc'].dropna(),ntdat1['sc'].dropna()).pvalue)"
   ]
  },
  {
   "cell_type": "markdown",
   "metadata": {
    "ein.tags": "worksheet-0",
    "slideshow": {
     "slide_type": "-"
    }
   },
   "source": [
    "* The average rate of enrollment in treatment villages is 0.84 approx. and average rate of enrollment for control villages is 0.80 approx.\n",
    "* Based on the above results, we had higher average value of enrollment in the treatment villages as compared to controlled villages. The p-value is small(<0.05) which means the results are statistically significant and we reject the null hypothesis that the average values before and after treatment are equal. Hence, progresa did have an impact on the enrollment of children in the schools which was around 0.038 approx."
   ]
  },
  {
   "cell_type": "markdown",
   "metadata": {
    "ein.tags": "worksheet-0",
    "slideshow": {
     "slide_type": "-"
    }
   },
   "source": [
    "### 2.2 Cross-Sectional Estimator: Regression\n",
    "\n",
    "Estimate the effects of Progresa on enrollment using a regression\n",
    "model, by regressing the 1998 enrollment rates **of the poor** on\n",
    "treatment assignment.  Do not include any additional control\n",
    "variables.\n",
    "Discuss the following:\n",
    "\n",
    "* Based on this model, how much did Progresa increase the likelihood of a child enrolling?\n",
    "* How does your regression estimate compare to your t-test estimate from part 2.1?\n",
    "* Based on this regression model, can we reject the null hypothesis that the treatment effects are zero? \n",
    "* What is the counterfactual assumption underlying this regression?\n",
    "\n",
    "Note: I recommend to use statsmodels.formula.api as this allows to use\n",
    "convenient R-style formulas and provedes nice summaries of the results."
   ]
  },
  {
   "cell_type": "code",
   "execution_count": 8,
   "metadata": {
    "autoscroll": false,
    "ein.tags": "worksheet-0",
    "slideshow": {
     "slide_type": "-"
    }
   },
   "outputs": [
    {
     "data": {
      "text/html": [
       "<table class=\"simpletable\">\n",
       "<caption>OLS Regression Results</caption>\n",
       "<tr>\n",
       "  <th>Dep. Variable:</th>           <td>sc</td>        <th>  R-squared:         </th> <td>   0.003</td> \n",
       "</tr>\n",
       "<tr>\n",
       "  <th>Model:</th>                   <td>OLS</td>       <th>  Adj. R-squared:    </th> <td>   0.003</td> \n",
       "</tr>\n",
       "<tr>\n",
       "  <th>Method:</th>             <td>Least Squares</td>  <th>  F-statistic:       </th> <td>   69.87</td> \n",
       "</tr>\n",
       "<tr>\n",
       "  <th>Date:</th>             <td>Wed, 02 May 2018</td> <th>  Prob (F-statistic):</th> <td>6.64e-17</td> \n",
       "</tr>\n",
       "<tr>\n",
       "  <th>Time:</th>                 <td>14:06:58</td>     <th>  Log-Likelihood:    </th> <td> -11926.</td> \n",
       "</tr>\n",
       "<tr>\n",
       "  <th>No. Observations:</th>      <td> 27450</td>      <th>  AIC:               </th> <td>2.386e+04</td>\n",
       "</tr>\n",
       "<tr>\n",
       "  <th>Df Residuals:</th>          <td> 27448</td>      <th>  BIC:               </th> <td>2.387e+04</td>\n",
       "</tr>\n",
       "<tr>\n",
       "  <th>Df Model:</th>              <td>     1</td>      <th>                     </th>     <td> </td>    \n",
       "</tr>\n",
       "<tr>\n",
       "  <th>Covariance Type:</th>      <td>nonrobust</td>    <th>                     </th>     <td> </td>    \n",
       "</tr>\n",
       "</table>\n",
       "<table class=\"simpletable\">\n",
       "<tr>\n",
       "          <td></td>             <th>coef</th>     <th>std err</th>      <th>t</th>      <th>P>|t|</th>  <th>[0.025</th>    <th>0.975]</th>  \n",
       "</tr>\n",
       "<tr>\n",
       "  <th>Intercept</th>         <td>    0.8076</td> <td>    0.004</td> <td>  220.676</td> <td> 0.000</td> <td>    0.800</td> <td>    0.815</td>\n",
       "</tr>\n",
       "<tr>\n",
       "  <th>progresa[T.basal]</th> <td>    0.0388</td> <td>    0.005</td> <td>    8.359</td> <td> 0.000</td> <td>    0.030</td> <td>    0.048</td>\n",
       "</tr>\n",
       "</table>\n",
       "<table class=\"simpletable\">\n",
       "<tr>\n",
       "  <th>Omnibus:</th>       <td>7638.939</td> <th>  Durbin-Watson:     </th> <td>   1.734</td> \n",
       "</tr>\n",
       "<tr>\n",
       "  <th>Prob(Omnibus):</th>  <td> 0.000</td>  <th>  Jarque-Bera (JB):  </th> <td>15767.534</td>\n",
       "</tr>\n",
       "<tr>\n",
       "  <th>Skew:</th>           <td>-1.767</td>  <th>  Prob(JB):          </th> <td>    0.00</td> \n",
       "</tr>\n",
       "<tr>\n",
       "  <th>Kurtosis:</th>       <td> 4.140</td>  <th>  Cond. No.          </th> <td>    3.01</td> \n",
       "</tr>\n",
       "</table>"
      ],
      "text/plain": [
       "<class 'statsmodels.iolib.summary.Summary'>\n",
       "\"\"\"\n",
       "                            OLS Regression Results                            \n",
       "==============================================================================\n",
       "Dep. Variable:                     sc   R-squared:                       0.003\n",
       "Model:                            OLS   Adj. R-squared:                  0.003\n",
       "Method:                 Least Squares   F-statistic:                     69.87\n",
       "Date:                Wed, 02 May 2018   Prob (F-statistic):           6.64e-17\n",
       "Time:                        14:06:58   Log-Likelihood:                -11926.\n",
       "No. Observations:               27450   AIC:                         2.386e+04\n",
       "Df Residuals:                   27448   BIC:                         2.387e+04\n",
       "Df Model:                           1                                         \n",
       "Covariance Type:            nonrobust                                         \n",
       "=====================================================================================\n",
       "                        coef    std err          t      P>|t|      [0.025      0.975]\n",
       "-------------------------------------------------------------------------------------\n",
       "Intercept             0.8076      0.004    220.676      0.000       0.800       0.815\n",
       "progresa[T.basal]     0.0388      0.005      8.359      0.000       0.030       0.048\n",
       "==============================================================================\n",
       "Omnibus:                     7638.939   Durbin-Watson:                   1.734\n",
       "Prob(Omnibus):                  0.000   Jarque-Bera (JB):            15767.534\n",
       "Skew:                          -1.767   Prob(JB):                         0.00\n",
       "Kurtosis:                       4.140   Cond. No.                         3.01\n",
       "==============================================================================\n",
       "\n",
       "Warnings:\n",
       "[1] Standard Errors assume that the covariance matrix of the errors is correctly specified.\n",
       "\"\"\""
      ]
     },
     "execution_count": 8,
     "metadata": {},
     "output_type": "execute_result"
    }
   ],
   "source": [
    "m = smf.ols(formula='sc~progresa',data=dat[(dat['poor']=='pobre') & (dat['year']==98)])\n",
    "m.fit().summary()"
   ]
  },
  {
   "cell_type": "markdown",
   "metadata": {
    "ein.tags": "worksheet-0",
    "slideshow": {
     "slide_type": "-"
    }
   },
   "source": [
    "* Based on the above results, a children with progresa had 0.0388 more likelihood of enrolling in educations as compared to one without progresa.\n",
    "* Regression estimate with progresa is 0.8464 which is similar to the one found in 2.1. Both are statistically significant.\n",
    "* Yes, since the p-value is small, we can reject the null hypothesis that treatment effects are zero.\n",
    "* The counterfactual assumption is that the demographics of the populations in the two baselines(treatment and controlled) are similar. It helps us establish a causal relationship."
   ]
  },
  {
   "cell_type": "markdown",
   "metadata": {
    "ein.tags": "worksheet-0",
    "slideshow": {
     "slide_type": "-"
    }
   },
   "source": [
    "### 2.3 Multiple Regression\n",
    "\n",
    "Re-run the above regression estimated but this time include a set of\n",
    "relevant control variables. Include, for instance, age, distance to a secondary\n",
    "school, gender, education of household head, welfare index,\n",
    "indigenous, etc.\n",
    "\n",
    "* How do the controls affect the point estimate of treatment effect?\n",
    "* How do the controls affect the standard error on the treatment effect? \n",
    "* How do you interpret the differences (or similarities) between your estimates of 2.2 and 2.3?"
   ]
  },
  {
   "cell_type": "code",
   "execution_count": 9,
   "metadata": {
    "autoscroll": false,
    "ein.tags": "worksheet-0",
    "slideshow": {
     "slide_type": "-"
    }
   },
   "outputs": [
    {
     "data": {
      "text/html": [
       "<table class=\"simpletable\">\n",
       "<caption>OLS Regression Results</caption>\n",
       "<tr>\n",
       "  <th>Dep. Variable:</th>           <td>sc</td>        <th>  R-squared:         </th> <td>   0.267</td> \n",
       "</tr>\n",
       "<tr>\n",
       "  <th>Model:</th>                   <td>OLS</td>       <th>  Adj. R-squared:    </th> <td>   0.267</td> \n",
       "</tr>\n",
       "<tr>\n",
       "  <th>Method:</th>             <td>Least Squares</td>  <th>  F-statistic:       </th> <td>   1419.</td> \n",
       "</tr>\n",
       "<tr>\n",
       "  <th>Date:</th>             <td>Wed, 02 May 2018</td> <th>  Prob (F-statistic):</th>  <td>  0.00</td>  \n",
       "</tr>\n",
       "<tr>\n",
       "  <th>Time:</th>                 <td>14:06:58</td>     <th>  Log-Likelihood:    </th> <td> -7639.4</td> \n",
       "</tr>\n",
       "<tr>\n",
       "  <th>No. Observations:</th>      <td> 27267</td>      <th>  AIC:               </th> <td>1.529e+04</td>\n",
       "</tr>\n",
       "<tr>\n",
       "  <th>Df Residuals:</th>          <td> 27259</td>      <th>  BIC:               </th> <td>1.536e+04</td>\n",
       "</tr>\n",
       "<tr>\n",
       "  <th>Df Model:</th>              <td>     7</td>      <th>                     </th>     <td> </td>    \n",
       "</tr>\n",
       "<tr>\n",
       "  <th>Covariance Type:</th>      <td>nonrobust</td>    <th>                     </th>     <td> </td>    \n",
       "</tr>\n",
       "</table>\n",
       "<table class=\"simpletable\">\n",
       "<tr>\n",
       "          <td></td>             <th>coef</th>     <th>std err</th>      <th>t</th>      <th>P>|t|</th>  <th>[0.025</th>    <th>0.975]</th>  \n",
       "</tr>\n",
       "<tr>\n",
       "  <th>Intercept</th>         <td>    1.5025</td> <td>    0.014</td> <td>  105.342</td> <td> 0.000</td> <td>    1.475</td> <td>    1.530</td>\n",
       "</tr>\n",
       "<tr>\n",
       "  <th>progresa[T.basal]</th> <td>    0.0352</td> <td>    0.004</td> <td>    8.799</td> <td> 0.000</td> <td>    0.027</td> <td>    0.043</td>\n",
       "</tr>\n",
       "<tr>\n",
       "  <th>age</th>               <td>   -0.0655</td> <td>    0.001</td> <td>  -95.105</td> <td> 0.000</td> <td>   -0.067</td> <td>   -0.064</td>\n",
       "</tr>\n",
       "<tr>\n",
       "  <th>sex</th>               <td>    0.0310</td> <td>    0.004</td> <td>    7.977</td> <td> 0.000</td> <td>    0.023</td> <td>    0.039</td>\n",
       "</tr>\n",
       "<tr>\n",
       "  <th>hohedu</th>            <td>    0.0085</td> <td>    0.001</td> <td>   10.951</td> <td> 0.000</td> <td>    0.007</td> <td>    0.010</td>\n",
       "</tr>\n",
       "<tr>\n",
       "  <th>welfare_index</th>     <td> 3.227e-05</td> <td> 1.72e-05</td> <td>    1.872</td> <td> 0.061</td> <td>-1.52e-06</td> <td> 6.61e-05</td>\n",
       "</tr>\n",
       "<tr>\n",
       "  <th>indig</th>             <td>    0.0468</td> <td>    0.004</td> <td>   11.283</td> <td> 0.000</td> <td>    0.039</td> <td>    0.055</td>\n",
       "</tr>\n",
       "<tr>\n",
       "  <th>dist_sec</th>          <td>   -0.0117</td> <td>    0.001</td> <td>  -13.361</td> <td> 0.000</td> <td>   -0.013</td> <td>   -0.010</td>\n",
       "</tr>\n",
       "</table>\n",
       "<table class=\"simpletable\">\n",
       "<tr>\n",
       "  <th>Omnibus:</th>       <td>2993.090</td> <th>  Durbin-Watson:     </th> <td>   1.718</td>\n",
       "</tr>\n",
       "<tr>\n",
       "  <th>Prob(Omnibus):</th>  <td> 0.000</td>  <th>  Jarque-Bera (JB):  </th> <td>4083.947</td>\n",
       "</tr>\n",
       "<tr>\n",
       "  <th>Skew:</th>           <td>-0.940</td>  <th>  Prob(JB):          </th> <td>    0.00</td>\n",
       "</tr>\n",
       "<tr>\n",
       "  <th>Kurtosis:</th>       <td> 3.248</td>  <th>  Cond. No.          </th> <td>4.90e+03</td>\n",
       "</tr>\n",
       "</table>"
      ],
      "text/plain": [
       "<class 'statsmodels.iolib.summary.Summary'>\n",
       "\"\"\"\n",
       "                            OLS Regression Results                            \n",
       "==============================================================================\n",
       "Dep. Variable:                     sc   R-squared:                       0.267\n",
       "Model:                            OLS   Adj. R-squared:                  0.267\n",
       "Method:                 Least Squares   F-statistic:                     1419.\n",
       "Date:                Wed, 02 May 2018   Prob (F-statistic):               0.00\n",
       "Time:                        14:06:58   Log-Likelihood:                -7639.4\n",
       "No. Observations:               27267   AIC:                         1.529e+04\n",
       "Df Residuals:                   27259   BIC:                         1.536e+04\n",
       "Df Model:                           7                                         \n",
       "Covariance Type:            nonrobust                                         \n",
       "=====================================================================================\n",
       "                        coef    std err          t      P>|t|      [0.025      0.975]\n",
       "-------------------------------------------------------------------------------------\n",
       "Intercept             1.5025      0.014    105.342      0.000       1.475       1.530\n",
       "progresa[T.basal]     0.0352      0.004      8.799      0.000       0.027       0.043\n",
       "age                  -0.0655      0.001    -95.105      0.000      -0.067      -0.064\n",
       "sex                   0.0310      0.004      7.977      0.000       0.023       0.039\n",
       "hohedu                0.0085      0.001     10.951      0.000       0.007       0.010\n",
       "welfare_index      3.227e-05   1.72e-05      1.872      0.061   -1.52e-06    6.61e-05\n",
       "indig                 0.0468      0.004     11.283      0.000       0.039       0.055\n",
       "dist_sec             -0.0117      0.001    -13.361      0.000      -0.013      -0.010\n",
       "==============================================================================\n",
       "Omnibus:                     2993.090   Durbin-Watson:                   1.718\n",
       "Prob(Omnibus):                  0.000   Jarque-Bera (JB):             4083.947\n",
       "Skew:                          -0.940   Prob(JB):                         0.00\n",
       "Kurtosis:                       3.248   Cond. No.                     4.90e+03\n",
       "==============================================================================\n",
       "\n",
       "Warnings:\n",
       "[1] Standard Errors assume that the covariance matrix of the errors is correctly specified.\n",
       "[2] The condition number is large, 4.9e+03. This might indicate that there are\n",
       "strong multicollinearity or other numerical problems.\n",
       "\"\"\""
      ]
     },
     "execution_count": 9,
     "metadata": {},
     "output_type": "execute_result"
    }
   ],
   "source": [
    "m = smf.ols(formula='sc~progresa+age+sex+hohedu+welfare_index+indig+dist_sec',data=dat[(dat['poor']=='pobre') & (dat['year']==98)])\n",
    "m.fit().summary()"
   ]
  },
  {
   "cell_type": "markdown",
   "metadata": {
    "ein.tags": "worksheet-0",
    "slideshow": {
     "slide_type": "-"
    }
   },
   "source": [
    "* Point estimate of treatment effect is reduced slighlty when additional controls are added. Indicating that these additional controls are affecting the rate of enrollment of children in schools in addition to the pregresa treatment control.\n",
    "\n",
    "* Standard error is slightly reduced from 0.05 to 0.04 with addtion of more controls such as age, sex etc. Indicating we are more precisely able to measure the effect of treatment.\n",
    "\n",
    "* With addition of extra controls, we see that the effect of progresa is reduced slightly (from 0.038 to 0.035) indicating that these additional controls are also affecting the enrollment and overall effect of progresa treatment chnages with different values in these additional controls. The intercept value with indicates the effect on enrollment with no treatement in example 2.2, gives a lower value, meaning lesser impact the enrollment rate as compared to the second regression (2.3) where we see increased impact with no treatment as now it also caters for additional demographic parameters such as age, gender to analyze the overall effect."
   ]
  },
  {
   "cell_type": "markdown",
   "metadata": {
    "ein.tags": "worksheet-0",
    "slideshow": {
     "slide_type": "-"
    }
   },
   "source": [
    "### 2.4 Difference-in-Difference, version 1 (tabular)\n",
    "\n",
    "Thus far, we have computed the effects of Progresa by estimating the\n",
    "difference in 1998 enrollment rates across villages. An alternative\n",
    "approach would be to compute the treatment effect using a\n",
    "difference-in-differences framework.\n",
    "\n",
    "Begin by estimating the average treatment effects of the program for poor households using data from 1997 and 1998. Specifically, calculate:\n",
    "\n",
    "a) the difference (between 1997 and 1998) in enrollment rates among poor households in treated villages\n",
    "\n",
    "b) the difference (between 1997 and 1998) in enrollment rates among poor households in control villages.\n",
    "\n",
    "c) The difference between these two differences is your estimate.\n",
    "\n",
    "* What is your estimate of the impact, and how does it compare to your earlier (simple difference) results?\n",
    "\n",
    "* What is the counterfactual assumption underlying this estimate? \n"
   ]
  },
  {
   "cell_type": "code",
   "execution_count": 10,
   "metadata": {
    "autoscroll": false,
    "ein.tags": "worksheet-0",
    "slideshow": {
     "slide_type": "-"
    }
   },
   "outputs": [
    {
     "data": {
      "text/plain": [
       "progresa  year\n",
       "0         97      0.815186\n",
       "          98      0.807637\n",
       "basal     97      0.822697\n",
       "          98      0.846479\n",
       "Name: sc, dtype: float64"
      ]
     },
     "execution_count": 10,
     "metadata": {},
     "output_type": "execute_result"
    }
   ],
   "source": [
    "dat1 = dat[(dat['poor']=='pobre')]\n",
    "dat1.groupby(['progresa','year']).sc.mean()"
   ]
  },
  {
   "cell_type": "code",
   "execution_count": 20,
   "metadata": {},
   "outputs": [
    {
     "name": "stdout",
     "output_type": "stream",
     "text": [
      "Difference (between 1997 and 1998) in enrollment rates among poor households in control villages: -0.007548999999999917\n",
      "Difference (between 1997 and 1998) in enrollment rates among poor households in treated villages: 0.02378199999999997\n",
      "Difference between these two differences is your estimate: 0.016233000000000053\n"
     ]
    }
   ],
   "source": [
    "print(\"Difference (between 1997 and 1998) in enrollment rates among poor households in control villages:\",(0.822697 - 0.815186))\n",
    "print(\"Difference (between 1997 and 1998) in enrollment rates among poor households in treated villages:\",(0.846479 - 0.807637 ))\n",
    "print(\"Difference between these two differences is your estimate:\",(0.03884199999999993 -  0.007511000000000045))"
   ]
  },
  {
   "cell_type": "markdown",
   "metadata": {
    "ein.tags": "worksheet-0",
    "slideshow": {
     "slide_type": "-"
    }
   },
   "source": [
    "* Based on the above results, the estimate of the impact is approximately, 0.031 as compared to the previous scenario where the estimate of the impact was slightly higher, i.e., 0.038.\n",
    "* The counterfactual assumption underlying this estimate is that the average effect in the control groups represents the counterfactual change in the treatment group when no treatment is provided."
   ]
  },
  {
   "cell_type": "markdown",
   "metadata": {
    "ein.tags": "worksheet-0",
    "slideshow": {
     "slide_type": "-"
    }
   },
   "source": [
    "### 2.5 Difference-in-Difference, version 2 (regression)\n",
    "\n",
    "Now use a regression specification to estimate the average treatment\n",
    "effects of the program in a difference-in-differences\n",
    "framework. Include at least 5 control variables.\n",
    "\n",
    "* What is your estimate of the impact of Progresa? Be very specific in\n",
    "  interpreting your coefficients and standard errors, and make sure to\n",
    "  specify exactly what units you are measuring and estimating.\n",
    "\n",
    "* How do these estimates of the treatment effect compare to the\n",
    "  estimates based on the simple difference?\n",
    "\n",
    "* How do these estimates compare to the difference-in-difference\n",
    "  estimates from 2.4 above? What accounts for these differences?\n",
    "\n",
    "* What is the counterfactual assumption underlying this regression? "
   ]
  },
  {
   "cell_type": "code",
   "execution_count": 12,
   "metadata": {
    "autoscroll": false,
    "ein.tags": "worksheet-0",
    "slideshow": {
     "slide_type": "-"
    }
   },
   "outputs": [
    {
     "data": {
      "text/html": [
       "<table class=\"simpletable\">\n",
       "<caption>OLS Regression Results</caption>\n",
       "<tr>\n",
       "  <th>Dep. Variable:</th>           <td>sc</td>        <th>  R-squared:         </th> <td>   0.275</td> \n",
       "</tr>\n",
       "<tr>\n",
       "  <th>Model:</th>                   <td>OLS</td>       <th>  Adj. R-squared:    </th> <td>   0.275</td> \n",
       "</tr>\n",
       "<tr>\n",
       "  <th>Method:</th>             <td>Least Squares</td>  <th>  F-statistic:       </th> <td>   2754.</td> \n",
       "</tr>\n",
       "<tr>\n",
       "  <th>Date:</th>             <td>Wed, 02 May 2018</td> <th>  Prob (F-statistic):</th>  <td>  0.00</td>  \n",
       "</tr>\n",
       "<tr>\n",
       "  <th>Time:</th>                 <td>14:06:59</td>     <th>  Log-Likelihood:    </th> <td> -16832.</td> \n",
       "</tr>\n",
       "<tr>\n",
       "  <th>No. Observations:</th>      <td> 58200</td>      <th>  AIC:               </th> <td>3.368e+04</td>\n",
       "</tr>\n",
       "<tr>\n",
       "  <th>Df Residuals:</th>          <td> 58191</td>      <th>  BIC:               </th> <td>3.376e+04</td>\n",
       "</tr>\n",
       "<tr>\n",
       "  <th>Df Model:</th>              <td>     8</td>      <th>                     </th>     <td> </td>    \n",
       "</tr>\n",
       "<tr>\n",
       "  <th>Covariance Type:</th>      <td>nonrobust</td>    <th>                     </th>     <td> </td>    \n",
       "</tr>\n",
       "</table>\n",
       "<table class=\"simpletable\">\n",
       "<tr>\n",
       "             <td></td>               <th>coef</th>     <th>std err</th>      <th>t</th>      <th>P>|t|</th>  <th>[0.025</th>    <th>0.975]</th>  \n",
       "</tr>\n",
       "<tr>\n",
       "  <th>Intercept</th>              <td>   -1.2160</td> <td>    0.426</td> <td>   -2.857</td> <td> 0.004</td> <td>   -2.050</td> <td>   -0.382</td>\n",
       "</tr>\n",
       "<tr>\n",
       "  <th>progresa[T.basal]</th>      <td>   -2.9979</td> <td>    0.539</td> <td>   -5.559</td> <td> 0.000</td> <td>   -4.055</td> <td>   -1.941</td>\n",
       "</tr>\n",
       "<tr>\n",
       "  <th>year</th>                   <td>    0.0279</td> <td>    0.004</td> <td>    6.391</td> <td> 0.000</td> <td>    0.019</td> <td>    0.036</td>\n",
       "</tr>\n",
       "<tr>\n",
       "  <th>progresa[T.basal]:year</th> <td>    0.0309</td> <td>    0.006</td> <td>    5.594</td> <td> 0.000</td> <td>    0.020</td> <td>    0.042</td>\n",
       "</tr>\n",
       "<tr>\n",
       "  <th>age</th>                    <td>   -0.0654</td> <td>    0.000</td> <td> -143.157</td> <td> 0.000</td> <td>   -0.066</td> <td>   -0.064</td>\n",
       "</tr>\n",
       "<tr>\n",
       "  <th>sex</th>                    <td>    0.0338</td> <td>    0.003</td> <td>   12.598</td> <td> 0.000</td> <td>    0.029</td> <td>    0.039</td>\n",
       "</tr>\n",
       "<tr>\n",
       "  <th>welfare_index</th>          <td> 2.382e-05</td> <td> 1.19e-05</td> <td>    2.002</td> <td> 0.045</td> <td> 5.01e-07</td> <td> 4.71e-05</td>\n",
       "</tr>\n",
       "<tr>\n",
       "  <th>dist_sec</th>               <td>   -0.0102</td> <td>    0.001</td> <td>  -16.502</td> <td> 0.000</td> <td>   -0.011</td> <td>   -0.009</td>\n",
       "</tr>\n",
       "<tr>\n",
       "  <th>hohedu</th>                 <td>    0.0076</td> <td>    0.001</td> <td>   14.163</td> <td> 0.000</td> <td>    0.007</td> <td>    0.009</td>\n",
       "</tr>\n",
       "</table>\n",
       "<table class=\"simpletable\">\n",
       "<tr>\n",
       "  <th>Omnibus:</th>       <td>5608.624</td> <th>  Durbin-Watson:     </th> <td>   1.476</td>\n",
       "</tr>\n",
       "<tr>\n",
       "  <th>Prob(Omnibus):</th>  <td> 0.000</td>  <th>  Jarque-Bera (JB):  </th> <td>7408.785</td>\n",
       "</tr>\n",
       "<tr>\n",
       "  <th>Skew:</th>           <td>-0.872</td>  <th>  Prob(JB):          </th> <td>    0.00</td>\n",
       "</tr>\n",
       "<tr>\n",
       "  <th>Kurtosis:</th>       <td> 3.120</td>  <th>  Cond. No.          </th> <td>3.29e+05</td>\n",
       "</tr>\n",
       "</table>"
      ],
      "text/plain": [
       "<class 'statsmodels.iolib.summary.Summary'>\n",
       "\"\"\"\n",
       "                            OLS Regression Results                            \n",
       "==============================================================================\n",
       "Dep. Variable:                     sc   R-squared:                       0.275\n",
       "Model:                            OLS   Adj. R-squared:                  0.275\n",
       "Method:                 Least Squares   F-statistic:                     2754.\n",
       "Date:                Wed, 02 May 2018   Prob (F-statistic):               0.00\n",
       "Time:                        14:06:59   Log-Likelihood:                -16832.\n",
       "No. Observations:               58200   AIC:                         3.368e+04\n",
       "Df Residuals:                   58191   BIC:                         3.376e+04\n",
       "Df Model:                           8                                         \n",
       "Covariance Type:            nonrobust                                         \n",
       "==========================================================================================\n",
       "                             coef    std err          t      P>|t|      [0.025      0.975]\n",
       "------------------------------------------------------------------------------------------\n",
       "Intercept                 -1.2160      0.426     -2.857      0.004      -2.050      -0.382\n",
       "progresa[T.basal]         -2.9979      0.539     -5.559      0.000      -4.055      -1.941\n",
       "year                       0.0279      0.004      6.391      0.000       0.019       0.036\n",
       "progresa[T.basal]:year     0.0309      0.006      5.594      0.000       0.020       0.042\n",
       "age                       -0.0654      0.000   -143.157      0.000      -0.066      -0.064\n",
       "sex                        0.0338      0.003     12.598      0.000       0.029       0.039\n",
       "welfare_index           2.382e-05   1.19e-05      2.002      0.045    5.01e-07    4.71e-05\n",
       "dist_sec                  -0.0102      0.001    -16.502      0.000      -0.011      -0.009\n",
       "hohedu                     0.0076      0.001     14.163      0.000       0.007       0.009\n",
       "==============================================================================\n",
       "Omnibus:                     5608.624   Durbin-Watson:                   1.476\n",
       "Prob(Omnibus):                  0.000   Jarque-Bera (JB):             7408.785\n",
       "Skew:                          -0.872   Prob(JB):                         0.00\n",
       "Kurtosis:                       3.120   Cond. No.                     3.29e+05\n",
       "==============================================================================\n",
       "\n",
       "Warnings:\n",
       "[1] Standard Errors assume that the covariance matrix of the errors is correctly specified.\n",
       "[2] The condition number is large, 3.29e+05. This might indicate that there are\n",
       "strong multicollinearity or other numerical problems.\n",
       "\"\"\""
      ]
     },
     "execution_count": 12,
     "metadata": {},
     "output_type": "execute_result"
    }
   ],
   "source": [
    "m1 = smf.ols(formula='sc~progresa*year+age+sex+welfare_index+dist_sec+hohedu',data=dat[dat['poor']=='pobre'])\n",
    "m1.fit().summary()"
   ]
  },
  {
   "cell_type": "markdown",
   "metadata": {
    "ein.tags": "worksheet-0",
    "slideshow": {
     "slide_type": "-"
    }
   },
   "source": [
    "* The estimate impact of progresa was approx. around 0.03, indicating that between year 97 and 98 ,the likelihood of rate of enrollment increased by 3% between control and treatement villages. Hence, progresa had a positive impact on rate of enrollment.\n",
    "* The estimates for progresa reduced from approx. 4% to 3% from simple difference to diff in diff. It could be due to the fact that we are now also accounting for additional control variables.\n",
    "* Since, these estimates also cater for additional control variables such age and sex etc., the effect of progresa and baseline year seems to slightly reduce to 0.030 from 0.031. \n",
    "* The counterfactual assumpton underlying this regression is that the effect of change in control group between the two years (97 and 98) is comparable to counterfactual change in treatment group, when no treatment was provided."
   ]
  },
  {
   "cell_type": "markdown",
   "metadata": {
    "ein.tags": "worksheet-0",
    "slideshow": {
     "slide_type": "-"
    }
   },
   "source": [
    "### 2.6 Summary\n",
    "\n",
    "* Based on all the analysis you have undertaken to date, do you\n",
    "  believe that Progresa had a causal impact on the enrollment rates of\n",
    "  poor households in Mexico?  Explain by referring to the methods and\n",
    "  results above."
   ]
  },
  {
   "cell_type": "markdown",
   "metadata": {
    "ein.tags": "worksheet-0",
    "slideshow": {
     "slide_type": "-"
    }
   },
   "source": [
    "Based on the results obtained above, we have following observations:\n",
    "* Since, we saw statistically significant differences in the averages of treatment and control groups, with progresa as the baseline, it is difficult to assume the counterfactual that average effect or change in control group was comparable to counterfactual change in treatement group, when no treatment was provided.\n",
    "* Assuming the counterfactual, based on the cross sectional estimator, we see that progresa brought about 4% increase in enrollment rate in the treated villages as compared to the controlled villages. Similarly, looking at the results from diff in diff estimator, we can say that enrollment rates between treated and control villages, in the year 97 and 98 varied by approx 3.8%, implying the impact of progresa which led to increase in the enrollment.\n",
    "* When we analyzed the impact of additional control variables in addition to progresa, we notice that the overall impact of progresa reduces to about 3% which accounts for imapct of these additional varibales on enrollment rate.\n",
    "* It is difficult to obtain an exhaustive list of attributes which affect the rate of school enrollment. These unknown external factors may impact the response variable and would lead to different results for impact of progresa on enrollment rates and  assumption of the counterfactual for establishing causality."
   ]
  }
 ],
 "metadata": {
  "kernelspec": {
   "display_name": "Python 3",
   "language": "python",
   "name": "python3"
  },
  "language_info": {
   "codemirror_mode": {
    "name": "ipython",
    "version": 3
   },
   "file_extension": ".py",
   "mimetype": "text/x-python",
   "name": "python",
   "nbconvert_exporter": "python",
   "pygments_lexer": "ipython3",
   "version": "3.6.2"
  },
  "name": "ps03_progresa.ipynb"
 },
 "nbformat": 4,
 "nbformat_minor": 1
}
