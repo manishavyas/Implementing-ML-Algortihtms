{
 "cells": [
  {
   "cell_type": "code",
   "execution_count": 3,
   "metadata": {
    "collapsed": true
   },
   "outputs": [],
   "source": [
    "import numpy as np\n",
    "import matplotlib.pyplot as plt\n",
    "%matplotlib inline"
   ]
  },
  {
   "cell_type": "code",
   "execution_count": null,
   "metadata": {
    "collapsed": true
   },
   "outputs": [],
   "source": [
    "# Section 1.1"
   ]
  },
  {
   "cell_type": "code",
   "execution_count": 105,
   "metadata": {},
   "outputs": [
    {
     "name": "stdout",
     "output_type": "stream",
     "text": [
      "-0.010000000000000002\n",
      "-0.2\n",
      "0.08\n"
     ]
    }
   ],
   "source": [
    "def f(x):\n",
    "    return (-x*x)\n",
    "def grad(x):\n",
    "    return (-2*x)\n",
    "## see how it works\n",
    "x0 = 0.1\n",
    "\n",
    "R = 0.1\n",
    "x1 = x0 + R*grad(x0)\n",
    "\n",
    "print(f(x0))\n",
    "print(grad(x0))\n",
    "print (x1)"
   ]
  },
  {
   "cell_type": "code",
   "execution_count": 106,
   "metadata": {},
   "outputs": [
    {
     "name": "stdout",
     "output_type": "stream",
     "text": [
      "Value of function fx: -0.010000000000000002\n",
      "Value of the gradient: -0.2\n",
      "Value of function fx: -0.0064\n",
      "Value of the gradient: -0.16\n",
      "Value of function fx: -0.004096\n",
      "Value of the gradient: -0.128\n",
      "Value of function fx: -0.00262144\n",
      "Value of the gradient: -0.1024\n",
      "Value of function fx: -0.0016777216000000003\n",
      "Value of the gradient: -0.08192\n",
      "Value of function fx: -0.0010737418240000004\n",
      "Value of the gradient: -0.06553600000000001\n",
      "Value of function fx: -0.0006871947673600003\n",
      "Value of the gradient: -0.05242880000000001\n",
      "Value of function fx: -0.00043980465111040015\n",
      "Value of the gradient: -0.04194304000000001\n",
      "Value of function fx: -0.00028147497671065613\n",
      "Value of the gradient: -0.03355443200000001\n",
      "Value of function fx: -0.00018014398509481994\n",
      "Value of the gradient: -0.026843545600000008\n",
      "Value of function fx: -0.00011529215046068476\n",
      "Value of the gradient: -0.021474836480000006\n",
      "Value of function fx: -7.378697629483823e-05\n",
      "Value of the gradient: -0.017179869184000003\n",
      "Value of function fx: -4.722366482869647e-05\n",
      "Value of the gradient: -0.013743895347200002\n",
      "Value of function fx: -3.022314549036574e-05\n",
      "Value of the gradient: -0.010995116277760002\n",
      "Value of function fx: -1.934281311383407e-05\n",
      "Value of the gradient: -0.008796093022208\n",
      "Value of function fx: -1.2379400392853805e-05\n",
      "Value of the gradient: -0.007036874417766401\n",
      "Value of function fx: -7.922816251426435e-06\n",
      "Value of the gradient: -0.00562949953421312\n",
      "Value of function fx: -5.070602400912918e-06\n",
      "Value of the gradient: -0.004503599627370496\n",
      "Value of function fx: -3.245185536584268e-06\n",
      "Value of the gradient: -0.003602879701896397\n",
      "Value of function fx: -2.0769187434139313e-06\n",
      "Value of the gradient: -0.0028823037615171177\n",
      "Value of function fx: -1.3292279957849161e-06\n",
      "Value of the gradient: -0.002305843009213694\n",
      "Value of function fx: -8.507059173023462e-07\n",
      "Value of the gradient: -0.0018446744073709553\n",
      "Value of function fx: -5.444517870735017e-07\n",
      "Value of the gradient: -0.0014757395258967643\n",
      "\n",
      "\n",
      "Total number of iterations: 21\n",
      "Solution value: 0.0005902958103587057\n"
     ]
    }
   ],
   "source": [
    "l=[]\n",
    "i = 0\n",
    "\n",
    "while True:\n",
    "    a = x0\n",
    "    fx = f(x0)\n",
    "    gradient = grad(x0)\n",
    "    \n",
    "    print(\"Value of function fx:\",fx)\n",
    "    print(\"Value of the gradient:\",gradient)\n",
    "    \n",
    "    l.append(x0 + (R)*grad(x0))\n",
    "    x0 = l[i]\n",
    "    \n",
    "    if abs(grad(f(x0))) < (0.000001) or i > 50:\n",
    "        print (\"\\n\\nTotal number of iterations:\",i-1)\n",
    "        print (\"Solution value:\",l[i])\n",
    "        break\n",
    "    else:\n",
    "        i = i + 1"
   ]
  },
  {
   "cell_type": "code",
   "execution_count": 107,
   "metadata": {},
   "outputs": [],
   "source": [
    "# Section 1.2"
   ]
  },
  {
   "cell_type": "code",
   "execution_count": 108,
   "metadata": {},
   "outputs": [
    {
     "name": "stdout",
     "output_type": "stream",
     "text": [
      "[[-52]]\n",
      "[[ 8]\n",
      " [40]]\n"
     ]
    }
   ],
   "source": [
    "def f(x,A):\n",
    "    return (-x.T @ A @ x)\n",
    "def grad(x,A):\n",
    "    return (-2 * A @ x)\n",
    "\n",
    "## see how it works\n",
    "x0 = np.matrix(\"2;-3\")\n",
    "A = np.matrix(\"1,2;2,8\")\n",
    "R = 0.1\n",
    "print(f(x0,A))\n",
    "print(grad(x0,A))"
   ]
  },
  {
   "cell_type": "code",
   "execution_count": 109,
   "metadata": {},
   "outputs": [],
   "source": [
    "def gradient_ascent(x0,A,R):\n",
    "    m0 = []\n",
    "    l1 = []\n",
    "    cnt = 0\n",
    "\n",
    "    while True:\n",
    "        m0.append(x0[0,0])\n",
    "        l1.append(x0[1,0])\n",
    "        x1 = x0 + (R*grad(x0,A))\n",
    "        m0.append(x1[0,0])\n",
    "        l1.append(x1[1,0])\n",
    "        if abs(f(x1,A)-f(x0,A)) < (1e-6) or cnt == 20:\n",
    "            break\n",
    "        else:\n",
    "            x0 = x1\n",
    "            cnt = cnt + 1\n",
    "    print (m0)\n",
    "    return (m0,l1)"
   ]
  },
  {
   "cell_type": "code",
   "execution_count": 110,
   "metadata": {},
   "outputs": [],
   "source": [
    "## create 30x30 grid matrix\n",
    "n = 30\n",
    "ex1 = np.linspace(-5, 4, num=n)\n",
    "ex2 = np.linspace(-5, 4, num=n)\n",
    "grid1, grid2 = np.meshgrid(ex1, ex2)\n",
    "## fill the grid via looping.  You may prefer to use ufuncs instead.\n",
    "z = np.empty_like(grid1)\n",
    "for i in range(z.shape[0]):\n",
    "    for j in range(z.shape[1]):\n",
    "        x = np.array([grid1[i,j], grid2[i,j]])\n",
    "        z[i,j] = f(x,A)[0][0]"
   ]
  },
  {
   "cell_type": "code",
   "execution_count": 111,
   "metadata": {},
   "outputs": [
    {
     "name": "stdout",
     "output_type": "stream",
     "text": [
      "[2, 2.7999999999999998, 2.7999999999999998, 1.8399999999999999, 1.8399999999999999, 2.1600000000000001, 2.1600000000000001, 1.6095999999999999, 1.6095999999999999, 1.7043200000000001, 1.7043200000000001, 1.371008, 1.371008, 1.3649664000000001, 1.3649664000000001, 1.1504384000000001, 1.1504384000000001, 1.1036661760000002, 1.1036661760000002, 0.95701381120000006, 0.95701381120000006, 0.89774911488000009, 0.89774911488000009, 0.79203866214400009, 0.79203866214400009, 0.73296716595200007, 0.73296716595200007, 0.65349817696256007, 0.65349817696256007, 0.59979862160179209, 0.59979862160179209, 0.5381985575763969, 0.5381985575763969, 0.49151082934042634, 0.49151082934042634, 0.4427492427169793, 0.4427492427169793, 0.40311677932126871, 0.40311677932126871, 0.36398287120312045, 0.36398287120312045, 0.33079131300623604]\n"
     ]
    },
    {
     "data": {
      "text/plain": [
       "[<matplotlib.lines.Line2D at 0x23c8796e240>]"
      ]
     },
     "execution_count": 111,
     "metadata": {},
     "output_type": "execute_result"
    },
    {
     "data": {
      "image/png": "[encoded data removed]",
      "text/plain": [
       "<matplotlib.figure.Figure at 0x23c87874588>"
      ]
     },
     "metadata": {},
     "output_type": "display_data"
    }
   ],
   "source": [
    "## Make the plot\n",
    "plt.figure(figsize=(9,9))\n",
    "p = plt.contour(grid1, grid2, z,\n",
    "                levels = [-50, -20, -15, -10, -5, -2, -1, 0, 1, 2, 5, 10, 20, 50],\n",
    "                colors = 'black')\n",
    "plt.xlim(-4,6)\n",
    "plt.ylim(-3,1)\n",
    "plt.clabel(p, inline=1, fontsize=10)\n",
    "\n",
    "x0 = np.matrix(\"2; -3\")\n",
    "A = np.matrix(\"1,2;2,8\")\n",
    "R = 0.1\n",
    "m0, l1 = gradient_ascent(x0,A,R)\n",
    "\n",
    "## Add a few points\n",
    "plt.scatter(m0, l1, c='red', s=30)\n",
    "plt.plot(m0, l1, c='red')"
   ]
  },
  {
   "cell_type": "code",
   "execution_count": 112,
   "metadata": {},
   "outputs": [
    {
     "data": {
      "text/plain": [
       "matrix([[11,  4,  7, 10, 13],\n",
       "        [ 4, 17, 10, 13, 16],\n",
       "        [ 7, 10, 23, 16, 19],\n",
       "        [10, 13, 16, 29, 22],\n",
       "        [13, 16, 19, 22, 35]])"
      ]
     },
     "execution_count": 112,
     "metadata": {},
     "output_type": "execute_result"
    }
   ],
   "source": [
    "A = np.matrix(np.arange(1,26).reshape(5,5))\n",
    "A = 1/2 * (A + A.T) + 10 * (np.eye(5))\n",
    "A.astype(int)"
   ]
  },
  {
   "cell_type": "code",
   "execution_count": 113,
   "metadata": {},
   "outputs": [],
   "source": [
    "# Section 1.3"
   ]
  },
  {
   "cell_type": "code",
   "execution_count": 114,
   "metadata": {},
   "outputs": [
    {
     "name": "stdout",
     "output_type": "stream",
     "text": [
      "\n",
      "eigenvalues\n",
      " (array([ 81.31043674,   3.68956326,  10.        ,  10.        ,  10.        ]), matrix([[ -2.48318441e-01,  -7.33715171e-01,   6.32455532e-01,\n",
      "           1.22417347e-01,   2.57430627e-01],\n",
      "        [ -3.38483952e-01,  -4.30614229e-01,  -6.32455532e-01,\n",
      "           3.60186977e-01,  -4.77461925e-01],\n",
      "        [ -4.28649462e-01,  -1.27513288e-01,  -3.16227766e-01,\n",
      "          -5.28528454e-01,   4.99558849e-01],\n",
      "        [ -5.18814973e-01,   1.75587654e-01,   3.22700303e-16,\n",
      "          -5.13173410e-01,  -5.96454433e-01],\n",
      "        [ -6.08980483e-01,   4.78688595e-01,   3.16227766e-01,\n",
      "           5.59097540e-01,   3.16926881e-01]]))\n",
      "\n",
      "eigenvalues\n",
      " [ 81.31043674   3.68956326  10.          10.          10.        ]\n",
      "\n",
      "condition number 22.0379570765\n",
      "\n",
      "eigenvectors\n",
      " [[ -2.48318441e-01  -7.33715171e-01   6.32455532e-01   1.22417347e-01\n",
      "    2.57430627e-01]\n",
      " [ -3.38483952e-01  -4.30614229e-01  -6.32455532e-01   3.60186977e-01\n",
      "   -4.77461925e-01]\n",
      " [ -4.28649462e-01  -1.27513288e-01  -3.16227766e-01  -5.28528454e-01\n",
      "    4.99558849e-01]\n",
      " [ -5.18814973e-01   1.75587654e-01   3.22700303e-16  -5.13173410e-01\n",
      "   -5.96454433e-01]\n",
      " [ -6.08980483e-01   4.78688595e-01   3.16227766e-01   5.59097540e-01\n",
      "    3.16926881e-01]]\n"
     ]
    }
   ],
   "source": [
    "ev = np.linalg.eig(A)\n",
    "print('\\neigenvalues\\n', ev)\n",
    "val, vec = np.linalg.eig(A)\n",
    "print('\\neigenvalues\\n', val)\n",
    "print('\\ncondition number', np.linalg.cond(A))\n",
    "print('\\neigenvectors\\n', vec)"
   ]
  },
  {
   "cell_type": "code",
   "execution_count": 115,
   "metadata": {},
   "outputs": [
    {
     "data": {
      "text/plain": [
       "4.6944602540140332"
      ]
     },
     "execution_count": 115,
     "metadata": {},
     "output_type": "execute_result"
    }
   ],
   "source": [
    "condition_number = np.sqrt(max(abs(val))/abs(min(abs(val))))\n",
    "condition_number"
   ]
  },
  {
   "cell_type": "code",
   "execution_count": 116,
   "metadata": {},
   "outputs": [
    {
     "data": {
      "text/plain": [
       "array([[1, 1],\n",
       "       [1, 1]])"
      ]
     },
     "execution_count": 116,
     "metadata": {},
     "output_type": "execute_result"
    }
   ],
   "source": [
    "A = np.ones(4).reshape(2,2).astype(int)\n",
    "A"
   ]
  },
  {
   "cell_type": "code",
   "execution_count": 117,
   "metadata": {},
   "outputs": [
    {
     "data": {
      "text/plain": [
       "0.0"
      ]
     },
     "execution_count": 117,
     "metadata": {},
     "output_type": "execute_result"
    }
   ],
   "source": [
    "Determinant_A = np.linalg.det(A)\n",
    "Determinant_A"
   ]
  },
  {
   "cell_type": "code",
   "execution_count": 118,
   "metadata": {
    "scrolled": true
   },
   "outputs": [
    {
     "data": {
      "text/plain": [
       "matrix([[2, 1],\n",
       "        [1, 2]])"
      ]
     },
     "execution_count": 118,
     "metadata": {},
     "output_type": "execute_result"
    }
   ],
   "source": [
    "alpha = 1\n",
    "C = np.matrix(A + np.eye(2) * alpha)\n",
    "C.astype(int)"
   ]
  },
  {
   "cell_type": "code",
   "execution_count": 119,
   "metadata": {
    "collapsed": true
   },
   "outputs": [],
   "source": [
    "def eig_cond(A):\n",
    "    ev = np.linalg.eig(A)\n",
    "    val, vec = np.linalg.eig(A)\n",
    "    condn = np.sqrt(max(abs(val))/abs(min(abs(val))))\n",
    "    return (val, vec, condn)"
   ]
  },
  {
   "cell_type": "code",
   "execution_count": 120,
   "metadata": {},
   "outputs": [],
   "source": [
    "val, vec, condn = eig_cond(C)"
   ]
  },
  {
   "cell_type": "code",
   "execution_count": 121,
   "metadata": {},
   "outputs": [
    {
     "data": {
      "text/plain": [
       "matrix([[-14.]])"
      ]
     },
     "execution_count": 121,
     "metadata": {},
     "output_type": "execute_result"
    }
   ],
   "source": [
    "x0 = np.matrix(\"2; -3\")\n",
    "f(x0,C)"
   ]
  },
  {
   "cell_type": "code",
   "execution_count": 122,
   "metadata": {},
   "outputs": [],
   "source": [
    "## create 30x30 grid matrix\n",
    "n = 30\n",
    "ex1 = np.linspace(-5, 4, num=n)\n",
    "ex2 = np.linspace(-5, 4, num=n)\n",
    "grid1, grid2 = np.meshgrid(ex1, ex2)\n",
    "## fill the grid via looping.  You may prefer to use ufuncs instead.\n",
    "z = np.empty_like(grid1)\n",
    "for i in range(z.shape[0]):\n",
    "    for j in range(z.shape[1]):\n",
    "        x = np.array([grid1[i,j], grid2[i,j]])\n",
    "        z[i,j] = f(x,C)[0][0]"
   ]
  },
  {
   "cell_type": "code",
   "execution_count": 123,
   "metadata": {},
   "outputs": [
    {
     "name": "stdout",
     "output_type": "stream",
     "text": [
      "[2, 1.5, 1.5, 0.5, 0.5, 0.375, 0.375, 0.125, 0.125, 0.09375, 0.09375, 0.03125, 0.03125, 0.0234375, 0.0234375, 0.0078125, 0.0078125, 0.005859375, 0.005859375, 0.001953125, 0.001953125, 0.00146484375, 0.00146484375, 0.00048828125, 0.00048828125, 0.0003662109375]\n"
     ]
    },
    {
     "data": {
      "text/plain": [
       "[<matplotlib.lines.Line2D at 0x23c879e6a58>]"
      ]
     },
     "execution_count": 123,
     "metadata": {},
     "output_type": "execute_result"
    },
    {
     "data": {
      "image/png": "[encoded data removed]",
      "text/plain": [
       "<matplotlib.figure.Figure at 0x23c87b51ac8>"
      ]
     },
     "metadata": {},
     "output_type": "display_data"
    }
   ],
   "source": [
    "## Make the plot\n",
    "plt.figure(figsize=(9,9))\n",
    "p = plt.contour(grid1, grid2, z,\n",
    "                levels = [-40, -30,-20, -15, -10, -5, -2, -1, 0, 1, 2, 5, 10, 20, 40],\n",
    "                colors = 'black')\n",
    "plt.xlim(-4,8)\n",
    "plt.ylim(-4,8)\n",
    "plt.clabel(p, inline=1, fontsize=10)\n",
    "\n",
    "\n",
    "x0 = np.matrix(\"2; -3\")\n",
    "R = 0.25\n",
    "m0, l1 = gradient_ascent(x0,C,R)\n",
    "\n",
    "## Add a few points\n",
    "plt.scatter(m0, l1, c='red', s=30)\n",
    "plt.plot(m0, l1, c='red')"
   ]
  },
  {
   "cell_type": "code",
   "execution_count": 124,
   "metadata": {
    "collapsed": true
   },
   "outputs": [],
   "source": [
    "# Section 2.1"
   ]
  },
  {
   "cell_type": "code",
   "execution_count": 125,
   "metadata": {
    "collapsed": true
   },
   "outputs": [],
   "source": [
    "R = 1000\n",
    "N = 10"
   ]
  },
  {
   "cell_type": "code",
   "execution_count": 126,
   "metadata": {},
   "outputs": [],
   "source": [
    "m = np.random.normal(size=(R,N)).mean(axis=1)"
   ]
  },
  {
   "cell_type": "code",
   "execution_count": 127,
   "metadata": {},
   "outputs": [
    {
     "name": "stdout",
     "output_type": "stream",
     "text": [
      "Mean of means: -0.00624029385502\n"
     ]
    }
   ],
   "source": [
    "mu = np.mean(m)\n",
    "print(\"Mean of means:\",mu)"
   ]
  },
  {
   "cell_type": "code",
   "execution_count": 128,
   "metadata": {},
   "outputs": [
    {
     "name": "stdout",
     "output_type": "stream",
     "text": [
      "Standard Deviation of means: 0.307512911296\n"
     ]
    }
   ],
   "source": [
    "sd = np.std(m)\n",
    "print(\"Standard Deviation of means:\",sd)"
   ]
  },
  {
   "cell_type": "code",
   "execution_count": 129,
   "metadata": {},
   "outputs": [
    {
     "name": "stdout",
     "output_type": "stream",
     "text": [
      "95% Upper limit: 0.596485012284\n",
      "95% Lower limit: -0.608965599994\n"
     ]
    }
   ],
   "source": [
    "CI_Upper = mu + (1.96 * sd)\n",
    "CI_Lower = mu - (1.96 * sd)\n",
    "print(\"95% Upper limit:\",CI_Upper)\n",
    "print(\"95% Lower limit:\",CI_Lower)"
   ]
  },
  {
   "cell_type": "code",
   "execution_count": 130,
   "metadata": {},
   "outputs": [
    {
     "data": {
      "text/plain": [
       "-0.6234521931624919"
      ]
     },
     "execution_count": 130,
     "metadata": {},
     "output_type": "execute_result"
    }
   ],
   "source": [
    "np.percentile(m,2.4)"
   ]
  },
  {
   "cell_type": "code",
   "execution_count": 131,
   "metadata": {
    "collapsed": true
   },
   "outputs": [],
   "source": [
    "# 2.2 Section "
   ]
  },
  {
   "cell_type": "code",
   "execution_count": 132,
   "metadata": {
    "collapsed": true
   },
   "outputs": [],
   "source": [
    "R = 1000\n",
    "N = 10"
   ]
  },
  {
   "cell_type": "code",
   "execution_count": 133,
   "metadata": {},
   "outputs": [
    {
     "name": "stdout",
     "output_type": "stream",
     "text": [
      "10\n"
     ]
    },
    {
     "data": {
      "text/plain": [
       "([array([ 10.,   0.,   0.,   0.,   0.,   0.,   0.,   0.,   0.,   0.]),\n",
       "  array([ 10.,   0.,   0.,   0.,   0.,   0.,   0.,   0.,   0.,   0.]),\n",
       "  array([ 8.,  1.,  0.,  0.,  0.,  0.,  0.,  0.,  0.,  1.]),\n",
       "  array([ 9.,  0.,  1.,  0.,  0.,  0.,  0.,  0.,  0.,  0.]),\n",
       "  array([ 9.,  1.,  0.,  0.,  0.,  0.,  0.,  0.,  0.,  0.]),\n",
       "  array([ 10.,   0.,   0.,   0.,   0.,   0.,   0.,   0.,   0.,   0.]),\n",
       "  array([ 6.,  1.,  1.,  0.,  1.,  0.,  0.,  0.,  1.,  0.]),\n",
       "  array([ 7.,  2.,  0.,  0.,  0.,  1.,  0.,  0.,  0.,  0.]),\n",
       "  array([ 9.,  0.,  1.,  0.,  0.,  0.,  0.,  0.,  0.,  0.]),\n",
       "  array([ 9.,  0.,  0.,  0.,  0.,  0.,  0.,  0.,  0.,  1.])],\n",
       " array([  1.00036148,   6.38312478,  11.76588808,  17.14865139,\n",
       "         22.53141469,  27.914178  ,  33.2969413 ,  38.67970461,\n",
       "         44.06246791,  49.44523121,  54.82799452]),\n",
       " <a list of 10 Lists of Patches objects>)"
      ]
     },
     "execution_count": 133,
     "metadata": {},
     "output_type": "execute_result"
    },
    {
     "data": {
      "image/png": "[encoded data removed]",
      "text/plain": [
       "<matplotlib.figure.Figure at 0x23c87b66588>"
      ]
     },
     "metadata": {},
     "output_type": "display_data"
    }
   ],
   "source": [
    "b = np.random.pareto(a=1,size=(10,10)) + 1\n",
    "print(len(b))\n",
    "plt.hist(b, log=True)"
   ]
  },
  {
   "cell_type": "code",
   "execution_count": 134,
   "metadata": {},
   "outputs": [
    {
     "name": "stdout",
     "output_type": "stream",
     "text": [
      "1000\n"
     ]
    },
    {
     "data": {
      "text/plain": [
       "([array([ 999.,    1.,    0.,    0.,    0.,    0.,    0.,    0.,    0.,    0.]),\n",
       "  array([ 999.,    1.,    0.,    0.,    0.,    0.,    0.,    0.,    0.,    0.]),\n",
       "  array([ 1000.,     0.,     0.,     0.,     0.,     0.,     0.,     0.,\n",
       "             0.,     0.]),\n",
       "  array([ 999.,    0.,    1.,    0.,    0.,    0.,    0.,    0.,    0.,    0.]),\n",
       "  array([ 999.,    0.,    0.,    0.,    0.,    0.,    0.,    0.,    0.,    1.]),\n",
       "  array([ 996.,    2.,    0.,    0.,    0.,    1.,    1.,    0.,    0.,    0.]),\n",
       "  array([ 999.,    1.,    0.,    0.,    0.,    0.,    0.,    0.,    0.,    0.]),\n",
       "  array([ 998.,    2.,    0.,    0.,    0.,    0.,    0.,    0.,    0.,    0.]),\n",
       "  array([ 999.,    1.,    0.,    0.,    0.,    0.,    0.,    0.,    0.,    0.]),\n",
       "  array([ 997.,    3.,    0.,    0.,    0.,    0.,    0.,    0.,    0.,    0.])],\n",
       " array([  1.00004865e+00,   5.22918892e+02,   1.04483773e+03,\n",
       "          1.56675658e+03,   2.08867542e+03,   2.61059426e+03,\n",
       "          3.13251311e+03,   3.65443195e+03,   4.17635079e+03,\n",
       "          4.69826964e+03,   5.22018848e+03]),\n",
       " <a list of 10 Lists of Patches objects>)"
      ]
     },
     "execution_count": 134,
     "metadata": {},
     "output_type": "execute_result"
    },
    {
     "data": {
      "image/png": "[encoded data removed]",
      "text/plain": [
       "<matplotlib.figure.Figure at 0x23c86584588>"
      ]
     },
     "metadata": {},
     "output_type": "display_data"
    }
   ],
   "source": [
    "b = np.random.pareto(a=1,size=(R,N)) + 1\n",
    "print(len(b))\n",
    "plt.hist(b)"
   ]
  },
  {
   "cell_type": "code",
   "execution_count": 135,
   "metadata": {},
   "outputs": [
    {
     "data": {
      "text/plain": [
       "array([  4.27745578e+00,   1.57005745e+00,   9.58196805e+00,\n",
       "         2.69939143e+00,   1.60134621e+00,   1.09056365e+01,\n",
       "         4.33719357e+00,   1.84854367e+00,   1.40861219e+00,\n",
       "         6.50461979e+00,   6.54788293e+00,   1.24877593e+01,\n",
       "         2.48106711e+00,   3.84513929e+00,   7.42024040e+00,\n",
       "         1.69127836e+00,   2.15074386e+00,   4.19676244e+00,\n",
       "         3.59877335e+00,   7.05621441e-01,   8.75345546e-01,\n",
       "         7.98054722e-01,   5.35155994e+00,   5.76256759e+00,\n",
       "         1.99033443e+01,   1.10229931e+00,   1.85708885e+00,\n",
       "         1.53015217e+00,   1.62635788e+00,   2.34302241e+00,\n",
       "         5.30732229e+01,   5.41222443e-01,   5.67190227e+00,\n",
       "         1.72361245e+00,   1.00140160e+00,   2.46047735e+00,\n",
       "         5.38891823e+00,   3.04728918e+00,   6.37200757e+00,\n",
       "         6.62158641e+00,   1.03936698e+00,   2.64612416e+00,\n",
       "         3.23532462e+00,   3.55169707e+00,   2.63778692e+00,\n",
       "         4.81695589e+00,   6.55414954e+00,   8.31641737e+00,\n",
       "         1.52317655e+01,   1.38025492e+00,   4.75086449e+00,\n",
       "         4.46048157e+00,   3.19887830e+00,   1.87699609e+00,\n",
       "         3.59578682e+00,   3.22660067e+00,   1.82833146e+00,\n",
       "         2.17918103e+00,   1.31626075e+00,   1.89103941e+00,\n",
       "         4.10140066e+00,   1.36548593e+00,   1.04881115e+00,\n",
       "         1.17208035e+01,   2.59642646e+00,   3.74185403e+00,\n",
       "         7.88612325e-01,   2.12273994e+00,   1.73006140e+00,\n",
       "         6.60529806e+01,   3.54518444e+00,   2.51101085e+00,\n",
       "         1.91147339e+00,   2.44261973e+00,   4.12214331e+00,\n",
       "         3.71032830e+00,   1.37609112e+00,   1.49573212e+01,\n",
       "         1.14414408e+00,   1.92719868e+00,   6.47253535e+00,\n",
       "         9.19517204e-01,   9.57900210e-01,   1.19142806e+00,\n",
       "         7.61968959e-01,   9.99658319e+00,   4.09870751e+00,\n",
       "         1.61425256e+00,   1.20102956e+01,   1.68625976e+00,\n",
       "         1.65869134e+00,   1.13773049e+00,   2.34249252e+01,\n",
       "         2.82662607e+01,   4.73783647e+00,   3.38067812e+00,\n",
       "         9.86994601e-01,   2.87103439e+00,   1.51589007e+00,\n",
       "         9.93254057e+00,   1.05518673e+00,   1.56751108e+00,\n",
       "         2.02111968e+00,   5.01745533e+00,   5.58191550e+00,\n",
       "         1.20361950e+00,   2.12489028e+00,   1.67458722e+00,\n",
       "         1.55113169e+00,   4.24296185e+00,   2.38902452e+00,\n",
       "         6.97089552e+00,   1.16299199e+00,   3.67811484e+00,\n",
       "         1.06207907e+00,   5.63724925e+00,   3.67786048e+00,\n",
       "         9.36475164e+01,   1.27347692e+01,   1.65737595e+00,\n",
       "         2.04469914e+00,   4.06790851e+00,   2.18383377e+00,\n",
       "         1.51716148e+00,   2.02607431e+01,   3.50921586e+00,\n",
       "         1.30995099e+00,   1.17033662e+00,   1.67918546e+00,\n",
       "         4.39560096e+00,   9.71146675e+00,   1.16332987e+00,\n",
       "         7.06467504e+00,   2.61539867e+00,   1.76461526e+00,\n",
       "         9.06572503e-01,   5.52348492e+00,   1.16148367e+00,\n",
       "         3.99695583e+00,   1.30944828e+00,   3.85440275e+01,\n",
       "         1.04576047e+01,   1.09069359e+00,   3.19457773e+00,\n",
       "         3.87532147e+00,   1.61874593e+00,   2.25044557e+00,\n",
       "         1.29539624e+00,   1.33218617e+01,   3.44699070e+00,\n",
       "         6.10487872e+00,   1.39174640e+00,   5.50190436e+00,\n",
       "         1.49448792e+00,   1.46793003e+00,   1.82331751e+00,\n",
       "         1.70828884e+00,   1.12780353e+00,   3.24942372e+00,\n",
       "         1.81082112e+01,   2.13645474e+00,   2.05573159e+00,\n",
       "         4.79573296e+00,   3.08518212e+00,   1.03790345e+00,\n",
       "         2.22071083e+00,   4.71544708e+00,   1.58806207e+00,\n",
       "         7.37230005e+00,   1.38139738e+01,   1.98799829e+00,\n",
       "         2.84385083e+00,   8.46938012e+00,   7.25256818e+00,\n",
       "         4.02624628e+00,   4.83190969e+00,   2.50761464e+00,\n",
       "         1.82316290e+01,   3.15827851e+00,   3.23731842e+00,\n",
       "         4.05226834e+00,   1.29051945e+00,   1.80402924e+00,\n",
       "         4.01630664e+00,   3.16542681e+00,   1.48608456e+00,\n",
       "         2.40653243e+00,   4.91938156e+00,   7.77099169e-01,\n",
       "         8.14127275e+00,   1.29507646e+00,   1.05142505e+01,\n",
       "         7.28370534e+01,   2.94365906e+00,   1.18353405e+01,\n",
       "         8.01113755e+00,   4.54895974e+01,   1.58769728e+00,\n",
       "         5.35133213e+00,   3.75611707e+00,   6.80086576e+00,\n",
       "         4.16054630e+00,   5.35671939e+00,   2.74049790e+00,\n",
       "         2.87529877e+00,   2.73159842e+00,   2.21173905e+00,\n",
       "         1.93081141e+00,   2.15058168e+00,   1.31860559e+00,\n",
       "         5.30535751e+00,   2.30329728e+00,   1.25044837e+02,\n",
       "         3.44003899e+00,   2.89098004e+00,   2.29363921e+00,\n",
       "         1.08357341e+00,   1.11598788e+00,   9.22904614e-01,\n",
       "         3.15205530e+00,   1.94701270e+00,   7.85776371e+00,\n",
       "         1.97325553e+00,   4.59491911e+00,   5.51360746e+00,\n",
       "         3.42855677e+00,   5.30959716e+00,   2.40722891e+00,\n",
       "         6.61477579e+00,   3.17823457e+00,   1.12739215e+00,\n",
       "         2.75278268e+00,   3.22700322e+00,   6.06210766e+00,\n",
       "         6.04006221e-01,   7.66123100e+00,   5.15875562e+00,\n",
       "         2.36661843e+00,   1.76174235e+00,   5.95909795e+00,\n",
       "         2.82304877e+00,   1.12433921e+01,   1.69480070e+01,\n",
       "         7.98706430e-01,   1.03225601e+00,   1.50739862e+00,\n",
       "         2.78173681e+00,   2.48364743e+00,   4.88791256e+00,\n",
       "         2.02410689e+00,   2.75683344e+00,   8.79029290e+00,\n",
       "         7.42489994e+00,   1.04043065e+00,   1.65440004e+01,\n",
       "         5.30133867e+00,   1.93038621e+00,   1.69865386e+00,\n",
       "         2.41754574e+00,   1.16456597e+00,   2.56708349e+00,\n",
       "         2.68136028e+00,   4.09254696e+00,   2.01528465e+00,\n",
       "         9.96789844e+00,   2.50384369e+00,   2.00220812e+00,\n",
       "         2.46490448e+01,   1.44871765e+00,   9.82600129e+00,\n",
       "         3.14941018e+00,   1.81367064e+00,   4.12276641e+00,\n",
       "         1.70835513e+00,   1.46703775e+00,   6.17711017e+00,\n",
       "         1.39597148e+00,   8.10657924e-01,   1.80545435e+00,\n",
       "         1.77210960e+01,   6.74694982e+00,   4.94890452e+00,\n",
       "         1.01933544e+00,   6.93834964e-01,   2.00069121e+00,\n",
       "         1.04738637e+00,   6.41868326e+00,   4.64420294e+00,\n",
       "         2.38815893e+00,   2.76327937e+00,   2.71690826e+00,\n",
       "         4.62432526e+00,   2.06758270e+00,   6.05963455e+00,\n",
       "         7.84255561e+00,   1.86971724e+00,   1.43877401e+02,\n",
       "         5.04367090e+00,   2.53991715e+00,   5.22258304e+00,\n",
       "         3.30273717e+00,   1.16256915e+01,   3.82584732e+00,\n",
       "         1.94356467e+00,   8.53579038e+00,   2.17832151e+00,\n",
       "         8.87835856e+00,   1.19295014e+00,   1.05607634e+01,\n",
       "         3.78904517e+00,   2.61642334e+00,   2.45564621e+00,\n",
       "         4.66098812e+00,   2.68060185e+00,   6.03625151e+01,\n",
       "         8.22663398e+01,   1.71803283e+01,   4.54417188e+00,\n",
       "         3.93842342e+00,   2.87550238e+00,   1.22242616e+00,\n",
       "         5.01966787e+00,   2.76284505e+00,   3.26523558e+00,\n",
       "         1.02841769e+00,   9.17729445e-01,   2.79790350e+00,\n",
       "         2.16793721e+00,   6.42669364e+00,   3.30525233e+00,\n",
       "         7.20291513e+00,   7.31200725e-01,   5.59229542e+00,\n",
       "         2.10379671e+00,   1.82620745e+00,   2.05783405e+00,\n",
       "         3.67904744e+00,   4.23716490e+00,   3.27119281e+00,\n",
       "         6.03398110e+00,   2.14432486e+00,   1.00886341e+01,\n",
       "         2.96643443e+00,   9.20200608e+00,   2.30317787e+00,\n",
       "         4.97557605e+00,   1.90790389e+00,   2.26559012e+00,\n",
       "         1.63581594e+00,   3.56076657e+00,   3.44935770e+00,\n",
       "         8.61452979e-01,   3.47869114e+00,   2.02852471e+00,\n",
       "         2.09343585e+00,   1.04326951e+01,   2.46039601e+00,\n",
       "         4.04022853e-01,   3.83326009e+00,   2.01738548e+00,\n",
       "         3.10083759e+00,   4.71612666e+00,   6.15662638e-01,\n",
       "         1.68686559e+00,   1.75982103e+00,   1.10959561e+01,\n",
       "         7.74282488e+00,   1.70406247e+00,   2.59488165e+00,\n",
       "         2.70941063e+01,   3.85908779e-01,   2.15247741e+00,\n",
       "         7.38319186e+00,   7.20579235e+00,   1.77351733e+00,\n",
       "         1.09106067e+00,   3.41181473e+00,   1.38979048e+00,\n",
       "         1.68365482e+00,   1.93262161e+00,   2.78272946e+02,\n",
       "         5.98744003e+00,   4.08864616e-01,   1.16788308e+00,\n",
       "         1.88952438e+00,   8.25113134e+00,   2.24909061e+00,\n",
       "         1.40137064e+00,   1.09724246e+00,   1.08185517e+00,\n",
       "         3.34790596e+00,   1.30941874e+00,   9.44967957e+00,\n",
       "         2.83985473e+00,   3.23947787e+01,   1.57120349e+00,\n",
       "         5.66167399e+00,   1.61883912e+00,   5.06662319e+00,\n",
       "         2.65193541e+00,   1.62899053e+01,   1.90148360e+00,\n",
       "         2.16002915e+00,   3.81918718e+00,   3.91973588e+00,\n",
       "         1.43508960e+01,   3.88140037e+00,   2.62076887e+01,\n",
       "         1.77747989e+00,   5.08804038e+00,   1.21076887e+00,\n",
       "         5.72280866e+00,   2.40872171e+00,   3.92505528e+00,\n",
       "         1.32031752e+00,   6.32212565e+00,   1.60668460e+00,\n",
       "         2.42669343e+00,   9.19314706e-01,   6.26992828e+00,\n",
       "         1.24128500e+01,   2.67346898e+00,   2.07585272e+00,\n",
       "         3.73051316e+00,   5.52622784e+01,   1.53578599e+00,\n",
       "         2.78032280e+00,   2.05543598e+01,   4.04135499e+01,\n",
       "         6.85417157e+00,   9.64543932e+00,   2.54731122e+00,\n",
       "         1.40023428e+00,   1.34076387e+01,   1.94723608e+00,\n",
       "         7.82189825e-01,   2.39759090e+00,   3.42358158e+00,\n",
       "         1.77480401e+00,   2.10076424e+00,   1.43913242e+00,\n",
       "         5.40122984e+00,   1.89739043e+00,   3.30874398e+00,\n",
       "         4.14354038e+00,   1.54093334e+00,   2.90056626e+00,\n",
       "         2.19922349e+00,   1.29939232e+00,   1.45739855e+00,\n",
       "         3.65421992e+00,   1.83173543e+00,   1.14384392e+00,\n",
       "         8.91304339e-01,   1.85399757e+00,   2.65341617e+00,\n",
       "         1.10854958e+00,   2.30266837e+00,   2.29461445e+00,\n",
       "         1.35014505e+00,   2.45076067e+00,   3.34968762e+00,\n",
       "         3.26225227e+00,   5.68584377e+01,   6.15583733e+00,\n",
       "         3.76461132e+00,   1.57459585e+00,   3.99835108e+00,\n",
       "         4.51514870e+00,   7.29341494e+00,   5.05257771e+00,\n",
       "         3.91383915e+00,   1.77728550e+00,   9.62627745e-01,\n",
       "         6.24237701e+00,   5.88931165e+00,   6.40266862e+00,\n",
       "         3.47248129e+00,   9.48903854e-01,   2.06428585e+00,\n",
       "         1.30822048e+00,   1.97419543e+00,   5.71222162e+00,\n",
       "         1.55427317e+00,   2.42991474e+00,   1.61084070e+01,\n",
       "         2.37860644e+00,   2.26617213e+00,   1.02974744e+00,\n",
       "         1.82226563e+00,   9.15116133e+00,   1.09220898e+00,\n",
       "         1.43342817e+00,   6.44392414e+00,   4.27700289e+00,\n",
       "         1.61744539e+00,   2.95417704e+00,   3.47441373e+01,\n",
       "         8.09406034e+00,   2.47878784e+00,   5.47209673e+00,\n",
       "         2.85893155e+00,   8.90638628e+00,   4.11588165e+00,\n",
       "         1.69408656e+00,   2.63018108e+00,   2.20986472e+00,\n",
       "         2.31206694e+00,   7.03455557e+00,   1.43641782e+00,\n",
       "         2.82883931e+00,   2.19314277e+00,   1.21371854e+00,\n",
       "         4.17698370e+00,   1.01355825e+00,   4.00593067e+00,\n",
       "         1.86965393e+01,   1.62751008e+00,   8.07666191e+00,\n",
       "         7.80428000e+00,   2.45606306e+00,   1.58068251e+00,\n",
       "         2.76040237e+00,   2.35278043e+00,   2.09094310e+00,\n",
       "         1.50410188e+00,   2.03522923e+00,   4.92570369e+00,\n",
       "         8.51653853e+00,   9.26368855e+00,   3.36998833e+00,\n",
       "         7.21938551e+00,   3.95984308e+00,   2.64014626e+00,\n",
       "         1.74837160e+00,   1.75193903e+00,   2.02870779e+00,\n",
       "         1.23315229e+00,   7.03644301e+00,   2.55200437e+01,\n",
       "         3.10946351e+00,   1.88833278e+00,   1.24008879e+01,\n",
       "         8.30230396e+02,   1.30055582e+01,   8.34400507e+00,\n",
       "         1.13082437e+01,   2.06012450e+00,   1.55443451e+01,\n",
       "         8.68489698e+00,   1.71855646e+00,   1.96246884e+00,\n",
       "         1.21453840e+00,   7.42907015e+00,   2.18713347e+01,\n",
       "         1.05753845e+00,   5.73310735e+00,   2.17883405e+00,\n",
       "         5.82944931e+00,   1.46513851e+00,   4.49502558e+00,\n",
       "         2.88469532e+01,   1.38828395e+01,   2.01475801e+00,\n",
       "         6.57506390e-01,   9.20575617e+00,   1.68006023e+00,\n",
       "         4.51982618e+00,   8.44644575e-01,   3.98989567e+00,\n",
       "         1.91492017e+00,   2.11730428e+00,   1.71603749e+00,\n",
       "         9.12643283e+00,   2.24580488e+00,   4.51068057e+00,\n",
       "         1.56876600e+01,   9.39281617e-01,   1.12409708e+01,\n",
       "         8.90622141e+00,   7.62415956e-01,   1.84812916e+02,\n",
       "         2.27865100e+00,   9.29555976e-01,   6.58052655e-01,\n",
       "         6.47383887e+00,   2.98144082e+00,   3.23209096e+00,\n",
       "         3.10439268e+00,   1.56526037e+01,   4.24841890e+00,\n",
       "         1.73823919e+00,   4.42212159e+00,   1.96623634e+01,\n",
       "         5.53479903e+00,   2.28261027e+00,   3.83844700e+00,\n",
       "         1.70463073e+00,   2.53074388e+00,   5.32810394e+00,\n",
       "         1.75906590e+01,   2.21276863e+00,   1.82094285e+00,\n",
       "         2.49693342e+00,   2.02476942e+00,   1.51589558e+00,\n",
       "         2.56302731e+00,   3.92045108e+00,   2.57207537e+00,\n",
       "         9.48524813e+00,   4.47836056e+00,   1.04361843e+00,\n",
       "         3.98598916e+00,   1.11756736e+00,   1.61036870e+01,\n",
       "         3.85670736e+00,   1.59954331e+00,   2.88125676e+00,\n",
       "         6.12802786e+01,   1.23438844e+00,   3.93764757e+00,\n",
       "         1.63119754e+00,   1.11606695e+00,   1.38823649e+00,\n",
       "         7.61847792e+00,   7.59264718e+00,   1.03444023e+01,\n",
       "         2.78575383e+00,   2.37972682e+00,   3.41935619e+00,\n",
       "         9.27823976e+00,   1.35934815e+00,   1.32819888e+00,\n",
       "         1.19254459e+00,   4.62104992e+00,   3.33211938e+00,\n",
       "         3.98804814e+00,   2.95888096e+01,   1.67711618e+00,\n",
       "         4.57410226e+00,   4.91749786e+00,   1.01022335e+00,\n",
       "         3.22573250e+00,   2.68977441e-01,   5.30882560e+00,\n",
       "         4.75873995e-01,   2.70692040e+00,   2.31020919e+00,\n",
       "         2.71999671e+00,   1.05173723e+01,   3.38556814e+01,\n",
       "         8.29828860e+01,   1.80802950e+00,   3.49489805e+00,\n",
       "         2.09068290e+00,   1.82248896e+00,   3.75112527e+01,\n",
       "         1.08891300e+01,   5.78872084e+00,   7.59657619e-01,\n",
       "         1.30507784e+01,   3.57072190e+00,   1.82826366e+00,\n",
       "         6.75894480e+00,   8.25459782e-01,   1.53312292e+01,\n",
       "         5.09146586e+00,   1.82661393e+00,   8.30306854e-01,\n",
       "         6.51600030e+00,   3.74227095e+00,   3.31709391e+00,\n",
       "         9.37906698e+00,   2.12263238e+00,   2.44179734e+00,\n",
       "         2.35747769e+00,   1.11352428e+00,   1.10887388e+00,\n",
       "         1.15484361e+00,   2.50912092e+00,   2.91469643e+00,\n",
       "         3.69400481e+00,   2.56491719e+00,   1.44653171e+01,\n",
       "         5.07203271e+00,   1.10811312e+01,   5.01027674e+00,\n",
       "         5.45869701e-01,   2.82464939e+00,   4.47493787e+00,\n",
       "         2.85287357e+00,   1.31670943e+01,   1.52182779e+00,\n",
       "         3.54090595e+00,   3.08859952e+01,   1.78931858e+00,\n",
       "         8.20181947e+00,   8.81388580e-01,   2.28247850e+00,\n",
       "         2.04347896e+00,   2.20378585e+00,   4.42622937e+01,\n",
       "         3.68590789e+00,   2.33217266e+01,   1.34679654e+01,\n",
       "         1.26322726e+00,   5.13265736e+00,   6.98812435e+00,\n",
       "         5.75923889e-01,   1.11624231e+00,   1.04107101e+00,\n",
       "         3.34766987e+00,   3.11414691e+01,   1.39704932e+00,\n",
       "         1.17741545e+00,   1.76977839e+00,   2.27216103e+00,\n",
       "         9.92274861e+00,   1.87129094e+00,   1.46323416e+00,\n",
       "         6.89087883e+00,   4.21162695e+00,   1.58075533e+00,\n",
       "         1.66503538e+00,   4.75502703e+00,   8.00244203e-01,\n",
       "         9.39709599e+00,   9.77155522e-01,   3.94703380e+00,\n",
       "         3.50847259e+00,   1.93677265e+00,   6.39861764e+00,\n",
       "         2.08641193e+00,   3.13737820e+00,   2.85779574e+00,\n",
       "         3.27682307e+00,   2.26096603e+00,   2.06429091e+00,\n",
       "         1.88342031e+00,   8.24118937e+00,   3.20359852e+00,\n",
       "         2.68176474e+00,   3.33392265e+00,   1.78729543e+00,\n",
       "         1.36867509e+02,   3.10085458e+00,   1.12130130e+00,\n",
       "         1.39825453e+01,   3.96641028e+00,   4.11577944e+01,\n",
       "         2.03177534e+00,   1.86948965e+00,   1.71807850e+02,\n",
       "         3.78459763e+00,   1.08507665e+00,   7.34948610e-01,\n",
       "         3.46070742e+01,   3.01553043e+00,   1.31946144e+00,\n",
       "         2.85819061e+00,   2.16771557e+00,   5.15545472e+00,\n",
       "         2.36437357e+00,   4.37026762e+00,   2.99806581e+00,\n",
       "         9.94708792e+00,   2.83762319e+00,   2.79622048e+00,\n",
       "         6.93118615e+00,   2.05569833e+00,   5.78752660e+00,\n",
       "         1.75411234e+00,   3.99734878e+00,   1.40531428e+01,\n",
       "         3.06260692e+00,   1.86477033e+01,   2.03440759e+00,\n",
       "         7.27300629e+00,   1.68072404e+00,   1.44653307e+01,\n",
       "         8.01815844e-01,   1.60603078e+00,   1.53018843e+00,\n",
       "         1.26691536e+00,   2.36635110e+00,   5.36285395e+00,\n",
       "         2.97812742e+00,   3.73328629e+00,   1.58923104e+00,\n",
       "         6.97561557e+00,   2.58613426e+00,   2.72757397e+00,\n",
       "         3.09381248e+00,   2.36784712e+00,   9.82217003e+00,\n",
       "         1.93866984e+00,   1.57941181e+00,   4.70047132e+00,\n",
       "         1.63566144e+00,   2.02909139e+00,   1.61544559e+00,\n",
       "         1.84065774e+00,   4.50342155e+00,   5.55727012e+00,\n",
       "         1.11533179e+01,   1.59348254e+00,   2.93357610e+00,\n",
       "         2.45151907e+00,   6.90797961e+00,   3.06715466e+00,\n",
       "         1.71334843e+00,   9.68269744e-01,   4.78361706e+00,\n",
       "         3.08356961e+00,   3.13412950e+00,   2.58530086e+01,\n",
       "         3.62973992e+00,   2.32169200e+01,   3.06123428e+00,\n",
       "         2.01761286e+00,   3.19683693e+00,   3.36371963e+00,\n",
       "         3.36288396e+00,   7.52526102e+00,   6.45036644e+00,\n",
       "         5.08112205e+00,   4.76454410e+00,   5.95383333e+00,\n",
       "         2.31721962e+00,   8.58726290e+00,   1.79369927e+00,\n",
       "         1.61572120e+00,   4.19275033e+00,   3.62126495e+00,\n",
       "         1.18743652e+00,   6.46667577e+00,   4.93595794e+00,\n",
       "         4.72780181e+00,   4.92281282e+00,   1.73602350e+00,\n",
       "         2.98681660e+00,   1.73565153e+00,   1.25498357e+01,\n",
       "         1.42619400e+00,   5.87257054e+01,   1.88020078e+01,\n",
       "         5.59371001e+00,   7.85704744e+00,   1.29282385e+01,\n",
       "         3.99194343e+00,   1.70120107e+00,   6.83812488e+00,\n",
       "         2.37069139e+01,   7.34319123e+00,   1.68128769e+00,\n",
       "         2.19767499e+00,   2.04922510e+00,   1.45088929e+01,\n",
       "         4.42892526e+00,   5.98632115e+01,   3.05186795e+00,\n",
       "         1.57632712e+00,   1.16273282e+01,   1.02938122e+01,\n",
       "         3.93124583e+00,   1.49168506e+00,   9.03505092e-01,\n",
       "         5.07372748e+00,   4.42297826e+00,   5.97117227e-01,\n",
       "         1.71084520e+00,   5.18608967e+00,   5.02106276e+00,\n",
       "         2.82853072e+01,   5.74115610e+00,   5.48650435e+00,\n",
       "         7.02446237e+00,   2.91668662e+00,   1.46177106e+00,\n",
       "         1.20256395e+00,   1.17160425e+01,   4.96341849e+00,\n",
       "         1.87089865e+00,   2.00059864e+01,   1.20430109e+00,\n",
       "         5.80516350e+00,   1.22169178e+00,   2.03114422e+00,\n",
       "         1.95240508e+01,   7.15239435e+00,   1.70080891e+01,\n",
       "         2.98060294e+00,   1.86754248e+00,   2.59444288e+00,\n",
       "         3.98167575e+00,   5.24152726e+00,   7.12880303e+00,\n",
       "         1.24552760e+00,   3.10912260e+00,   2.05496838e+00,\n",
       "         1.46737656e+00,   4.28541519e+00,   4.60206035e+00,\n",
       "         4.43049754e+00,   1.11631419e+02,   2.34016566e+00,\n",
       "         8.68293526e+00,   1.49847591e+00,   4.26970259e+00,\n",
       "         1.93201562e+01,   1.33747976e+00,   1.24013534e+00,\n",
       "         6.52409965e+00,   7.02942940e-01,   6.76837654e+00,\n",
       "         5.02863748e+00,   2.29362175e+00,   8.28821246e+00,\n",
       "         1.46872610e+01,   1.53824515e+00,   1.35228078e+01,\n",
       "         1.78838452e+00,   3.54720695e+00,   1.13387095e+00,\n",
       "         2.66713860e+00,   1.15790806e+00,   6.53643919e+00,\n",
       "         4.96615756e+00,   1.50848206e+00,   8.71247386e+00,\n",
       "         7.21128255e+00,   2.08979308e+00,   4.40519969e+00,\n",
       "         1.06166385e+01,   3.51768746e+00,   4.59427955e+00,\n",
       "         1.05211956e+01,   3.08707646e+00,   6.58899432e+00,\n",
       "         9.32409995e-01,   4.65450390e+00,   3.17537584e+00,\n",
       "         2.33172074e+00,   1.53860904e+00,   6.91356765e+00,\n",
       "         2.39854360e+00,   1.31320412e+00,   3.06355338e+00,\n",
       "         2.64681438e+00,   8.40467696e+00,   7.33581795e+00,\n",
       "         7.15005959e+01,   1.24580028e+00,   6.53331328e-01,\n",
       "         6.07243464e-01,   1.23096711e+00,   1.93973097e+00,\n",
       "         9.37581047e+00,   6.86677223e+00,   9.79555530e-01,\n",
       "         5.29662040e+00,   1.28986480e+00,   1.13867512e+00,\n",
       "         1.25092414e+00,   2.02884392e+00,   1.65898383e+00,\n",
       "         8.22454201e-01,   2.67759234e+00,   6.13068046e+00,\n",
       "         2.16164085e+00,   1.07748474e+01,   2.79876722e+00,\n",
       "         4.72731254e+00,   2.74180589e+00,   4.15871605e+00,\n",
       "         2.52261490e+00,   5.66234232e+01,   1.36732532e+00,\n",
       "         1.37772983e+00,   1.24963572e+01,   3.11654747e+00,\n",
       "         1.15488397e+01,   5.20857609e-01,   2.69422732e+00,\n",
       "         6.22241493e+00,   3.71984616e+00,   1.54096287e+00,\n",
       "         1.16373684e+00,   2.23532490e+00,   1.41622111e+00,\n",
       "         9.12927680e-01,   5.80683471e+00,   1.21045803e+00,\n",
       "         7.31531129e+00,   9.22738143e+00,   2.46459732e+00,\n",
       "         4.53804245e+00,   1.39260571e+00,   7.36026198e+00,\n",
       "         4.72231114e+00])"
      ]
     },
     "execution_count": 135,
     "metadata": {},
     "output_type": "execute_result"
    }
   ],
   "source": [
    "mu = np.random.pareto(a=1,size=(R,N)).mean(axis=1)\n",
    "mu"
   ]
  },
  {
   "cell_type": "code",
   "execution_count": 136,
   "metadata": {},
   "outputs": [
    {
     "data": {
      "text/plain": [
       "7.6646194320456305"
      ]
     },
     "execution_count": 136,
     "metadata": {},
     "output_type": "execute_result"
    }
   ],
   "source": [
    "mm = np.mean(mu)\n",
    "mm"
   ]
  },
  {
   "cell_type": "code",
   "execution_count": 137,
   "metadata": {},
   "outputs": [
    {
     "data": {
      "text/plain": [
       "30.961980947460461"
      ]
     },
     "execution_count": 137,
     "metadata": {},
     "output_type": "execute_result"
    }
   ],
   "source": [
    "sd = np.std(mu)\n",
    "sd"
   ]
  },
  {
   "cell_type": "code",
   "execution_count": 138,
   "metadata": {},
   "outputs": [
    {
     "name": "stdout",
     "output_type": "stream",
     "text": [
      "95% Upper limit: 68.3501020891\n",
      "95% Lower limit: -53.020863225\n"
     ]
    }
   ],
   "source": [
    "CI_Upper = mm + (1.96 * sd)\n",
    "CI_Lower = mm - (1.96 * sd)\n",
    "print(\"95% Upper limit:\",CI_Upper)\n",
    "print(\"95% Lower limit:\",CI_Lower)"
   ]
  },
  {
   "cell_type": "code",
   "execution_count": null,
   "metadata": {},
   "outputs": [],
   "source": []
  },
  {
   "cell_type": "code",
   "execution_count": null,
   "metadata": {
    "collapsed": true
   },
   "outputs": [],
   "source": []
  }
 ],
 "metadata": {
  "kernelspec": {
   "display_name": "Python 3",
   "language": "python",
   "name": "python3"
  },
  "language_info": {
   "codemirror_mode": {
    "name": "ipython",
    "version": 3
   },
   "file_extension": ".py",
   "mimetype": "text/x-python",
   "name": "python",
   "nbconvert_exporter": "python",
   "pygments_lexer": "ipython3",
   "version": "3.6.2"
  }
 },
 "nbformat": 4,
 "nbformat_minor": 2
}
