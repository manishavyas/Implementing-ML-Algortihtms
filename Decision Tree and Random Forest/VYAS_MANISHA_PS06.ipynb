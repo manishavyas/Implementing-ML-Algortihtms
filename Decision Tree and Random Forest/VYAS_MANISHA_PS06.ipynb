{
 "cells": [
  {
   "cell_type": "code",
   "execution_count": 1,
   "metadata": {
    "collapsed": true
   },
   "outputs": [],
   "source": [
    "import numpy as np\n",
    "import pandas as pd\n",
    "import scipy as sc\n",
    "from sklearn.model_selection import train_test_split\n",
    "import matplotlib.pyplot as plt"
   ]
  },
  {
   "cell_type": "markdown",
   "metadata": {},
   "source": [
    "## 1 Explore the Data"
   ]
  },
  {
   "cell_type": "markdown",
   "metadata": {},
   "source": [
    "### 1. Load the data. Make sure you know the coding of all variables. In particular, you should be aware if a variable is categorical or numeric. Explain the coding scheme if it's not obvious."
   ]
  },
  {
   "cell_type": "code",
   "execution_count": 2,
   "metadata": {},
   "outputs": [
    {
     "data": {
      "text/html": [
       "<div>\n",
       "<style>\n",
       "    .dataframe thead tr:only-child th {\n",
       "        text-align: right;\n",
       "    }\n",
       "\n",
       "    .dataframe thead th {\n",
       "        text-align: left;\n",
       "    }\n",
       "\n",
       "    .dataframe tbody tr th {\n",
       "        vertical-align: top;\n",
       "    }\n",
       "</style>\n",
       "<table border=\"1\" class=\"dataframe\">\n",
       "  <thead>\n",
       "    <tr style=\"text-align: right;\">\n",
       "      <th></th>\n",
       "      <th>pclass</th>\n",
       "      <th>survived</th>\n",
       "      <th>name</th>\n",
       "      <th>sex</th>\n",
       "      <th>age</th>\n",
       "      <th>sibsp</th>\n",
       "      <th>parch</th>\n",
       "      <th>ticket</th>\n",
       "      <th>fare</th>\n",
       "      <th>cabin</th>\n",
       "      <th>embarked</th>\n",
       "      <th>boat</th>\n",
       "      <th>body</th>\n",
       "      <th>home.dest</th>\n",
       "    </tr>\n",
       "  </thead>\n",
       "  <tbody>\n",
       "    <tr>\n",
       "      <th>0</th>\n",
       "      <td>1</td>\n",
       "      <td>1</td>\n",
       "      <td>Allen, Miss. Elisabeth Walton</td>\n",
       "      <td>female</td>\n",
       "      <td>29.0000</td>\n",
       "      <td>0</td>\n",
       "      <td>0</td>\n",
       "      <td>24160</td>\n",
       "      <td>211.3375</td>\n",
       "      <td>B5</td>\n",
       "      <td>S</td>\n",
       "      <td>2</td>\n",
       "      <td>NaN</td>\n",
       "      <td>St Louis, MO</td>\n",
       "    </tr>\n",
       "    <tr>\n",
       "      <th>1</th>\n",
       "      <td>1</td>\n",
       "      <td>1</td>\n",
       "      <td>Allison, Master. Hudson Trevor</td>\n",
       "      <td>male</td>\n",
       "      <td>0.9167</td>\n",
       "      <td>1</td>\n",
       "      <td>2</td>\n",
       "      <td>113781</td>\n",
       "      <td>151.5500</td>\n",
       "      <td>C22 C26</td>\n",
       "      <td>S</td>\n",
       "      <td>11</td>\n",
       "      <td>NaN</td>\n",
       "      <td>Montreal, PQ / Chesterville, ON</td>\n",
       "    </tr>\n",
       "    <tr>\n",
       "      <th>2</th>\n",
       "      <td>1</td>\n",
       "      <td>0</td>\n",
       "      <td>Allison, Miss. Helen Loraine</td>\n",
       "      <td>female</td>\n",
       "      <td>2.0000</td>\n",
       "      <td>1</td>\n",
       "      <td>2</td>\n",
       "      <td>113781</td>\n",
       "      <td>151.5500</td>\n",
       "      <td>C22 C26</td>\n",
       "      <td>S</td>\n",
       "      <td>NaN</td>\n",
       "      <td>NaN</td>\n",
       "      <td>Montreal, PQ / Chesterville, ON</td>\n",
       "    </tr>\n",
       "    <tr>\n",
       "      <th>3</th>\n",
       "      <td>1</td>\n",
       "      <td>0</td>\n",
       "      <td>Allison, Mr. Hudson Joshua Creighton</td>\n",
       "      <td>male</td>\n",
       "      <td>30.0000</td>\n",
       "      <td>1</td>\n",
       "      <td>2</td>\n",
       "      <td>113781</td>\n",
       "      <td>151.5500</td>\n",
       "      <td>C22 C26</td>\n",
       "      <td>S</td>\n",
       "      <td>NaN</td>\n",
       "      <td>135.0</td>\n",
       "      <td>Montreal, PQ / Chesterville, ON</td>\n",
       "    </tr>\n",
       "    <tr>\n",
       "      <th>4</th>\n",
       "      <td>1</td>\n",
       "      <td>0</td>\n",
       "      <td>Allison, Mrs. Hudson J C (Bessie Waldo Daniels)</td>\n",
       "      <td>female</td>\n",
       "      <td>25.0000</td>\n",
       "      <td>1</td>\n",
       "      <td>2</td>\n",
       "      <td>113781</td>\n",
       "      <td>151.5500</td>\n",
       "      <td>C22 C26</td>\n",
       "      <td>S</td>\n",
       "      <td>NaN</td>\n",
       "      <td>NaN</td>\n",
       "      <td>Montreal, PQ / Chesterville, ON</td>\n",
       "    </tr>\n",
       "  </tbody>\n",
       "</table>\n",
       "</div>"
      ],
      "text/plain": [
       "   pclass  survived                                             name     sex  \\\n",
       "0       1         1                    Allen, Miss. Elisabeth Walton  female   \n",
       "1       1         1                   Allison, Master. Hudson Trevor    male   \n",
       "2       1         0                     Allison, Miss. Helen Loraine  female   \n",
       "3       1         0             Allison, Mr. Hudson Joshua Creighton    male   \n",
       "4       1         0  Allison, Mrs. Hudson J C (Bessie Waldo Daniels)  female   \n",
       "\n",
       "       age  sibsp  parch  ticket      fare    cabin embarked boat   body  \\\n",
       "0  29.0000      0      0   24160  211.3375       B5        S    2    NaN   \n",
       "1   0.9167      1      2  113781  151.5500  C22 C26        S   11    NaN   \n",
       "2   2.0000      1      2  113781  151.5500  C22 C26        S  NaN    NaN   \n",
       "3  30.0000      1      2  113781  151.5500  C22 C26        S  NaN  135.0   \n",
       "4  25.0000      1      2  113781  151.5500  C22 C26        S  NaN    NaN   \n",
       "\n",
       "                         home.dest  \n",
       "0                     St Louis, MO  \n",
       "1  Montreal, PQ / Chesterville, ON  \n",
       "2  Montreal, PQ / Chesterville, ON  \n",
       "3  Montreal, PQ / Chesterville, ON  \n",
       "4  Montreal, PQ / Chesterville, ON  "
      ]
     },
     "execution_count": 2,
     "metadata": {},
     "output_type": "execute_result"
    }
   ],
   "source": [
    "titanic_dat = pd.read_csv('titanic.csv')\n",
    "titanic_dat.head()"
   ]
  },
  {
   "cell_type": "code",
   "execution_count": 3,
   "metadata": {},
   "outputs": [
    {
     "data": {
      "text/plain": [
       "pclass         int64\n",
       "survived       int64\n",
       "name          object\n",
       "sex           object\n",
       "age          float64\n",
       "sibsp          int64\n",
       "parch          int64\n",
       "ticket        object\n",
       "fare         float64\n",
       "cabin         object\n",
       "embarked      object\n",
       "boat          object\n",
       "body         float64\n",
       "home.dest     object\n",
       "dtype: object"
      ]
     },
     "execution_count": 3,
     "metadata": {},
     "output_type": "execute_result"
    }
   ],
   "source": [
    "# Understanding the columns in the dataset\n",
    "titanic_dat.dtypes"
   ]
  },
  {
   "cell_type": "code",
   "execution_count": 4,
   "metadata": {},
   "outputs": [
    {
     "name": "stdout",
     "output_type": "stream",
     "text": [
      "Survived: [1 0]\n",
      "Sex levels: ['female' 'male']\n",
      "Pclass levels: [1 2 3]\n",
      "Parch levels: [0 2 1 4 3 5 6 9]\n",
      "sibsp levels: [0 1 2 3 4 5 8]\n",
      "embarked levels: ['S' 'C' nan 'Q']\n"
     ]
    }
   ],
   "source": [
    "# Understanding the levels in each categorical variable\n",
    "print(\"Survived:\",titanic_dat['survived'].unique())\n",
    "print(\"Sex levels:\",titanic_dat['sex'].unique())\n",
    "print(\"Pclass levels:\",titanic_dat['pclass'].unique())\n",
    "print(\"Parch levels:\",titanic_dat['parch'].unique())\n",
    "print(\"sibsp levels:\",titanic_dat['sibsp'].unique())\n",
    "print(\"embarked levels:\",titanic_dat['embarked'].unique())"
   ]
  },
  {
   "cell_type": "code",
   "execution_count": 5,
   "metadata": {},
   "outputs": [
    {
     "name": "stdout",
     "output_type": "stream",
     "text": [
      "<class 'pandas.core.frame.DataFrame'>\n",
      "RangeIndex: 1309 entries, 0 to 1308\n",
      "Data columns (total 14 columns):\n",
      "pclass       1309 non-null int64\n",
      "survived     1309 non-null int64\n",
      "name         1309 non-null object\n",
      "sex          1309 non-null object\n",
      "age          1046 non-null float64\n",
      "sibsp        1309 non-null int64\n",
      "parch        1309 non-null int64\n",
      "ticket       1309 non-null object\n",
      "fare         1308 non-null float64\n",
      "cabin        295 non-null object\n",
      "embarked     1307 non-null object\n",
      "boat         486 non-null object\n",
      "body         121 non-null float64\n",
      "home.dest    745 non-null object\n",
      "dtypes: float64(3), int64(4), object(7)\n",
      "memory usage: 143.2+ KB\n"
     ]
    }
   ],
   "source": [
    "# Understanding the coding scheme and missing values\n",
    "titanic_dat.info()"
   ]
  },
  {
   "cell_type": "markdown",
   "metadata": {},
   "source": [
    "### As most of the variables in the data are categorical, we cannot just compute means and correlations. Rather create a table along these lines where you list the averages for those who survived and those who died:\n",
    "\n",
    "### 2. Create such a summary table. You may add more statistics you consider interesting to this table."
   ]
  },
  {
   "cell_type": "code",
   "execution_count": 6,
   "metadata": {
    "scrolled": false
   },
   "outputs": [
    {
     "data": {
      "text/html": [
       "<div>\n",
       "<style>\n",
       "    .dataframe thead tr:only-child th {\n",
       "        text-align: right;\n",
       "    }\n",
       "\n",
       "    .dataframe thead th {\n",
       "        text-align: left;\n",
       "    }\n",
       "\n",
       "    .dataframe tbody tr th {\n",
       "        vertical-align: top;\n",
       "    }\n",
       "</style>\n",
       "<table border=\"1\" class=\"dataframe\">\n",
       "  <thead>\n",
       "    <tr style=\"text-align: right;\">\n",
       "      <th></th>\n",
       "      <th>pclass</th>\n",
       "      <th>survived</th>\n",
       "      <th>name</th>\n",
       "      <th>sex</th>\n",
       "      <th>age</th>\n",
       "      <th>sibsp</th>\n",
       "      <th>parch</th>\n",
       "      <th>ticket</th>\n",
       "      <th>fare</th>\n",
       "      <th>cabin</th>\n",
       "      <th>embarked</th>\n",
       "      <th>boat</th>\n",
       "      <th>body</th>\n",
       "      <th>home.dest</th>\n",
       "    </tr>\n",
       "  </thead>\n",
       "  <tbody>\n",
       "    <tr>\n",
       "      <th>0</th>\n",
       "      <td>1</td>\n",
       "      <td>1</td>\n",
       "      <td>Allen, Miss. Elisabeth Walton</td>\n",
       "      <td>female</td>\n",
       "      <td>29.0000</td>\n",
       "      <td>0</td>\n",
       "      <td>0</td>\n",
       "      <td>24160</td>\n",
       "      <td>211.3375</td>\n",
       "      <td>B5</td>\n",
       "      <td>S</td>\n",
       "      <td>2</td>\n",
       "      <td>NaN</td>\n",
       "      <td>St Louis, MO</td>\n",
       "    </tr>\n",
       "    <tr>\n",
       "      <th>1</th>\n",
       "      <td>1</td>\n",
       "      <td>1</td>\n",
       "      <td>Allison, Master. Hudson Trevor</td>\n",
       "      <td>male</td>\n",
       "      <td>0.9167</td>\n",
       "      <td>1</td>\n",
       "      <td>2</td>\n",
       "      <td>113781</td>\n",
       "      <td>151.5500</td>\n",
       "      <td>C22 C26</td>\n",
       "      <td>S</td>\n",
       "      <td>11</td>\n",
       "      <td>NaN</td>\n",
       "      <td>Montreal, PQ / Chesterville, ON</td>\n",
       "    </tr>\n",
       "    <tr>\n",
       "      <th>2</th>\n",
       "      <td>1</td>\n",
       "      <td>0</td>\n",
       "      <td>Allison, Miss. Helen Loraine</td>\n",
       "      <td>female</td>\n",
       "      <td>2.0000</td>\n",
       "      <td>1</td>\n",
       "      <td>2</td>\n",
       "      <td>113781</td>\n",
       "      <td>151.5500</td>\n",
       "      <td>C22 C26</td>\n",
       "      <td>S</td>\n",
       "      <td>NaN</td>\n",
       "      <td>NaN</td>\n",
       "      <td>Montreal, PQ / Chesterville, ON</td>\n",
       "    </tr>\n",
       "    <tr>\n",
       "      <th>3</th>\n",
       "      <td>1</td>\n",
       "      <td>0</td>\n",
       "      <td>Allison, Mr. Hudson Joshua Creighton</td>\n",
       "      <td>male</td>\n",
       "      <td>30.0000</td>\n",
       "      <td>1</td>\n",
       "      <td>2</td>\n",
       "      <td>113781</td>\n",
       "      <td>151.5500</td>\n",
       "      <td>C22 C26</td>\n",
       "      <td>S</td>\n",
       "      <td>NaN</td>\n",
       "      <td>135.0</td>\n",
       "      <td>Montreal, PQ / Chesterville, ON</td>\n",
       "    </tr>\n",
       "    <tr>\n",
       "      <th>4</th>\n",
       "      <td>1</td>\n",
       "      <td>0</td>\n",
       "      <td>Allison, Mrs. Hudson J C (Bessie Waldo Daniels)</td>\n",
       "      <td>female</td>\n",
       "      <td>25.0000</td>\n",
       "      <td>1</td>\n",
       "      <td>2</td>\n",
       "      <td>113781</td>\n",
       "      <td>151.5500</td>\n",
       "      <td>C22 C26</td>\n",
       "      <td>S</td>\n",
       "      <td>NaN</td>\n",
       "      <td>NaN</td>\n",
       "      <td>Montreal, PQ / Chesterville, ON</td>\n",
       "    </tr>\n",
       "  </tbody>\n",
       "</table>\n",
       "</div>"
      ],
      "text/plain": [
       "   pclass  survived                                             name     sex  \\\n",
       "0       1         1                    Allen, Miss. Elisabeth Walton  female   \n",
       "1       1         1                   Allison, Master. Hudson Trevor    male   \n",
       "2       1         0                     Allison, Miss. Helen Loraine  female   \n",
       "3       1         0             Allison, Mr. Hudson Joshua Creighton    male   \n",
       "4       1         0  Allison, Mrs. Hudson J C (Bessie Waldo Daniels)  female   \n",
       "\n",
       "       age  sibsp  parch  ticket      fare    cabin embarked boat   body  \\\n",
       "0  29.0000      0      0   24160  211.3375       B5        S    2    NaN   \n",
       "1   0.9167      1      2  113781  151.5500  C22 C26        S   11    NaN   \n",
       "2   2.0000      1      2  113781  151.5500  C22 C26        S  NaN    NaN   \n",
       "3  30.0000      1      2  113781  151.5500  C22 C26        S  NaN  135.0   \n",
       "4  25.0000      1      2  113781  151.5500  C22 C26        S  NaN    NaN   \n",
       "\n",
       "                         home.dest  \n",
       "0                     St Louis, MO  \n",
       "1  Montreal, PQ / Chesterville, ON  \n",
       "2  Montreal, PQ / Chesterville, ON  \n",
       "3  Montreal, PQ / Chesterville, ON  \n",
       "4  Montreal, PQ / Chesterville, ON  "
      ]
     },
     "execution_count": 6,
     "metadata": {},
     "output_type": "execute_result"
    }
   ],
   "source": [
    "tred = titanic_dat.copy()\n",
    "tred.head()"
   ]
  },
  {
   "cell_type": "code",
   "execution_count": 7,
   "metadata": {
    "collapsed": true
   },
   "outputs": [],
   "source": [
    "s = []\n",
    "d = []\n",
    "tred['sex'] = (tred['sex'] == 'male') + 0\n",
    "d.append(tred.groupby(['survived'])['sex'].mean()[0])\n",
    "s.append(tred.groupby(['survived'])['sex'].mean()[1])\n",
    "\n",
    "d.append(tred.groupby(['survived'])['pclass'].mean()[0])\n",
    "s.append(tred.groupby(['survived'])['pclass'].mean()[1])\n",
    "\n",
    "d.append(tred.groupby(['survived'])['sibsp'].mean()[0])\n",
    "s.append(tred.groupby(['survived'])['sibsp'].mean()[1])\n",
    "\n",
    "d.append(tred.groupby(['survived'])['parch'].mean()[0])\n",
    "s.append(tred.groupby(['survived'])['parch'].mean()[1])\n",
    "\n",
    "tred.dropna(subset=['embarked'])\n",
    "tred['embarked'] = np.where(tred['embarked'] == 'S',0,np.where(tred['embarked']=='C', 1, 2))\n",
    "d.append(tred.groupby(['survived'])['embarked'].mean()[0])\n",
    "s.append(tred.groupby(['survived'])['embarked'].mean()[1])"
   ]
  },
  {
   "cell_type": "code",
   "execution_count": 8,
   "metadata": {
    "collapsed": true
   },
   "outputs": [],
   "source": [
    "n = []\n",
    "n.append(titanic_dat['sex'].isnull().sum())\n",
    "n.append(titanic_dat['pclass'].isnull().sum())\n",
    "n.append(titanic_dat['sibsp'].isnull().sum())\n",
    "n.append(titanic_dat['parch'].isnull().sum())\n",
    "n.append(titanic_dat['embarked'].isnull().sum())"
   ]
  },
  {
   "cell_type": "code",
   "execution_count": 9,
   "metadata": {},
   "outputs": [
    {
     "data": {
      "text/html": [
       "<div>\n",
       "<style>\n",
       "    .dataframe thead tr:only-child th {\n",
       "        text-align: right;\n",
       "    }\n",
       "\n",
       "    .dataframe thead th {\n",
       "        text-align: left;\n",
       "    }\n",
       "\n",
       "    .dataframe tbody tr th {\n",
       "        vertical-align: top;\n",
       "    }\n",
       "</style>\n",
       "<table border=\"1\" class=\"dataframe\">\n",
       "  <thead>\n",
       "    <tr style=\"text-align: right;\">\n",
       "      <th></th>\n",
       "      <th>Feature</th>\n",
       "      <th>Survived</th>\n",
       "      <th>Drowned</th>\n",
       "      <th>Missing Values</th>\n",
       "    </tr>\n",
       "  </thead>\n",
       "  <tbody>\n",
       "    <tr>\n",
       "      <th>0</th>\n",
       "      <td>sex(=male)</td>\n",
       "      <td>0.322</td>\n",
       "      <td>0.843016</td>\n",
       "      <td>0</td>\n",
       "    </tr>\n",
       "    <tr>\n",
       "      <th>1</th>\n",
       "      <td>pclass</td>\n",
       "      <td>1.962</td>\n",
       "      <td>2.500618</td>\n",
       "      <td>0</td>\n",
       "    </tr>\n",
       "    <tr>\n",
       "      <th>2</th>\n",
       "      <td>sibsp</td>\n",
       "      <td>0.462</td>\n",
       "      <td>0.521632</td>\n",
       "      <td>0</td>\n",
       "    </tr>\n",
       "    <tr>\n",
       "      <th>3</th>\n",
       "      <td>parch</td>\n",
       "      <td>0.476</td>\n",
       "      <td>0.328801</td>\n",
       "      <td>0</td>\n",
       "    </tr>\n",
       "    <tr>\n",
       "      <th>4</th>\n",
       "      <td>embarked</td>\n",
       "      <td>0.484</td>\n",
       "      <td>0.343634</td>\n",
       "      <td>2</td>\n",
       "    </tr>\n",
       "  </tbody>\n",
       "</table>\n",
       "</div>"
      ],
      "text/plain": [
       "      Feature  Survived   Drowned  Missing Values\n",
       "0  sex(=male)     0.322  0.843016               0\n",
       "1      pclass     1.962  2.500618               0\n",
       "2       sibsp     0.462  0.521632               0\n",
       "3       parch     0.476  0.328801               0\n",
       "4    embarked     0.484  0.343634               2"
      ]
     },
     "execution_count": 9,
     "metadata": {},
     "output_type": "execute_result"
    }
   ],
   "source": [
    "f = ['sex(=male)','pclass','sibsp','parch','embarked']\n",
    "ff = pd.DataFrame({'Feature':f,'Survived':s,'Drowned':d,'Missing Values':n})\n",
    "df1 = pd.DataFrame(data=ff, columns=['Feature','Survived','Drowned','Missing Values'])\n",
    "df1"
   ]
  },
  {
   "cell_type": "markdown",
   "metadata": {},
   "source": [
    "## 2 Implement decision tree"
   ]
  },
  {
   "cell_type": "markdown",
   "metadata": {},
   "source": [
    "### 2.1 Prepare data\n",
    "### 1. Now select the variables you are going to use. Use those that may have influenced survival (such as class), or those that may be otherwise correlated with survival (like fare). Note: do not include explanatory variables that are result of survival/death, namely boat number and body number."
   ]
  },
  {
   "cell_type": "code",
   "execution_count": 10,
   "metadata": {},
   "outputs": [
    {
     "data": {
      "text/html": [
       "<div>\n",
       "<style>\n",
       "    .dataframe thead tr:only-child th {\n",
       "        text-align: right;\n",
       "    }\n",
       "\n",
       "    .dataframe thead th {\n",
       "        text-align: left;\n",
       "    }\n",
       "\n",
       "    .dataframe tbody tr th {\n",
       "        vertical-align: top;\n",
       "    }\n",
       "</style>\n",
       "<table border=\"1\" class=\"dataframe\">\n",
       "  <thead>\n",
       "    <tr style=\"text-align: right;\">\n",
       "      <th></th>\n",
       "      <th>pclass</th>\n",
       "      <th>sex</th>\n",
       "      <th>age</th>\n",
       "      <th>fare</th>\n",
       "      <th>embarked</th>\n",
       "      <th>parch</th>\n",
       "      <th>sibsp</th>\n",
       "      <th>survived</th>\n",
       "    </tr>\n",
       "  </thead>\n",
       "  <tbody>\n",
       "    <tr>\n",
       "      <th>0</th>\n",
       "      <td>1</td>\n",
       "      <td>0</td>\n",
       "      <td>29.0000</td>\n",
       "      <td>211.3375</td>\n",
       "      <td>0</td>\n",
       "      <td>0</td>\n",
       "      <td>0</td>\n",
       "      <td>1</td>\n",
       "    </tr>\n",
       "    <tr>\n",
       "      <th>1</th>\n",
       "      <td>1</td>\n",
       "      <td>1</td>\n",
       "      <td>0.9167</td>\n",
       "      <td>151.5500</td>\n",
       "      <td>0</td>\n",
       "      <td>2</td>\n",
       "      <td>1</td>\n",
       "      <td>1</td>\n",
       "    </tr>\n",
       "    <tr>\n",
       "      <th>2</th>\n",
       "      <td>1</td>\n",
       "      <td>0</td>\n",
       "      <td>2.0000</td>\n",
       "      <td>151.5500</td>\n",
       "      <td>0</td>\n",
       "      <td>2</td>\n",
       "      <td>1</td>\n",
       "      <td>0</td>\n",
       "    </tr>\n",
       "    <tr>\n",
       "      <th>3</th>\n",
       "      <td>1</td>\n",
       "      <td>1</td>\n",
       "      <td>30.0000</td>\n",
       "      <td>151.5500</td>\n",
       "      <td>0</td>\n",
       "      <td>2</td>\n",
       "      <td>1</td>\n",
       "      <td>0</td>\n",
       "    </tr>\n",
       "    <tr>\n",
       "      <th>4</th>\n",
       "      <td>1</td>\n",
       "      <td>0</td>\n",
       "      <td>25.0000</td>\n",
       "      <td>151.5500</td>\n",
       "      <td>0</td>\n",
       "      <td>2</td>\n",
       "      <td>1</td>\n",
       "      <td>0</td>\n",
       "    </tr>\n",
       "  </tbody>\n",
       "</table>\n",
       "</div>"
      ],
      "text/plain": [
       "   pclass  sex      age      fare  embarked  parch  sibsp  survived\n",
       "0       1    0  29.0000  211.3375         0      0      0         1\n",
       "1       1    1   0.9167  151.5500         0      2      1         1\n",
       "2       1    0   2.0000  151.5500         0      2      1         0\n",
       "3       1    1  30.0000  151.5500         0      2      1         0\n",
       "4       1    0  25.0000  151.5500         0      2      1         0"
      ]
     },
     "execution_count": 10,
     "metadata": {},
     "output_type": "execute_result"
    }
   ],
   "source": [
    "tt = titanic_dat.copy()\n",
    "\n",
    "tt['sex'] = (tt['sex'] == 'male') + 0\n",
    "tt['embarked'] = np.where(tt['embarked'] == 'S',0,np.where(tt['embarked']=='C', 1, 2))\n",
    "\n",
    "dt = pd.DataFrame(data=tt, columns=['pclass','sex','age','fare','embarked','parch','sibsp','survived'])\n",
    "dt.head()"
   ]
  },
  {
   "cell_type": "markdown",
   "metadata": {},
   "source": [
    "### 2. Split your data into training/testing groups (80/20% or so)."
   ]
  },
  {
   "cell_type": "code",
   "execution_count": 11,
   "metadata": {
    "collapsed": true
   },
   "outputs": [],
   "source": [
    "X_train, X_test= train_test_split(dt, test_size=0.20, random_state=1)"
   ]
  },
  {
   "cell_type": "markdown",
   "metadata": {},
   "source": [
    "## 2.2 Implement the decision tree"
   ]
  },
  {
   "cell_type": "markdown",
   "metadata": {},
   "source": [
    "### 1. Compute the entropy at the root, based of the total number of survivors and victims. You will use this number to compute entropy gain further below."
   ]
  },
  {
   "cell_type": "code",
   "execution_count": 12,
   "metadata": {},
   "outputs": [
    {
     "name": "stdout",
     "output_type": "stream",
     "text": [
      "Entropy at root: 0.955396536467\n"
     ]
    }
   ],
   "source": [
    "N = len(X_train)\n",
    "N1 = len(X_train[X_train['survived'] == 1])   \n",
    "\n",
    "E1 = -((N1/N) * np.log2(N1/N) + ((N - N1)/N) * np.log2((N - N1)/N))\n",
    "print(\"Entropy at root:\",E1)"
   ]
  },
  {
   "cell_type": "markdown",
   "metadata": {},
   "source": [
    "### 2. create an ordered vector of unique age values (a1, a2, . . . , ak). These will form the potential split points fo age. How many different age values do you find in your training data? Note: remember that there are missing age values!"
   ]
  },
  {
   "cell_type": "code",
   "execution_count": 13,
   "metadata": {},
   "outputs": [
    {
     "name": "stdout",
     "output_type": "stream",
     "text": [
      "Age values: [0.16669999999999999, 0.33329999999999999, 0.41670000000000001, 0.66669999999999996, 0.75, 0.83330000000000004, 0.91669999999999996, 1.0, 2.0, 3.0, 4.0, 5.0, 6.0, 7.0, 8.0, 9.0, 10.0, 11.0, 12.0, 13.0, 14.0, 14.5, 15.0, 16.0, 17.0, 18.0, 18.5, 19.0, 20.0, 21.0, 22.0, 22.5, 23.0, 23.5, 24.0, 24.5, 25.0, 26.0, 26.5, 27.0, 28.0, 28.5, 29.0, 30.0, 30.5, 31.0, 32.0, 32.5, 33.0, 34.0, 34.5, 35.0, 36.0, 36.5, 37.0, 38.0, 38.5, 39.0, 40.0, 40.5, 41.0, 42.0, 43.0, 44.0, 45.0, 45.5, 46.0, 47.0, 48.0, 49.0, 50.0, 51.0, 52.0, 53.0, 54.0, 55.0, 56.0, 57.0, 58.0, 59.0, 60.0, 60.5, 61.0, 62.0, 63.0, 64.0, 65.0, 66.0, 67.0, 70.0, 70.5, 71.0, 74.0, 76.0, 80.0]\n",
      "Number of unique values in training dataset: 95\n"
     ]
    }
   ],
   "source": [
    "t = X_train.copy()\n",
    "t = t.dropna(subset=['age'])\n",
    "\n",
    "a = sorted(t['age'].unique())\n",
    "n = len(t['age'].unique())\n",
    "print(\"Age values:\",a)\n",
    "print(\"Number of unique values in training dataset:\",n)"
   ]
  },
  {
   "cell_type": "markdown",
   "metadata": {},
   "source": [
    "### 3. Split the (training) data into two groups:\n",
    "(a) age 6 < a1 and\n",
    "(b) age > a1.\n",
    "### 4. Compute the entropy of this split.\n",
    "### 5. Now repeat these steps with all possible age splits. Find the best age boundary, the split that gives you the lowest entropy."
   ]
  },
  {
   "cell_type": "code",
   "execution_count": 14,
   "metadata": {
    "collapsed": true
   },
   "outputs": [],
   "source": [
    "def entropy(n1,n2):\n",
    "    if n1 == 0:\n",
    "        x11 = 0\n",
    "    else:         \n",
    "        x11 = np.log2(n1)\n",
    "            \n",
    "    if n2 == 0:\n",
    "        x12 = 0\n",
    "    else:         \n",
    "        x12 = np.log2(n2)   \n",
    "        \n",
    "    return (-(n1 * x11 + n2 * x12))"
   ]
  },
  {
   "cell_type": "code",
   "execution_count": 15,
   "metadata": {
    "collapsed": true
   },
   "outputs": [],
   "source": [
    "def entropy_calc(a,t,v):\n",
    "    f=[]\n",
    "    j=[]\n",
    "    avg1 = []\n",
    "    avg2=[]\n",
    "    N = len(t)\n",
    "    #print(t.shape)\n",
    "    #print(t)\n",
    "    \n",
    "    #print(len(a))\n",
    "    \n",
    "    if len(a) == 1:\n",
    "        df1 = pd.Series({'Entropy':1e10,v:a,'Survived Average(Split 1)':-1,'Survived Average(Split 2)':-1})\n",
    "        #print(df1)\n",
    "        return(df1)\n",
    "        \n",
    "    else:\n",
    "        for i in range(len(a)-1):\n",
    "            #if a[i] == a[-1]:\n",
    "                #break;\n",
    "            #else:\n",
    "                x1 = t[t[v] <= a[i]]\n",
    "                x2 = t[t[v] > a[i]]\n",
    "                #print(x1.shape,x2.shape)\n",
    "\n",
    "\n",
    "                n11 = np.mean(x1['survived'])\n",
    "                n12 = 1 - n11\n",
    "\n",
    "                n21 = np.mean(x2['survived'])\n",
    "                n22 = 1 - n21  \n",
    "\n",
    "                e1 = entropy(n11,n12)\n",
    "                e2 = entropy(n21,n22)\n",
    "\n",
    "                f.append(((len(x1)) * e1 + (len(x2)) * e2)/N)\n",
    "                j.append(a[i])\n",
    "                avg1.append(np.mean(x1['survived']) * 100)\n",
    "                avg2.append(np.mean(x2['survived']) * 100)\n",
    "\n",
    "        df1 = pd.DataFrame({'Entropy':f,v:j,'Survived Average(Split 1)':avg1,'Survived Average(Split 2)':avg2})\n",
    "\n",
    "        return(df1.loc[df1['Entropy'].idxmin()])"
   ]
  },
  {
   "cell_type": "code",
   "execution_count": 16,
   "metadata": {},
   "outputs": [
    {
     "data": {
      "text/plain": [
       "[Entropy                       0.956141\n",
       " Survived Average(Split 1)    65.573770\n",
       " Survived Average(Split 2)    38.039216\n",
       " age                           8.000000\n",
       " Name: 14, dtype: float64]"
      ]
     },
     "execution_count": 16,
     "metadata": {},
     "output_type": "execute_result"
    }
   ],
   "source": [
    "ee = []\n",
    "ee.append(entropy_calc(a,t,v='age'))\n",
    "ee"
   ]
  },
  {
   "cell_type": "markdown",
   "metadata": {},
   "source": [
    "### 6. Repeat the previous steps over all explanatory variables in your data. For each variable, store (and print) the best split value and the corresponding entropy."
   ]
  },
  {
   "cell_type": "code",
   "execution_count": 17,
   "metadata": {},
   "outputs": [
    {
     "name": "stdout",
     "output_type": "stream",
     "text": [
      "Pclass values: [1, 2, 3]\n",
      "Number of unique values in training dataset: 3\n"
     ]
    }
   ],
   "source": [
    "t = X_train.copy()\n",
    "t = t.dropna(subset=['pclass'])\n",
    "\n",
    "a = sorted(t['pclass'].unique())\n",
    "n = len(t['pclass'].unique())\n",
    "print(\"Pclass values:\",a)\n",
    "print(\"Number of unique values in training dataset:\",n)\n",
    "\n",
    "ee.append(entropy_calc(a,t,v='pclass'))"
   ]
  },
  {
   "cell_type": "code",
   "execution_count": 18,
   "metadata": {},
   "outputs": [
    {
     "name": "stdout",
     "output_type": "stream",
     "text": [
      "embarked values: [0, 1, 2]\n",
      "Number of unique values in training dataset: 3\n"
     ]
    }
   ],
   "source": [
    "t = X_train.copy()\n",
    "t = t.dropna(subset=['embarked'])\n",
    "\n",
    "a = sorted(t['embarked'].unique())\n",
    "n = len(t['embarked'].unique())\n",
    "print(\"embarked values:\",a)\n",
    "print(\"Number of unique values in training dataset:\",n)\n",
    "\n",
    "ee.append(entropy_calc(a,t,v='embarked'))"
   ]
  },
  {
   "cell_type": "code",
   "execution_count": 19,
   "metadata": {},
   "outputs": [
    {
     "name": "stdout",
     "output_type": "stream",
     "text": [
      "Sex values: [0, 1]\n",
      "Number of unique values in training dataset: 2\n"
     ]
    }
   ],
   "source": [
    "t = X_train.copy()\n",
    "t = t.dropna(subset=['sex'])\n",
    "\n",
    "a = sorted(t['sex'].unique())\n",
    "n = len(t['sex'].unique())\n",
    "print(\"Sex values:\",a)\n",
    "print(\"Number of unique values in training dataset:\",n)\n",
    "\n",
    "ee.append(entropy_calc(a,t,v='sex'))"
   ]
  },
  {
   "cell_type": "code",
   "execution_count": 20,
   "metadata": {},
   "outputs": [
    {
     "name": "stdout",
     "output_type": "stream",
     "text": [
      "Number of unique values in training dataset: 250\n"
     ]
    }
   ],
   "source": [
    "t = X_train.copy()\n",
    "t = t.dropna(subset=['fare'])\n",
    "\n",
    "a = sorted(t['fare'].unique())\n",
    "n = len(t['fare'].unique())\n",
    "#print(\"Fare values:\",a)\n",
    "print(\"Number of unique values in training dataset:\",n)\n",
    "\n",
    "ee.append(entropy_calc(a,t,v='fare'))"
   ]
  },
  {
   "cell_type": "code",
   "execution_count": 21,
   "metadata": {},
   "outputs": [
    {
     "name": "stdout",
     "output_type": "stream",
     "text": [
      "Siblings/Spouse values: [0, 1, 2, 3, 4, 5, 8]\n",
      "Number of unique values in training dataset: 7\n"
     ]
    }
   ],
   "source": [
    "t = X_train.copy()\n",
    "t = t.dropna(subset=['sibsp'])\n",
    "\n",
    "a = sorted(t['sibsp'].unique())\n",
    "n = len(t['sibsp'].unique())\n",
    "print(\"Siblings/Spouse values:\",a)\n",
    "print(\"Number of unique values in training dataset:\",n)\n",
    "\n",
    "ee.append(entropy_calc(a,t,v='sibsp'))"
   ]
  },
  {
   "cell_type": "code",
   "execution_count": 22,
   "metadata": {},
   "outputs": [
    {
     "name": "stdout",
     "output_type": "stream",
     "text": [
      "Parch values: [0, 1, 2, 3, 4, 5, 6, 9]\n",
      "Number of unique values in training dataset: 8\n"
     ]
    }
   ],
   "source": [
    "t = X_train.copy()\n",
    "t = t.dropna(subset=['parch'])\n",
    "\n",
    "a = sorted(t['parch'].unique())\n",
    "n = len(t['parch'].unique())\n",
    "print(\"Parch values:\",a)\n",
    "print(\"Number of unique values in training dataset:\",n)\n",
    "\n",
    "ee.append(entropy_calc(a,t,v='parch'))"
   ]
  },
  {
   "cell_type": "code",
   "execution_count": 23,
   "metadata": {},
   "outputs": [
    {
     "data": {
      "text/html": [
       "<div>\n",
       "<style>\n",
       "    .dataframe thead tr:only-child th {\n",
       "        text-align: right;\n",
       "    }\n",
       "\n",
       "    .dataframe thead th {\n",
       "        text-align: left;\n",
       "    }\n",
       "\n",
       "    .dataframe tbody tr th {\n",
       "        vertical-align: top;\n",
       "    }\n",
       "</style>\n",
       "<table border=\"1\" class=\"dataframe\">\n",
       "  <thead>\n",
       "    <tr style=\"text-align: right;\">\n",
       "      <th></th>\n",
       "      <th>Feature</th>\n",
       "      <th>Entropy</th>\n",
       "      <th>Splitting Value</th>\n",
       "      <th>Survived Avg. (Split 1)</th>\n",
       "      <th>Survived Avg. (Split 2)</th>\n",
       "    </tr>\n",
       "  </thead>\n",
       "  <tbody>\n",
       "    <tr>\n",
       "      <th>0</th>\n",
       "      <td>age</td>\n",
       "      <td>0.956141</td>\n",
       "      <td>8.0</td>\n",
       "      <td>65.573770</td>\n",
       "      <td>38.039216</td>\n",
       "    </tr>\n",
       "    <tr>\n",
       "      <th>1</th>\n",
       "      <td>pclass</td>\n",
       "      <td>0.892043</td>\n",
       "      <td>2.0</td>\n",
       "      <td>53.249476</td>\n",
       "      <td>24.561404</td>\n",
       "    </tr>\n",
       "    <tr>\n",
       "      <th>2</th>\n",
       "      <td>embarked</td>\n",
       "      <td>0.936281</td>\n",
       "      <td>0.0</td>\n",
       "      <td>32.267038</td>\n",
       "      <td>49.390244</td>\n",
       "    </tr>\n",
       "    <tr>\n",
       "      <th>3</th>\n",
       "      <td>sex</td>\n",
       "      <td>0.766312</td>\n",
       "      <td>0.0</td>\n",
       "      <td>70.889488</td>\n",
       "      <td>19.378698</td>\n",
       "    </tr>\n",
       "    <tr>\n",
       "      <th>4</th>\n",
       "      <td>fare</td>\n",
       "      <td>0.884421</td>\n",
       "      <td>15.1</td>\n",
       "      <td>23.161765</td>\n",
       "      <td>53.386454</td>\n",
       "    </tr>\n",
       "    <tr>\n",
       "      <th>5</th>\n",
       "      <td>sibsp</td>\n",
       "      <td>0.943208</td>\n",
       "      <td>0.0</td>\n",
       "      <td>33.239038</td>\n",
       "      <td>46.764706</td>\n",
       "    </tr>\n",
       "  </tbody>\n",
       "</table>\n",
       "</div>"
      ],
      "text/plain": [
       "    Feature   Entropy  Splitting Value  Survived Avg. (Split 1)  \\\n",
       "0       age  0.956141              8.0                65.573770   \n",
       "1    pclass  0.892043              2.0                53.249476   \n",
       "2  embarked  0.936281              0.0                32.267038   \n",
       "3       sex  0.766312              0.0                70.889488   \n",
       "4      fare  0.884421             15.1                23.161765   \n",
       "5     sibsp  0.943208              0.0                33.239038   \n",
       "\n",
       "   Survived Avg. (Split 2)  \n",
       "0                38.039216  \n",
       "1                24.561404  \n",
       "2                49.390244  \n",
       "3                19.378698  \n",
       "4                53.386454  \n",
       "5                46.764706  "
      ]
     },
     "execution_count": 23,
     "metadata": {},
     "output_type": "execute_result"
    }
   ],
   "source": [
    "a1=[]\n",
    "b1=[]\n",
    "c1=[]\n",
    "s1=[]\n",
    "s2=[]\n",
    "for i in range(len(ee)-1):\n",
    "    a1.append(ee[i]['Entropy'])\n",
    "    b1.append(ee[i][3])\n",
    "    c1.append(ee[i].index.values[3])\n",
    "    s1.append(ee[i][1])\n",
    "    s2.append(ee[i][2])\n",
    "    \n",
    "dd = pd.DataFrame({'Entropy':a1,'Splitting Value':b1,'Feature':c1,'Survived Avg. (Split 1)':s1,'Survived Avg. (Split 2)':s2})\n",
    "dd = pd.DataFrame(dd, columns=['Feature','Entropy','Splitting Value','Survived Avg. (Split 1)','Survived Avg. (Split 2)'])\n",
    "dd"
   ]
  },
  {
   "cell_type": "markdown",
   "metadata": {},
   "source": [
    "### 7. Now pick the feature that gives the largest entropy gain. This gives you the first split (tree stump). Show the name of the feature, the resulting entropy, and the split position. Print the survived/non-survived percentage in both branches."
   ]
  },
  {
   "cell_type": "code",
   "execution_count": 24,
   "metadata": {},
   "outputs": [
    {
     "name": "stdout",
     "output_type": "stream",
     "text": [
      "\n",
      "Feature with larget Entropy gain:\n"
     ]
    },
    {
     "data": {
      "text/plain": [
       "Feature                         sex\n",
       "Entropy                    0.766312\n",
       "Splitting Value                   0\n",
       "Survived Avg. (Split 1)     70.8895\n",
       "Survived Avg. (Split 2)     19.3787\n",
       "Name: 3, dtype: object"
      ]
     },
     "execution_count": 24,
     "metadata": {},
     "output_type": "execute_result"
    }
   ],
   "source": [
    "print(\"\\nFeature with larget Entropy gain:\")\n",
    "dd.loc[dd['Entropy'].idxmin()]"
   ]
  },
  {
   "cell_type": "markdown",
   "metadata": {},
   "source": [
    "### 8. Create such a recursive function we discussed in the class that takes in data and returns a tree."
   ]
  },
  {
   "cell_type": "code",
   "execution_count": 25,
   "metadata": {
    "collapsed": true
   },
   "outputs": [],
   "source": [
    "def terminal_cond(X,y):\n",
    "    #print(set(y['survived']))\n",
    "    if set(y['survived']) == {1}:\n",
    "        return(1)\n",
    "    elif set(y['survived']) == {0}:\n",
    "        return(0)    \n",
    "    elif X.empty or (len(X) <= 50):\n",
    "        #print(np.mean(y['survived']))\n",
    "        #print(y.shape)\n",
    "        if np.mean(y['survived']) > 0.5:\n",
    "            return(1)\n",
    "        else:\n",
    "            return(0)\n",
    "    else:\n",
    "        return(-1)"
   ]
  },
  {
   "cell_type": "code",
   "execution_count": 26,
   "metadata": {
    "collapsed": true
   },
   "outputs": [],
   "source": [
    "def best_attr(X,y):\n",
    "    ee=[]\n",
    "    aa=[]\n",
    "    bb=[]\n",
    "    cc=[]\n",
    "    t = pd.concat([X, y], axis=1, join_axes=[X.index])\n",
    "    col_val = X.columns.values\n",
    "    for col in col_val:\n",
    "        t = t.copy()\n",
    "        t = t.dropna(subset=[col])\n",
    "        #print(t.columns, t.shape)\n",
    "        a = sorted(t[col].unique())\n",
    "        n = len(t[col].unique())\n",
    "        #print(col)\n",
    "        ee.append(entropy_calc(a,t,v=col))\n",
    "    for ele in ee:\n",
    "        aa.append(ele['Entropy'])\n",
    "        bb.append(ele.index.values[3])\n",
    "        cc.append(ele[3])\n",
    "    f = pd.DataFrame({'Entropy':aa,'Feature':bb,'SV':cc})\n",
    "    #print(f)\n",
    "    #print(f.loc[f['Entropy'].idxmin()])\n",
    "    return(f.loc[f['Entropy'].idxmin()])"
   ]
  },
  {
   "cell_type": "code",
   "execution_count": 27,
   "metadata": {
    "collapsed": true
   },
   "outputs": [],
   "source": [
    "def build_tree(X,y):\n",
    "    lf = terminal_cond(X,y)\n",
    "    if lf == 1 or lf == 0:\n",
    "        return([lf])\n",
    "    else:\n",
    "        #print(\"Xshape\",X.shape)\n",
    "        #print(\"Xcols\",X.columns)\n",
    "        j = best_attr(X,y)\n",
    "        #print(j['Feature'])\n",
    "        #print(j['SV'])\n",
    "        XX = pd.concat([X,y],axis=1,join_axes=[X.index])\n",
    "        XX_new = XX[XX[j['Feature']] <= j['SV']]\n",
    "        X1 = pd.DataFrame(XX_new.drop(['survived'],axis=1))\n",
    "        y1 = pd.DataFrame(XX_new['survived'])\n",
    "            \n",
    "        #print(X1.head())\n",
    "        XX2_new = XX[XX[j['Feature']] > j['SV']]\n",
    "        X2 = pd.DataFrame(XX2_new.drop(['survived'],axis=1))\n",
    "        y2 = pd.DataFrame(XX2_new['survived'])\n",
    "\n",
    "        return([j['Feature'],j['SV'],build_tree(X1,y1),build_tree(X2,y2)])     "
   ]
  },
  {
   "cell_type": "code",
   "execution_count": 28,
   "metadata": {
    "scrolled": false
   },
   "outputs": [
    {
     "data": {
      "text/plain": [
       "['sex',\n",
       " 0.0,\n",
       " ['pclass',\n",
       "  2.0,\n",
       "  ['fare',\n",
       "   26.0,\n",
       "   ['age',\n",
       "    55.0,\n",
       "    ['age', 44.0, ['age', 42.0, ['age', 17.0, [1], [1]], [0]], [1]],\n",
       "    [0]],\n",
       "   ['fare', 146.52080000000001, ['fare', 31.679200000000002, [1], [1]], [1]]],\n",
       "  ['fare',\n",
       "   7.5499999999999998,\n",
       "   [1],\n",
       "   ['age',\n",
       "    0.75,\n",
       "    [1],\n",
       "    ['fare',\n",
       "     31.387499999999999,\n",
       "     ['fare',\n",
       "      31.274999999999999,\n",
       "      ['fare',\n",
       "       22.024999999999999,\n",
       "       ['fare', 14.5, ['age', 27.0, [0], [0]], [1]],\n",
       "       [0]],\n",
       "      [1]],\n",
       "     [0]]]]],\n",
       " ['pclass',\n",
       "  1.0,\n",
       "  ['age',\n",
       "   13.0,\n",
       "   [1],\n",
       "   ['fare', 134.5, ['age', 38.0, [0], ['age', 44.0, [0], [0]]], [0]]],\n",
       "  ['age',\n",
       "   9.0,\n",
       "   [1],\n",
       "   ['age',\n",
       "    32.0,\n",
       "    ['age',\n",
       "     30.0,\n",
       "     ['embarked',\n",
       "      0.0,\n",
       "      ['fare',\n",
       "       10.5,\n",
       "       ['age',\n",
       "        14.0,\n",
       "        [1],\n",
       "        ['fare',\n",
       "         7.5208000000000004,\n",
       "         [0],\n",
       "         ['fare',\n",
       "          7.7957999999999998,\n",
       "          [0],\n",
       "          ['fare', 7.8958000000000004, [0], ['age', 20.0, [0], [0]]]]]],\n",
       "       ['age', 25.0, [0], [0]]],\n",
       "      [0]],\n",
       "     [0]],\n",
       "    ['fare',\n",
       "     7.8958000000000004,\n",
       "     [0],\n",
       "     ['fare',\n",
       "      17.399999999999999,\n",
       "      ['fare',\n",
       "       16.100000000000001,\n",
       "       ['fare', 13.416700000000001, [0], [0]],\n",
       "       [1]],\n",
       "      [0]]]]]]]"
      ]
     },
     "execution_count": 28,
     "metadata": {},
     "output_type": "execute_result"
    }
   ],
   "source": [
    "X = X_train.drop(['survived'],axis=1)\n",
    "y = pd.DataFrame(X_train['survived'])\n",
    "\n",
    "tree = build_tree(X,y)\n",
    "tree"
   ]
  },
  {
   "cell_type": "markdown",
   "metadata": {},
   "source": [
    "### 9. Visualize the two top levels of branches of your tree. \n",
    "Try to make the result readable (I don't ask anything like fancy graphical results) but ensuring that one decision is on a single line, and adding a little manual indentation will make a large step toward making the tree readable. Comment the outcome. Does it make sense? Which variables seem to be more important?"
   ]
  },
  {
   "cell_type": "code",
   "execution_count": 29,
   "metadata": {},
   "outputs": [
    {
     "name": "stdout",
     "output_type": "stream",
     "text": [
      "             sex\n",
      "           ( 0.0 )\n",
      "             / \\         \n",
      "            /   \\         \n",
      "      pclass      pclass\n",
      "     ( 2.0 )       ( 1.0 )\n",
      "       /  \\          / \\         \n",
      "      /    \\        /   \\         \n",
      "  fare    fare    age     [1]\n",
      "( 26.0 )( 146.5208 )( 13.0 )\n"
     ]
    }
   ],
   "source": [
    "print(\"             \" + tree[0])\n",
    "print(\"           (\" , tree[1],\")\")\n",
    "print(\"             /\"+ \"\" +  \" \\         \")\n",
    "print(\"            /\"+ \"\" +  \"   \\         \")\n",
    "print(\"     \" ,tree[2][0], \"    \" , tree[3][0])\n",
    "print(\"     (\" ,tree[2][1], \")       (\" , tree[3][1],\")\")\n",
    "print(\"       /\"+ \"\" +  \"  \\         \" + \" /\"+ \"\" +  \" \\         \" )\n",
    "print(\"      /\"+ \"\" +  \"    \\       \" + \" /\"+ \"\" +  \"   \\         \" )\n",
    "print(\"  \" +tree[2][2][0] +\"    \"+ tree[2][2][3][0] + \"    \" + tree[3][2][0] +\"     \"+ \"[1]\")\n",
    "print(\"(\",tree[2][2][1] ,\")(\",tree[2][2][3][1] ,\")(\",tree[3][2][1],\")\" )"
   ]
  },
  {
   "cell_type": "markdown",
   "metadata": {},
   "source": [
    "<p>Based on the top two level of the branches of the tree, we can say that pclass and fare seems to be best split features. However, we do have a lot of splitting at the age features after level two. Hence, pclass, fare and age can be said to be providing maximum information gain. It makes sense as well because people may had been given preference to onboard a life boat based on their age, passenger class and fare they paid."
   ]
  },
  {
   "cell_type": "markdown",
   "metadata": {},
   "source": [
    "### 10. Predict (based on training data) using your tree. Compute accuracy, precision and recall.\n",
    "Note: you have to create a function that walks through the nested list based on a single observation.\n",
    "As the decisions di\u001ber between individual observations, we cannot easily vectorize the operation. A\n",
    "set of loops is necessary (can be done in parallel)."
   ]
  },
  {
   "cell_type": "code",
   "execution_count": 30,
   "metadata": {
    "collapsed": true
   },
   "outputs": [],
   "source": [
    "def predict(row, tree):\n",
    "    if len(tree) == 1:\n",
    "        return(tree[0])\n",
    "    else:\n",
    "        #print(tree[0])\n",
    "        #print(tree[1])\n",
    "        if row[tree[0]] <= tree[1]:\n",
    "            \n",
    "            return(predict(row,tree[2]))\n",
    "        else:\n",
    "            return(predict(row,tree[3]))"
   ]
  },
  {
   "cell_type": "code",
   "execution_count": 31,
   "metadata": {},
   "outputs": [
    {
     "data": {
      "text/html": [
       "<div>\n",
       "<style>\n",
       "    .dataframe thead tr:only-child th {\n",
       "        text-align: right;\n",
       "    }\n",
       "\n",
       "    .dataframe thead th {\n",
       "        text-align: left;\n",
       "    }\n",
       "\n",
       "    .dataframe tbody tr th {\n",
       "        vertical-align: top;\n",
       "    }\n",
       "</style>\n",
       "<table border=\"1\" class=\"dataframe\">\n",
       "  <thead>\n",
       "    <tr style=\"text-align: right;\">\n",
       "      <th></th>\n",
       "      <th>pclass</th>\n",
       "      <th>sex</th>\n",
       "      <th>age</th>\n",
       "      <th>fare</th>\n",
       "      <th>embarked</th>\n",
       "      <th>parch</th>\n",
       "      <th>sibsp</th>\n",
       "      <th>survived</th>\n",
       "    </tr>\n",
       "  </thead>\n",
       "  <tbody>\n",
       "    <tr>\n",
       "      <th>62</th>\n",
       "      <td>1</td>\n",
       "      <td>1</td>\n",
       "      <td>46.0</td>\n",
       "      <td>61.175</td>\n",
       "      <td>0</td>\n",
       "      <td>0</td>\n",
       "      <td>1</td>\n",
       "      <td>0</td>\n",
       "    </tr>\n",
       "    <tr>\n",
       "      <th>503</th>\n",
       "      <td>2</td>\n",
       "      <td>1</td>\n",
       "      <td>19.0</td>\n",
       "      <td>10.500</td>\n",
       "      <td>0</td>\n",
       "      <td>0</td>\n",
       "      <td>0</td>\n",
       "      <td>1</td>\n",
       "    </tr>\n",
       "    <tr>\n",
       "      <th>745</th>\n",
       "      <td>3</td>\n",
       "      <td>0</td>\n",
       "      <td>30.0</td>\n",
       "      <td>6.950</td>\n",
       "      <td>2</td>\n",
       "      <td>0</td>\n",
       "      <td>0</td>\n",
       "      <td>1</td>\n",
       "    </tr>\n",
       "    <tr>\n",
       "      <th>1154</th>\n",
       "      <td>3</td>\n",
       "      <td>1</td>\n",
       "      <td>NaN</td>\n",
       "      <td>8.050</td>\n",
       "      <td>0</td>\n",
       "      <td>0</td>\n",
       "      <td>0</td>\n",
       "      <td>0</td>\n",
       "    </tr>\n",
       "    <tr>\n",
       "      <th>826</th>\n",
       "      <td>3</td>\n",
       "      <td>1</td>\n",
       "      <td>1.0</td>\n",
       "      <td>46.900</td>\n",
       "      <td>0</td>\n",
       "      <td>2</td>\n",
       "      <td>5</td>\n",
       "      <td>0</td>\n",
       "    </tr>\n",
       "  </tbody>\n",
       "</table>\n",
       "</div>"
      ],
      "text/plain": [
       "      pclass  sex   age    fare  embarked  parch  sibsp  survived\n",
       "62         1    1  46.0  61.175         0      0      1         0\n",
       "503        2    1  19.0  10.500         0      0      0         1\n",
       "745        3    0  30.0   6.950         2      0      0         1\n",
       "1154       3    1   NaN   8.050         0      0      0         0\n",
       "826        3    1   1.0  46.900         0      2      5         0"
      ]
     },
     "execution_count": 31,
     "metadata": {},
     "output_type": "execute_result"
    }
   ],
   "source": [
    "X_train, X_test= train_test_split(dt, test_size=0.20, random_state=1)\n",
    "X_train.head()"
   ]
  },
  {
   "cell_type": "code",
   "execution_count": 32,
   "metadata": {},
   "outputs": [
    {
     "name": "stderr",
     "output_type": "stream",
     "text": [
      "C:\\Users\\Manisha\\Anaconda3\\lib\\site-packages\\ipykernel_launcher.py:6: SettingWithCopyWarning: \n",
      "A value is trying to be set on a copy of a slice from a DataFrame.\n",
      "Try using .loc[row_indexer,col_indexer] = value instead\n",
      "\n",
      "See the caveats in the documentation: http://pandas.pydata.org/pandas-docs/stable/indexing.html#indexing-view-versus-copy\n",
      "  \n"
     ]
    }
   ],
   "source": [
    "pred = []\n",
    "for i in range(len(X_train)):\n",
    "    row = X_train.iloc[i,]\n",
    "    pred.append(predict(row,tree))\n",
    "\n",
    "X_train['pred'] = pred\n",
    "vals = pd.crosstab(X_train['survived'],X_train['pred'])"
   ]
  },
  {
   "cell_type": "code",
   "execution_count": 33,
   "metadata": {
    "collapsed": true
   },
   "outputs": [],
   "source": [
    "tn = vals[0][0]\n",
    "fp = vals[1][0]\n",
    "tp = vals[1][1]\n",
    "fn = vals[0][1]"
   ]
  },
  {
   "cell_type": "code",
   "execution_count": 34,
   "metadata": {},
   "outputs": [
    {
     "name": "stdout",
     "output_type": "stream",
     "text": [
      "Accuracy: 0.819484240688\n",
      "Precision: 0.864768683274\n",
      "Recall: 0.616751269036\n"
     ]
    }
   ],
   "source": [
    "print(\"Accuracy:\",np.mean(X_train['survived'] == X_train['pred']))\n",
    "print(\"Precision:\",tp/(tp+fp))\n",
    "print(\"Recall:\",tp/(tp+fn))"
   ]
  },
  {
   "cell_type": "markdown",
   "metadata": {
    "collapsed": true
   },
   "source": [
    "## 3 Bagging and Random Forests"
   ]
  },
  {
   "cell_type": "markdown",
   "metadata": {},
   "source": [
    "### 3.1 Bagging"
   ]
  },
  {
   "cell_type": "markdown",
   "metadata": {},
   "source": [
    "### 1. Create a small number B of bagging trees (B = 5 is a good choice).\n",
    "Note: as your tree algorithm may be slow, use this to measure and boost the speed. Suggestions\n",
    "to improve the speed are a) use fewer features (but keep age, class, sex); b) use a larger minimum\n",
    "number of observations for splits (say, 100); and c) run your tree-growing code in parallel."
   ]
  },
  {
   "cell_type": "code",
   "execution_count": 35,
   "metadata": {},
   "outputs": [
    {
     "data": {
      "text/html": [
       "<div>\n",
       "<style>\n",
       "    .dataframe thead tr:only-child th {\n",
       "        text-align: right;\n",
       "    }\n",
       "\n",
       "    .dataframe thead th {\n",
       "        text-align: left;\n",
       "    }\n",
       "\n",
       "    .dataframe tbody tr th {\n",
       "        vertical-align: top;\n",
       "    }\n",
       "</style>\n",
       "<table border=\"1\" class=\"dataframe\">\n",
       "  <thead>\n",
       "    <tr style=\"text-align: right;\">\n",
       "      <th></th>\n",
       "      <th>pclass</th>\n",
       "      <th>sex</th>\n",
       "      <th>age</th>\n",
       "      <th>fare</th>\n",
       "      <th>embarked</th>\n",
       "      <th>parch</th>\n",
       "      <th>sibsp</th>\n",
       "      <th>survived</th>\n",
       "    </tr>\n",
       "  </thead>\n",
       "  <tbody>\n",
       "    <tr>\n",
       "      <th>62</th>\n",
       "      <td>1</td>\n",
       "      <td>1</td>\n",
       "      <td>46.0</td>\n",
       "      <td>61.175</td>\n",
       "      <td>0</td>\n",
       "      <td>0</td>\n",
       "      <td>1</td>\n",
       "      <td>0</td>\n",
       "    </tr>\n",
       "    <tr>\n",
       "      <th>503</th>\n",
       "      <td>2</td>\n",
       "      <td>1</td>\n",
       "      <td>19.0</td>\n",
       "      <td>10.500</td>\n",
       "      <td>0</td>\n",
       "      <td>0</td>\n",
       "      <td>0</td>\n",
       "      <td>1</td>\n",
       "    </tr>\n",
       "    <tr>\n",
       "      <th>745</th>\n",
       "      <td>3</td>\n",
       "      <td>0</td>\n",
       "      <td>30.0</td>\n",
       "      <td>6.950</td>\n",
       "      <td>2</td>\n",
       "      <td>0</td>\n",
       "      <td>0</td>\n",
       "      <td>1</td>\n",
       "    </tr>\n",
       "    <tr>\n",
       "      <th>1154</th>\n",
       "      <td>3</td>\n",
       "      <td>1</td>\n",
       "      <td>NaN</td>\n",
       "      <td>8.050</td>\n",
       "      <td>0</td>\n",
       "      <td>0</td>\n",
       "      <td>0</td>\n",
       "      <td>0</td>\n",
       "    </tr>\n",
       "    <tr>\n",
       "      <th>826</th>\n",
       "      <td>3</td>\n",
       "      <td>1</td>\n",
       "      <td>1.0</td>\n",
       "      <td>46.900</td>\n",
       "      <td>0</td>\n",
       "      <td>2</td>\n",
       "      <td>5</td>\n",
       "      <td>0</td>\n",
       "    </tr>\n",
       "  </tbody>\n",
       "</table>\n",
       "</div>"
      ],
      "text/plain": [
       "      pclass  sex   age    fare  embarked  parch  sibsp  survived\n",
       "62         1    1  46.0  61.175         0      0      1         0\n",
       "503        2    1  19.0  10.500         0      0      0         1\n",
       "745        3    0  30.0   6.950         2      0      0         1\n",
       "1154       3    1   NaN   8.050         0      0      0         0\n",
       "826        3    1   1.0  46.900         0      2      5         0"
      ]
     },
     "execution_count": 35,
     "metadata": {},
     "output_type": "execute_result"
    }
   ],
   "source": [
    "X_train, X_test= train_test_split(dt, test_size=0.20, random_state=1)\n",
    "X_train.head()"
   ]
  },
  {
   "cell_type": "code",
   "execution_count": 36,
   "metadata": {},
   "outputs": [
    {
     "name": "stderr",
     "output_type": "stream",
     "text": [
      "C:\\Users\\Manisha\\Anaconda3\\lib\\site-packages\\ipykernel_launcher.py:15: SettingWithCopyWarning: \n",
      "A value is trying to be set on a copy of a slice from a DataFrame.\n",
      "Try using .loc[row_indexer,col_indexer] = value instead\n",
      "\n",
      "See the caveats in the documentation: http://pandas.pydata.org/pandas-docs/stable/indexing.html#indexing-view-versus-copy\n",
      "  from ipykernel import kernelapp as app\n"
     ]
    }
   ],
   "source": [
    "B = 5\n",
    "preds = []\n",
    "\n",
    "for i in range(B):\n",
    "    t = X_train.sample(n=len(X_train),replace=True,random_state = i+1)\n",
    "    X = pd.DataFrame(t.drop(['survived'],axis=1))\n",
    "    y = pd.DataFrame(t['survived'])\n",
    "    tree = build_tree(X,y)\n",
    "    \n",
    "    pred = []\n",
    "    for i in range(len(X_test)):\n",
    "        row = X_test.iloc[i,]\n",
    "        pred.append(predict(row,tree))\n",
    "    \n",
    "    X_test['pred'] = pred\n",
    "    \n",
    "    preds.append(pred)"
   ]
  },
  {
   "cell_type": "markdown",
   "metadata": {},
   "source": [
    "### 2. predict (on test data) the survival according to each individual tree."
   ]
  },
  {
   "cell_type": "code",
   "execution_count": 37,
   "metadata": {},
   "outputs": [
    {
     "data": {
      "text/html": [
       "<div>\n",
       "<style>\n",
       "    .dataframe thead tr:only-child th {\n",
       "        text-align: right;\n",
       "    }\n",
       "\n",
       "    .dataframe thead th {\n",
       "        text-align: left;\n",
       "    }\n",
       "\n",
       "    .dataframe tbody tr th {\n",
       "        vertical-align: top;\n",
       "    }\n",
       "</style>\n",
       "<table border=\"1\" class=\"dataframe\">\n",
       "  <thead>\n",
       "    <tr style=\"text-align: right;\">\n",
       "      <th></th>\n",
       "      <th>pred1</th>\n",
       "      <th>pred2</th>\n",
       "      <th>pred3</th>\n",
       "      <th>pred4</th>\n",
       "      <th>pred5</th>\n",
       "    </tr>\n",
       "  </thead>\n",
       "  <tbody>\n",
       "    <tr>\n",
       "      <th>0</th>\n",
       "      <td>0</td>\n",
       "      <td>0</td>\n",
       "      <td>0</td>\n",
       "      <td>0</td>\n",
       "      <td>0</td>\n",
       "    </tr>\n",
       "    <tr>\n",
       "      <th>1</th>\n",
       "      <td>0</td>\n",
       "      <td>0</td>\n",
       "      <td>0</td>\n",
       "      <td>0</td>\n",
       "      <td>0</td>\n",
       "    </tr>\n",
       "    <tr>\n",
       "      <th>2</th>\n",
       "      <td>1</td>\n",
       "      <td>1</td>\n",
       "      <td>1</td>\n",
       "      <td>1</td>\n",
       "      <td>1</td>\n",
       "    </tr>\n",
       "    <tr>\n",
       "      <th>3</th>\n",
       "      <td>1</td>\n",
       "      <td>1</td>\n",
       "      <td>0</td>\n",
       "      <td>1</td>\n",
       "      <td>1</td>\n",
       "    </tr>\n",
       "    <tr>\n",
       "      <th>4</th>\n",
       "      <td>1</td>\n",
       "      <td>1</td>\n",
       "      <td>1</td>\n",
       "      <td>1</td>\n",
       "      <td>1</td>\n",
       "    </tr>\n",
       "  </tbody>\n",
       "</table>\n",
       "</div>"
      ],
      "text/plain": [
       "   pred1  pred2  pred3  pred4  pred5\n",
       "0      0      0      0      0      0\n",
       "1      0      0      0      0      0\n",
       "2      1      1      1      1      1\n",
       "3      1      1      0      1      1\n",
       "4      1      1      1      1      1"
      ]
     },
     "execution_count": 37,
     "metadata": {},
     "output_type": "execute_result"
    }
   ],
   "source": [
    "dd = pd.DataFrame({'pred1':preds[0],'pred2':preds[1],'pred3':preds[2],'pred4':preds[3],'pred5':preds[4]})\n",
    "dd.head()"
   ]
  },
  {
   "cell_type": "markdown",
   "metadata": {},
   "source": [
    "### 3. Show some aggregate statistics: in how many cases all trees agree?"
   ]
  },
  {
   "cell_type": "code",
   "execution_count": 38,
   "metadata": {},
   "outputs": [
    {
     "name": "stdout",
     "output_type": "stream",
     "text": [
      "Number of cases where all the trees agree: 243\n",
      "Number of cases where they don't agree: 19\n"
     ]
    }
   ],
   "source": [
    "n = (dd.duplicated() + 0).sum()\n",
    "print(\"Number of cases where all the trees agree:\",n)\n",
    "print(\"Number of cases where they don't agree:\",(len(X_test) - n))"
   ]
  },
  {
   "cell_type": "markdown",
   "metadata": {},
   "source": [
    "### 4. Find your final prediction: the majority vote over all trees. Compute accuracy, precision, recall. Did you get better results than in case of the single tree?"
   ]
  },
  {
   "cell_type": "code",
   "execution_count": 39,
   "metadata": {},
   "outputs": [
    {
     "data": {
      "text/html": [
       "<div>\n",
       "<style>\n",
       "    .dataframe thead tr:only-child th {\n",
       "        text-align: right;\n",
       "    }\n",
       "\n",
       "    .dataframe thead th {\n",
       "        text-align: left;\n",
       "    }\n",
       "\n",
       "    .dataframe tbody tr th {\n",
       "        vertical-align: top;\n",
       "    }\n",
       "</style>\n",
       "<table border=\"1\" class=\"dataframe\">\n",
       "  <thead>\n",
       "    <tr style=\"text-align: right;\">\n",
       "      <th></th>\n",
       "      <th>pred1</th>\n",
       "      <th>pred2</th>\n",
       "      <th>pred3</th>\n",
       "      <th>pred4</th>\n",
       "      <th>pred5</th>\n",
       "      <th>Avg_Pred</th>\n",
       "    </tr>\n",
       "  </thead>\n",
       "  <tbody>\n",
       "    <tr>\n",
       "      <th>0</th>\n",
       "      <td>0</td>\n",
       "      <td>0</td>\n",
       "      <td>0</td>\n",
       "      <td>0</td>\n",
       "      <td>0</td>\n",
       "      <td>0</td>\n",
       "    </tr>\n",
       "    <tr>\n",
       "      <th>1</th>\n",
       "      <td>0</td>\n",
       "      <td>0</td>\n",
       "      <td>0</td>\n",
       "      <td>0</td>\n",
       "      <td>0</td>\n",
       "      <td>0</td>\n",
       "    </tr>\n",
       "    <tr>\n",
       "      <th>2</th>\n",
       "      <td>1</td>\n",
       "      <td>1</td>\n",
       "      <td>1</td>\n",
       "      <td>1</td>\n",
       "      <td>1</td>\n",
       "      <td>1</td>\n",
       "    </tr>\n",
       "    <tr>\n",
       "      <th>3</th>\n",
       "      <td>1</td>\n",
       "      <td>1</td>\n",
       "      <td>0</td>\n",
       "      <td>1</td>\n",
       "      <td>1</td>\n",
       "      <td>1</td>\n",
       "    </tr>\n",
       "    <tr>\n",
       "      <th>4</th>\n",
       "      <td>1</td>\n",
       "      <td>1</td>\n",
       "      <td>1</td>\n",
       "      <td>1</td>\n",
       "      <td>1</td>\n",
       "      <td>1</td>\n",
       "    </tr>\n",
       "  </tbody>\n",
       "</table>\n",
       "</div>"
      ],
      "text/plain": [
       "   pred1  pred2  pred3  pred4  pred5  Avg_Pred\n",
       "0      0      0      0      0      0         0\n",
       "1      0      0      0      0      0         0\n",
       "2      1      1      1      1      1         1\n",
       "3      1      1      0      1      1         1\n",
       "4      1      1      1      1      1         1"
      ]
     },
     "execution_count": 39,
     "metadata": {},
     "output_type": "execute_result"
    }
   ],
   "source": [
    "dd['Avg_Pred'] = (dd.mean(axis=1) >=0.5)+0\n",
    "dd.head()"
   ]
  },
  {
   "cell_type": "code",
   "execution_count": 40,
   "metadata": {},
   "outputs": [
    {
     "name": "stdout",
     "output_type": "stream",
     "text": [
      "Accuracy: 0.793893129771\n",
      "Precision: 0.705882352941\n",
      "Recall: 0.324324324324\n"
     ]
    }
   ],
   "source": [
    "vals = pd.crosstab(X_test['survived'],dd['Avg_Pred'])\n",
    "tn = vals[0][0]\n",
    "fp = vals[1][0]\n",
    "tp = vals[1][1]\n",
    "fn = vals[0][1]\n",
    "\n",
    "print(\"Accuracy:\",np.mean(X_test['survived'].values == dd['Avg_Pred'].values))\n",
    "print(\"Precision:\",tp/(tp+fp))\n",
    "print(\"Recall:\",tp/(tp+fn))"
   ]
  },
  {
   "cell_type": "markdown",
   "metadata": {},
   "source": [
    "#### No, the results didn't improve from the single tree case."
   ]
  },
  {
   "cell_type": "markdown",
   "metadata": {},
   "source": [
    "### 5. Repeat the process above with a large range of B, say, between 1 and 300. \n",
    "(Hint: you don't have to test every single number between 1 and 300. Choose numbers that make this not too slow on your\n",
    "computer.) For each B, compute accuracy, precision, recall."
   ]
  },
  {
   "cell_type": "code",
   "execution_count": 41,
   "metadata": {},
   "outputs": [
    {
     "data": {
      "text/html": [
       "<div>\n",
       "<style>\n",
       "    .dataframe thead tr:only-child th {\n",
       "        text-align: right;\n",
       "    }\n",
       "\n",
       "    .dataframe thead th {\n",
       "        text-align: left;\n",
       "    }\n",
       "\n",
       "    .dataframe tbody tr th {\n",
       "        vertical-align: top;\n",
       "    }\n",
       "</style>\n",
       "<table border=\"1\" class=\"dataframe\">\n",
       "  <thead>\n",
       "    <tr style=\"text-align: right;\">\n",
       "      <th></th>\n",
       "      <th>pclass</th>\n",
       "      <th>sex</th>\n",
       "      <th>age</th>\n",
       "      <th>fare</th>\n",
       "      <th>embarked</th>\n",
       "      <th>parch</th>\n",
       "      <th>sibsp</th>\n",
       "      <th>survived</th>\n",
       "    </tr>\n",
       "  </thead>\n",
       "  <tbody>\n",
       "    <tr>\n",
       "      <th>62</th>\n",
       "      <td>1</td>\n",
       "      <td>1</td>\n",
       "      <td>46.0</td>\n",
       "      <td>61.175</td>\n",
       "      <td>0</td>\n",
       "      <td>0</td>\n",
       "      <td>1</td>\n",
       "      <td>0</td>\n",
       "    </tr>\n",
       "    <tr>\n",
       "      <th>503</th>\n",
       "      <td>2</td>\n",
       "      <td>1</td>\n",
       "      <td>19.0</td>\n",
       "      <td>10.500</td>\n",
       "      <td>0</td>\n",
       "      <td>0</td>\n",
       "      <td>0</td>\n",
       "      <td>1</td>\n",
       "    </tr>\n",
       "    <tr>\n",
       "      <th>745</th>\n",
       "      <td>3</td>\n",
       "      <td>0</td>\n",
       "      <td>30.0</td>\n",
       "      <td>6.950</td>\n",
       "      <td>2</td>\n",
       "      <td>0</td>\n",
       "      <td>0</td>\n",
       "      <td>1</td>\n",
       "    </tr>\n",
       "    <tr>\n",
       "      <th>1154</th>\n",
       "      <td>3</td>\n",
       "      <td>1</td>\n",
       "      <td>NaN</td>\n",
       "      <td>8.050</td>\n",
       "      <td>0</td>\n",
       "      <td>0</td>\n",
       "      <td>0</td>\n",
       "      <td>0</td>\n",
       "    </tr>\n",
       "    <tr>\n",
       "      <th>826</th>\n",
       "      <td>3</td>\n",
       "      <td>1</td>\n",
       "      <td>1.0</td>\n",
       "      <td>46.900</td>\n",
       "      <td>0</td>\n",
       "      <td>2</td>\n",
       "      <td>5</td>\n",
       "      <td>0</td>\n",
       "    </tr>\n",
       "  </tbody>\n",
       "</table>\n",
       "</div>"
      ],
      "text/plain": [
       "      pclass  sex   age    fare  embarked  parch  sibsp  survived\n",
       "62         1    1  46.0  61.175         0      0      1         0\n",
       "503        2    1  19.0  10.500         0      0      0         1\n",
       "745        3    0  30.0   6.950         2      0      0         1\n",
       "1154       3    1   NaN   8.050         0      0      0         0\n",
       "826        3    1   1.0  46.900         0      2      5         0"
      ]
     },
     "execution_count": 41,
     "metadata": {},
     "output_type": "execute_result"
    }
   ],
   "source": [
    "X_train, X_test= train_test_split(dt, test_size=0.20, random_state=1)\n",
    "X_train.head()"
   ]
  },
  {
   "cell_type": "code",
   "execution_count": 42,
   "metadata": {},
   "outputs": [
    {
     "name": "stderr",
     "output_type": "stream",
     "text": [
      "C:\\Users\\Manisha\\Anaconda3\\lib\\site-packages\\ipykernel_launcher.py:15: SettingWithCopyWarning: \n",
      "A value is trying to be set on a copy of a slice from a DataFrame.\n",
      "Try using .loc[row_indexer,col_indexer] = value instead\n",
      "\n",
      "See the caveats in the documentation: http://pandas.pydata.org/pandas-docs/stable/indexing.html#indexing-view-versus-copy\n",
      "  from ipykernel import kernelapp as app\n"
     ]
    }
   ],
   "source": [
    "B = 100\n",
    "preds = []\n",
    "\n",
    "for i in range(B):\n",
    "    t = X_train.sample(n=len(X_train),replace=True)\n",
    "    X = pd.DataFrame(t.drop(['survived'],axis=1))\n",
    "    y = pd.DataFrame(t['survived'])\n",
    "    tree = build_tree(X,y)\n",
    "    \n",
    "    pred = []\n",
    "    for i in range(len(X_test)):\n",
    "        row = X_test.iloc[i,]\n",
    "        pred.append(predict(row,tree))\n",
    "    \n",
    "    X_test['pred'] = pred\n",
    "    \n",
    "    preds.append(pred)"
   ]
  },
  {
   "cell_type": "code",
   "execution_count": 43,
   "metadata": {
    "collapsed": true
   },
   "outputs": [],
   "source": [
    "dd = pd.DataFrame()"
   ]
  },
  {
   "cell_type": "code",
   "execution_count": 44,
   "metadata": {
    "collapsed": true
   },
   "outputs": [],
   "source": [
    "for i in range(B):\n",
    "    dd['Pred'+str(i+1)]=preds[i]"
   ]
  },
  {
   "cell_type": "code",
   "execution_count": 45,
   "metadata": {},
   "outputs": [
    {
     "name": "stdout",
     "output_type": "stream",
     "text": [
      "Number of cases where all the trees agree: 77\n",
      "Number of cases where they don't agree: 185\n"
     ]
    }
   ],
   "source": [
    "n = (dd.duplicated() + 0).sum()\n",
    "print(\"Number of cases where all the trees agree:\",n)\n",
    "print(\"Number of cases where they don't agree:\",(len(X_test) - n))"
   ]
  },
  {
   "cell_type": "code",
   "execution_count": 46,
   "metadata": {},
   "outputs": [
    {
     "name": "stdout",
     "output_type": "stream",
     "text": [
      "Accuracy: 0.786259541985\n",
      "Precision: 0.722222222222\n",
      "Recall: 0.351351351351\n"
     ]
    }
   ],
   "source": [
    "dd['Avg_Pred'] = (dd.mean(axis=1) >=0.5)+0\n",
    "dd.head()\n",
    "vals = pd.crosstab(X_test['survived'],dd['Avg_Pred'])\n",
    "tn = vals[0][0]\n",
    "fp = vals[1][0]\n",
    "tp = vals[1][1]\n",
    "fn = vals[0][1]\n",
    "\n",
    "print(\"Accuracy:\",np.mean(X_test['survived'].values == dd['Avg_Pred'].values))\n",
    "print(\"Precision:\",tp/(tp+fp))\n",
    "print(\"Recall:\",tp/(tp+fn))"
   ]
  },
  {
   "cell_type": "code",
   "execution_count": 47,
   "metadata": {},
   "outputs": [
    {
     "data": {
      "text/html": [
       "<div>\n",
       "<style>\n",
       "    .dataframe thead tr:only-child th {\n",
       "        text-align: right;\n",
       "    }\n",
       "\n",
       "    .dataframe thead th {\n",
       "        text-align: left;\n",
       "    }\n",
       "\n",
       "    .dataframe tbody tr th {\n",
       "        vertical-align: top;\n",
       "    }\n",
       "</style>\n",
       "<table border=\"1\" class=\"dataframe\">\n",
       "  <thead>\n",
       "    <tr style=\"text-align: right;\">\n",
       "      <th></th>\n",
       "      <th>pclass</th>\n",
       "      <th>sex</th>\n",
       "      <th>age</th>\n",
       "      <th>fare</th>\n",
       "      <th>embarked</th>\n",
       "      <th>parch</th>\n",
       "      <th>sibsp</th>\n",
       "      <th>survived</th>\n",
       "    </tr>\n",
       "  </thead>\n",
       "  <tbody>\n",
       "    <tr>\n",
       "      <th>62</th>\n",
       "      <td>1</td>\n",
       "      <td>1</td>\n",
       "      <td>46.0</td>\n",
       "      <td>61.175</td>\n",
       "      <td>0</td>\n",
       "      <td>0</td>\n",
       "      <td>1</td>\n",
       "      <td>0</td>\n",
       "    </tr>\n",
       "    <tr>\n",
       "      <th>503</th>\n",
       "      <td>2</td>\n",
       "      <td>1</td>\n",
       "      <td>19.0</td>\n",
       "      <td>10.500</td>\n",
       "      <td>0</td>\n",
       "      <td>0</td>\n",
       "      <td>0</td>\n",
       "      <td>1</td>\n",
       "    </tr>\n",
       "    <tr>\n",
       "      <th>745</th>\n",
       "      <td>3</td>\n",
       "      <td>0</td>\n",
       "      <td>30.0</td>\n",
       "      <td>6.950</td>\n",
       "      <td>2</td>\n",
       "      <td>0</td>\n",
       "      <td>0</td>\n",
       "      <td>1</td>\n",
       "    </tr>\n",
       "    <tr>\n",
       "      <th>1154</th>\n",
       "      <td>3</td>\n",
       "      <td>1</td>\n",
       "      <td>NaN</td>\n",
       "      <td>8.050</td>\n",
       "      <td>0</td>\n",
       "      <td>0</td>\n",
       "      <td>0</td>\n",
       "      <td>0</td>\n",
       "    </tr>\n",
       "    <tr>\n",
       "      <th>826</th>\n",
       "      <td>3</td>\n",
       "      <td>1</td>\n",
       "      <td>1.0</td>\n",
       "      <td>46.900</td>\n",
       "      <td>0</td>\n",
       "      <td>2</td>\n",
       "      <td>5</td>\n",
       "      <td>0</td>\n",
       "    </tr>\n",
       "  </tbody>\n",
       "</table>\n",
       "</div>"
      ],
      "text/plain": [
       "      pclass  sex   age    fare  embarked  parch  sibsp  survived\n",
       "62         1    1  46.0  61.175         0      0      1         0\n",
       "503        2    1  19.0  10.500         0      0      0         1\n",
       "745        3    0  30.0   6.950         2      0      0         1\n",
       "1154       3    1   NaN   8.050         0      0      0         0\n",
       "826        3    1   1.0  46.900         0      2      5         0"
      ]
     },
     "execution_count": 47,
     "metadata": {},
     "output_type": "execute_result"
    }
   ],
   "source": [
    "X_train, X_test= train_test_split(dt, test_size=0.20, random_state=1)\n",
    "X_train.head()"
   ]
  },
  {
   "cell_type": "code",
   "execution_count": 52,
   "metadata": {
    "scrolled": true
   },
   "outputs": [
    {
     "name": "stderr",
     "output_type": "stream",
     "text": [
      "C:\\Users\\Manisha\\Anaconda3\\lib\\site-packages\\ipykernel_launcher.py:15: SettingWithCopyWarning: \n",
      "A value is trying to be set on a copy of a slice from a DataFrame.\n",
      "Try using .loc[row_indexer,col_indexer] = value instead\n",
      "\n",
      "See the caveats in the documentation: http://pandas.pydata.org/pandas-docs/stable/indexing.html#indexing-view-versus-copy\n",
      "  from ipykernel import kernelapp as app\n"
     ]
    },
    {
     "name": "stdout",
     "output_type": "stream",
     "text": [
      "Number of cases where all the trees agree: 63\n",
      "Number of cases where they don't agree: 199\n",
      "Accuracy: 0.778625954198\n",
      "Precision: 0.6875\n",
      "Recall: 0.297297297297\n"
     ]
    }
   ],
   "source": [
    "B = 200\n",
    "preds = []\n",
    "\n",
    "for i in range(B):\n",
    "    t = X_train.sample(n=len(X_train),replace=True,random_state = i+1)\n",
    "    X = pd.DataFrame(t.drop(['survived'],axis=1))\n",
    "    y = pd.DataFrame(t['survived'])\n",
    "    tree = build_tree(X,y)\n",
    "\n",
    "    pred = []\n",
    "    for i in range(len(X_test)):\n",
    "        row = X_test.iloc[i,]\n",
    "        pred.append(predict(row,tree))\n",
    "\n",
    "    X_test['pred'] = pred\n",
    "\n",
    "    preds.append(pred)\n",
    "\n",
    "dd = pd.DataFrame()\n",
    "for i in range(B):\n",
    "    dd['Pred'+str(i+1)]=preds[i]\n",
    "\n",
    "n = (dd.duplicated() + 0).sum()\n",
    "print(\"Number of cases where all the trees agree:\",n)\n",
    "print(\"Number of cases where they don't agree:\",(len(X_test) - n))\n",
    "\n",
    "dd['Avg_Pred'] = (dd.mean(axis=1) >=0.5)+0\n",
    "dd.head()\n",
    "vals = pd.crosstab(X_test['survived'],dd['Avg_Pred'])\n",
    "tn = vals[0][0]\n",
    "fp = vals[1][0]\n",
    "tp = vals[1][1]\n",
    "fn = vals[0][1]\n",
    "\n",
    "print(\"Accuracy:\",np.mean(X_test['survived'].values == dd['Avg_Pred'].values))\n",
    "print(\"Precision:\",tp/(tp+fp))\n",
    "print(\"Recall:\",tp/(tp+fn))"
   ]
  },
  {
   "cell_type": "markdown",
   "metadata": {},
   "source": [
    "### 6. Show on a figure how A, P, R depend on the B."
   ]
  },
  {
   "cell_type": "code",
   "execution_count": 56,
   "metadata": {},
   "outputs": [
    {
     "name": "stdout",
     "output_type": "stream",
     "text": [
      "1\n"
     ]
    },
    {
     "name": "stderr",
     "output_type": "stream",
     "text": [
      "C:\\Users\\Manisha\\Anaconda3\\lib\\site-packages\\ipykernel_launcher.py:26: SettingWithCopyWarning: \n",
      "A value is trying to be set on a copy of a slice from a DataFrame.\n",
      "Try using .loc[row_indexer,col_indexer] = value instead\n",
      "\n",
      "See the caveats in the documentation: http://pandas.pydata.org/pandas-docs/stable/indexing.html#indexing-view-versus-copy\n"
     ]
    },
    {
     "name": "stdout",
     "output_type": "stream",
     "text": [
      "21\n",
      "41\n",
      "61\n",
      "81\n",
      "101\n",
      "121\n",
      "141\n"
     ]
    }
   ],
   "source": [
    "X_train, X_test= train_test_split(dt, test_size=0.20, random_state=1)\n",
    "X_train.head()\n",
    "\n",
    "a1=[]\n",
    "p1=[]\n",
    "r1=[]\n",
    "b1=[]\n",
    "\n",
    "for B in range(1,150,20):\n",
    "    print(B)\n",
    "    preds=[]\n",
    "\n",
    "    for i in range(B):\n",
    "        t = X_train.sample(n=len(X_train),replace=True,random_state = i+1)\n",
    "        X = pd.DataFrame(t.drop(['survived'],axis=1))\n",
    "        y = pd.DataFrame(t['survived'])\n",
    "        tree = build_tree(X,y)\n",
    "    \n",
    "        pred = []\n",
    "        #print(tree)\n",
    "        \n",
    "        for j in range(len(X_test)):\n",
    "            row = X_test.iloc[j,]\n",
    "            pred.append(predict(row,tree))\n",
    "    \n",
    "        X_test['pred'] = pred\n",
    "    \n",
    "        preds.append(pred)       \n",
    "    #print(pred)\n",
    "    \n",
    "    dd = pd.DataFrame()\n",
    "    \n",
    "    for k in range(B):\n",
    "        #print(k)\n",
    "        dd['Pred'+str(k+1)]=preds[k]\n",
    "    \n",
    "    dd['Avg_Pred'] = (dd.mean(axis=1) >=0.5)+0\n",
    "    \n",
    "    #print(dd)\n",
    "\n",
    "    vals = pd.crosstab(X_test['survived'],dd['Avg_Pred'])\n",
    "    #print(vals)\n",
    "    tn = vals[0][0]\n",
    "    fp = vals[1][0]\n",
    "    tp = vals[1][1]\n",
    "    fn = vals[0][1]\n",
    "    \n",
    "\n",
    "    #print(\"Accuracy:\",np.mean(X_test['survived'].values == dd['Avg_Pred'].values))\n",
    "    #print(\"Precision:\",tp/(tp+fp))\n",
    "    #print(\"Recall:\",tp/(tp+fn)) \n",
    "    \n",
    "    a1.append(np.mean(X_test['survived'].values == dd['Avg_Pred'].values))\n",
    "    p1.append(tp/(tp+fp))\n",
    "    r1.append(tp/(tp+fn))\n",
    "    b1.append(B)"
   ]
  },
  {
   "cell_type": "code",
   "execution_count": 57,
   "metadata": {
    "scrolled": false
   },
   "outputs": [
    {
     "data": {
      "image/png": "[encoded data removed]",
      "text/plain": [
       "<matplotlib.figure.Figure at 0x166bde28ef0>"
      ]
     },
     "metadata": {},
     "output_type": "display_data"
    }
   ],
   "source": [
    "x = [i for i in range(1,150,20)]\n",
    "\n",
    "plt.figure(figsize=(10,8))\n",
    "plt.plot(x, a1,'-o')\n",
    "plt.plot(x, p1,'-o')\n",
    "plt.plot(x, r1,'-o')\n",
    "\n",
    "plt.legend(['Accuracy', 'Precision', 'Recall'], loc='right')\n",
    "plt.xlabel(\"Bag Size\", fontsize=15)\n",
    "plt.ylabel(\"Metric\", fontsize=15)\n",
    "plt.title(\"Variation in Evaluation Metrics over Bag Size\", fontsize=18)\n",
    "\n",
    "plt.show()"
   ]
  },
  {
   "cell_type": "markdown",
   "metadata": {},
   "source": [
    "### 7. Discuss your findings. What is the optimal bag size B?"
   ]
  },
  {
   "cell_type": "markdown",
   "metadata": {},
   "source": [
    "<p> Based on the plot abaove, we receive higher values for accuracy, preision and recall for lower bag sizes. Recall and precision varie a lot overall. However, accuracy becomes fairly constant at higher values of Bag size indicating no effect of increasing the bag size on accuracy. \n",
    "\n",
    "<p> We get the highest accuracy around bag size of 20 while recall is highest at 1 bag size and precision is highest at around 100 bag size."
   ]
  },
  {
   "cell_type": "markdown",
   "metadata": {},
   "source": [
    "## 3.2 Random Forests"
   ]
  },
  {
   "cell_type": "markdown",
   "metadata": {},
   "source": [
    "### 1. Implement random tree algorithm by changing your previous growTree algorithm. We refer the new version as growForestTree.\n",
    "Note: depending on how you implemented the data structures and the prediction algorithm, you\n",
    "may have to adjust the prediction function too."
   ]
  },
  {
   "cell_type": "code",
   "execution_count": 58,
   "metadata": {
    "collapsed": true
   },
   "outputs": [],
   "source": [
    "def terminal_cond1(X,y):\n",
    "    #print(set(y['survived']))\n",
    "    if set(y['survived']) == {1}:\n",
    "        return(1)\n",
    "    elif set(y['survived']) == {0}:\n",
    "        return(0)    \n",
    "    elif (len(X) <= 100):\n",
    "        #print(np.mean(y['survived']))\n",
    "        #print(y.shape)\n",
    "        if np.mean(y['survived']) > 0.5:\n",
    "            return(1)\n",
    "        else:\n",
    "            return(0)\n",
    "    else:\n",
    "        return(-1)"
   ]
  },
  {
   "cell_type": "code",
   "execution_count": 59,
   "metadata": {
    "collapsed": true
   },
   "outputs": [],
   "source": [
    "def best_attr1(X,y):\n",
    "    ee=[]\n",
    "    aa=[]\n",
    "    bb=[]\n",
    "    cc=[]\n",
    "    t = pd.concat([X, y], axis=1, join_axes=[X.index])\n",
    "    #print(t)\n",
    "    \n",
    "    col_val = np.random.choice(X.columns.values,int(round(np.sqrt(len(X.columns.values)))),replace=False)\n",
    "    #print(col_val)\n",
    "    for col in col_val:\n",
    "        #print(col)\n",
    "        t = t.copy()\n",
    "        #print(t.head())\n",
    "        t = t.dropna(subset=[col])\n",
    "        #print(t.columns, t.shape)\n",
    "        a = sorted(t[col].unique())\n",
    "        n = len(t[col].unique())\n",
    "        #print(col)\n",
    "        ee.append(entropy_calc(a,t,v=col))\n",
    "    for ele in ee:\n",
    "        aa.append(ele['Entropy'])\n",
    "        bb.append(ele.index.values[3])\n",
    "        cc.append(ele[3])\n",
    "    f = pd.DataFrame({'Entropy':aa,'Feature':bb,'SV':cc})\n",
    "    #print(f)\n",
    "    #print(f.loc[f['Entropy'].idxmin()])\n",
    "    return(f.loc[f['Entropy'].idxmin()])"
   ]
  },
  {
   "cell_type": "code",
   "execution_count": 60,
   "metadata": {
    "collapsed": true
   },
   "outputs": [],
   "source": [
    "def growforesttree(X,y):\n",
    "    lf = terminal_cond1(X,y)\n",
    "    if lf == 1 or lf == 0:\n",
    "        return([lf])\n",
    "    else:\n",
    "        #print(\"Xshape\",X.shape)\n",
    "        #print(\"Xcols\",X.columns)\n",
    "        j = best_attr1(X,y)\n",
    "        #print(j['Feature'])\n",
    "        #print(j['SV'])\n",
    "        XX = pd.concat([X,y],axis=1,join_axes=[X.index])\n",
    "        #print(XX.head())\n",
    "        XX_new = XX[XX[j['Feature']] <= j['SV']]\n",
    "        X1 = pd.DataFrame(XX_new.drop(['survived'],axis=1))\n",
    "        y1 = pd.DataFrame(XX_new['survived'])\n",
    "            \n",
    "        #print(X1.head())\n",
    "        XX2_new = XX[XX[j['Feature']] > j['SV']]\n",
    "        X2 = pd.DataFrame(XX2_new.drop(['survived'],axis=1))\n",
    "        y2 = pd.DataFrame(XX2_new['survived'])\n",
    "        \n",
    "        #print(X1.head())\n",
    "\n",
    "        return([j['Feature'],j['SV'],growforesttree(X1,y1),growforesttree(X2,y2)])"
   ]
  },
  {
   "cell_type": "code",
   "execution_count": 61,
   "metadata": {},
   "outputs": [
    {
     "data": {
      "text/html": [
       "<div>\n",
       "<style>\n",
       "    .dataframe thead tr:only-child th {\n",
       "        text-align: right;\n",
       "    }\n",
       "\n",
       "    .dataframe thead th {\n",
       "        text-align: left;\n",
       "    }\n",
       "\n",
       "    .dataframe tbody tr th {\n",
       "        vertical-align: top;\n",
       "    }\n",
       "</style>\n",
       "<table border=\"1\" class=\"dataframe\">\n",
       "  <thead>\n",
       "    <tr style=\"text-align: right;\">\n",
       "      <th></th>\n",
       "      <th>pclass</th>\n",
       "      <th>sex</th>\n",
       "      <th>age</th>\n",
       "      <th>fare</th>\n",
       "      <th>embarked</th>\n",
       "      <th>parch</th>\n",
       "      <th>sibsp</th>\n",
       "      <th>survived</th>\n",
       "    </tr>\n",
       "  </thead>\n",
       "  <tbody>\n",
       "    <tr>\n",
       "      <th>62</th>\n",
       "      <td>1</td>\n",
       "      <td>1</td>\n",
       "      <td>46.0</td>\n",
       "      <td>61.175</td>\n",
       "      <td>0</td>\n",
       "      <td>0</td>\n",
       "      <td>1</td>\n",
       "      <td>0</td>\n",
       "    </tr>\n",
       "    <tr>\n",
       "      <th>503</th>\n",
       "      <td>2</td>\n",
       "      <td>1</td>\n",
       "      <td>19.0</td>\n",
       "      <td>10.500</td>\n",
       "      <td>0</td>\n",
       "      <td>0</td>\n",
       "      <td>0</td>\n",
       "      <td>1</td>\n",
       "    </tr>\n",
       "    <tr>\n",
       "      <th>745</th>\n",
       "      <td>3</td>\n",
       "      <td>0</td>\n",
       "      <td>30.0</td>\n",
       "      <td>6.950</td>\n",
       "      <td>2</td>\n",
       "      <td>0</td>\n",
       "      <td>0</td>\n",
       "      <td>1</td>\n",
       "    </tr>\n",
       "    <tr>\n",
       "      <th>1154</th>\n",
       "      <td>3</td>\n",
       "      <td>1</td>\n",
       "      <td>NaN</td>\n",
       "      <td>8.050</td>\n",
       "      <td>0</td>\n",
       "      <td>0</td>\n",
       "      <td>0</td>\n",
       "      <td>0</td>\n",
       "    </tr>\n",
       "    <tr>\n",
       "      <th>826</th>\n",
       "      <td>3</td>\n",
       "      <td>1</td>\n",
       "      <td>1.0</td>\n",
       "      <td>46.900</td>\n",
       "      <td>0</td>\n",
       "      <td>2</td>\n",
       "      <td>5</td>\n",
       "      <td>0</td>\n",
       "    </tr>\n",
       "  </tbody>\n",
       "</table>\n",
       "</div>"
      ],
      "text/plain": [
       "      pclass  sex   age    fare  embarked  parch  sibsp  survived\n",
       "62         1    1  46.0  61.175         0      0      1         0\n",
       "503        2    1  19.0  10.500         0      0      0         1\n",
       "745        3    0  30.0   6.950         2      0      0         1\n",
       "1154       3    1   NaN   8.050         0      0      0         0\n",
       "826        3    1   1.0  46.900         0      2      5         0"
      ]
     },
     "execution_count": 61,
     "metadata": {},
     "output_type": "execute_result"
    }
   ],
   "source": [
    "X_train, X_test= train_test_split(dt, test_size=0.20, random_state=1)\n",
    "X_train.head()"
   ]
  },
  {
   "cell_type": "code",
   "execution_count": 62,
   "metadata": {
    "scrolled": true
   },
   "outputs": [
    {
     "name": "stderr",
     "output_type": "stream",
     "text": [
      "C:\\Users\\Manisha\\Anaconda3\\lib\\site-packages\\ipykernel_launcher.py:15: SettingWithCopyWarning: \n",
      "A value is trying to be set on a copy of a slice from a DataFrame.\n",
      "Try using .loc[row_indexer,col_indexer] = value instead\n",
      "\n",
      "See the caveats in the documentation: http://pandas.pydata.org/pandas-docs/stable/indexing.html#indexing-view-versus-copy\n",
      "  from ipykernel import kernelapp as app\n"
     ]
    }
   ],
   "source": [
    "B = 5\n",
    "preds = []\n",
    "\n",
    "for i in range(B):\n",
    "    t = X_train.sample(n=len(X_train),replace=True,random_state = i+1)\n",
    "    X = pd.DataFrame(t.drop(['survived'],axis=1))\n",
    "    y = pd.DataFrame(t['survived'])\n",
    "    tree = growforesttree(X,y)\n",
    "    \n",
    "    pred = []\n",
    "    for i in range(len(X_test)):\n",
    "        row = X_test.iloc[i,]\n",
    "        pred.append(predict(row,tree))\n",
    "    \n",
    "    X_test['pred'] = pred\n",
    "    \n",
    "    preds.append(pred)"
   ]
  },
  {
   "cell_type": "code",
   "execution_count": 63,
   "metadata": {},
   "outputs": [
    {
     "name": "stdout",
     "output_type": "stream",
     "text": [
      "Number of cases where all the trees agree: 238\n",
      "Number of cases where they don't agree: 24\n"
     ]
    }
   ],
   "source": [
    "dd = pd.DataFrame()\n",
    "for i in range(B):\n",
    "    dd['Pred'+str(i+1)]=preds[i]\n",
    "    \n",
    "n = (dd.duplicated() + 0).sum()\n",
    "print(\"Number of cases where all the trees agree:\",n)\n",
    "print(\"Number of cases where they don't agree:\",(len(X_test) - n))"
   ]
  },
  {
   "cell_type": "code",
   "execution_count": 64,
   "metadata": {},
   "outputs": [
    {
     "name": "stdout",
     "output_type": "stream",
     "text": [
      "Accuracy: 0.770992366412\n",
      "Precision: 0.714285714286\n",
      "Recall: 0.27027027027\n"
     ]
    }
   ],
   "source": [
    "dd['Avg_Pred'] = (dd.mean(axis=1) >=0.5)+0\n",
    "dd.head()\n",
    "vals = pd.crosstab(X_test['survived'],dd['Avg_Pred'])\n",
    "tn = vals[0][0]\n",
    "fp = vals[1][0]\n",
    "tp = vals[1][1]\n",
    "fn = vals[0][1]\n",
    "\n",
    "print(\"Accuracy:\",np.mean(X_test['survived'].values == dd['Avg_Pred'].values))\n",
    "print(\"Precision:\",tp/(tp+fp))\n",
    "print(\"Recall:\",tp/(tp+fn))"
   ]
  },
  {
   "cell_type": "markdown",
   "metadata": {},
   "source": [
    "### 2. Create random forests of different size B. Ideally you want to go up to B = 1000, but you may need to keep the number much smaller in order to finish in a reasonable time. For each B, compute accuracy, precision, recall."
   ]
  },
  {
   "cell_type": "code",
   "execution_count": 65,
   "metadata": {},
   "outputs": [
    {
     "name": "stdout",
     "output_type": "stream",
     "text": [
      "1\n"
     ]
    },
    {
     "name": "stderr",
     "output_type": "stream",
     "text": [
      "C:\\Users\\Manisha\\Anaconda3\\lib\\site-packages\\ipykernel_launcher.py:24: SettingWithCopyWarning: \n",
      "A value is trying to be set on a copy of a slice from a DataFrame.\n",
      "Try using .loc[row_indexer,col_indexer] = value instead\n",
      "\n",
      "See the caveats in the documentation: http://pandas.pydata.org/pandas-docs/stable/indexing.html#indexing-view-versus-copy\n"
     ]
    },
    {
     "name": "stdout",
     "output_type": "stream",
     "text": [
      "Number of cases where all the trees agree: 260\n",
      "Number of cases where they don't agree: 2\n",
      "21\n",
      "Number of cases where all the trees agree: 180\n",
      "Number of cases where they don't agree: 82\n",
      "41\n",
      "Number of cases where all the trees agree: 134\n",
      "Number of cases where they don't agree: 128\n",
      "61\n",
      "Number of cases where all the trees agree: 102\n",
      "Number of cases where they don't agree: 160\n",
      "81\n",
      "Number of cases where all the trees agree: 92\n",
      "Number of cases where they don't agree: 170\n",
      "101\n",
      "Number of cases where all the trees agree: 85\n",
      "Number of cases where they don't agree: 177\n",
      "121\n",
      "Number of cases where all the trees agree: 74\n",
      "Number of cases where they don't agree: 188\n",
      "141\n",
      "Number of cases where all the trees agree: 72\n",
      "Number of cases where they don't agree: 190\n"
     ]
    }
   ],
   "source": [
    "X_train, X_test= train_test_split(dt, test_size=0.20, random_state=1)\n",
    "X_train.head()\n",
    "\n",
    "a=[]\n",
    "p=[]\n",
    "r=[]\n",
    "b=[]\n",
    "\n",
    "for B in range(1,150,20):\n",
    "    preds = []\n",
    "    print(B)\n",
    "\n",
    "    for i in range(B):\n",
    "        t = X_train.sample(n=len(X_train),replace=True,random_state = i+1)\n",
    "        X = pd.DataFrame(t.drop(['survived'],axis=1))\n",
    "        y = pd.DataFrame(t['survived'])\n",
    "        tree = growforesttree(X,y)\n",
    "    \n",
    "        pred = []\n",
    "        for i in range(len(X_test)):\n",
    "            row = X_test.iloc[i,]\n",
    "            pred.append(predict(row,tree))\n",
    "    \n",
    "        X_test['pred'] = pred\n",
    "    \n",
    "        preds.append(pred)\n",
    "    dd = pd.DataFrame()\n",
    "    \n",
    "    for i in range(B):\n",
    "        dd['Pred'+str(i+1)]=preds[i]\n",
    "    \n",
    "    n = (dd.duplicated() + 0).sum()\n",
    "    print(\"Number of cases where all the trees agree:\",n)\n",
    "    print(\"Number of cases where they don't agree:\",(len(X_test) - n))\n",
    "    \n",
    "    \n",
    "    dd['Avg_Pred'] = (dd.mean(axis=1) >=0.5)+0\n",
    "    dd.head()\n",
    "    vals = pd.crosstab(X_test['survived'],dd['Avg_Pred'])\n",
    "    tn = vals[0][0]\n",
    "    fp = vals[1][0]\n",
    "    tp = vals[1][1]\n",
    "    fn = vals[0][1]\n",
    "\n",
    "    #print(\"Accuracy:\",np.mean(X_test['survived'].values == dd['Avg_Pred'].values))\n",
    "    #print(\"Precision:\",tp/(tp+fp))\n",
    "    #print(\"Recall:\",tp/(tp+fn))\n",
    "    \n",
    "    a.append(np.mean(X_test['survived'].values == dd['Avg_Pred'].values))\n",
    "    p.append(tp/(tp+fp))\n",
    "    r.append(tp/(tp+fn))\n",
    "    b.append(B)"
   ]
  },
  {
   "cell_type": "markdown",
   "metadata": {},
   "source": [
    "### 3. Show on a figure how A, P, R depend on the B. Include the bagging outcomes on the same figure too.\n",
    "### 4. Discuss your findings. What is the optimal forest size? Are random forests superior to bagging?"
   ]
  },
  {
   "cell_type": "code",
   "execution_count": 66,
   "metadata": {},
   "outputs": [
    {
     "data": {
      "image/png": "[encoded data removed]",
      "text/plain": [
       "<matplotlib.figure.Figure at 0x166be3512e8>"
      ]
     },
     "metadata": {},
     "output_type": "display_data"
    }
   ],
   "source": [
    "x = [i for i in range(1,150,20)]\n",
    "\n",
    "plt.figure(figsize=(10,8))\n",
    "plt.plot(x, a,'-o')\n",
    "plt.plot(x, p,'-o')\n",
    "plt.plot(x, r,'-o')\n",
    "\n",
    "plt.legend(['Accuracy', 'Precision', 'Recall'], loc='right')\n",
    "plt.xlabel(\"Forest Size\", fontsize=15)\n",
    "plt.ylabel(\"Metric\", fontsize=15)\n",
    "plt.title(\"Variation in Evaluation Metrics over Forest Size\", fontsize=18)\n",
    "\n",
    "plt.show()"
   ]
  },
  {
   "cell_type": "markdown",
   "metadata": {},
   "source": [
    "<p> Even with Random Forest, we don't see significant improvement over single tree case, as we are still getting values in the same range. However, we do see better results and lesser variation as compared to just bagging."
   ]
  }
 ],
 "metadata": {
  "kernelspec": {
   "display_name": "Python 3",
   "language": "python",
   "name": "python3"
  },
  "language_info": {
   "codemirror_mode": {
    "name": "ipython",
    "version": 3
   },
   "file_extension": ".py",
   "mimetype": "text/x-python",
   "name": "python",
   "nbconvert_exporter": "python",
   "pygments_lexer": "ipython3",
   "version": "3.6.2"
  }
 },
 "nbformat": 4,
 "nbformat_minor": 2
}
