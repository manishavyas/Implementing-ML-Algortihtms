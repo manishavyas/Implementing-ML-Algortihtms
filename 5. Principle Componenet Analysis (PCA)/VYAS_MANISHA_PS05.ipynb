{
 "cells": [
  {
   "cell_type": "code",
   "execution_count": 1,
   "metadata": {
    "collapsed": true
   },
   "outputs": [],
   "source": [
    "import numpy as np\n",
    "import pandas as pd\n",
    "import matplotlib.pyplot as plt\n",
    "import pylab as pl\n",
    "from pylab import *\n",
    "from pylab import rcParams\n",
    "from sklearn.datasets import load_boston,load_breast_cancer\n",
    "from sklearn.linear_model import LinearRegression\n",
    "import statsmodels.formula.api as smf\n",
    "import random\n",
    "import time\n",
    "import os\n",
    "import timeit\n",
    "import psutil"
   ]
  },
  {
   "cell_type": "markdown",
   "metadata": {},
   "source": [
    "## 1 \u0010Active\u0011 data exploration"
   ]
  },
  {
   "cell_type": "markdown",
   "metadata": {},
   "source": [
    "#### 1. Load the data. It is included in sklearn.datasets and you can \u001c",
    "nd many copies on the internet too. Make sure you know the coding of all variables. In particular, you should be aware if a variable is categorical or numeric. Explain the coding scheme if it's not obvious."
   ]
  },
  {
   "cell_type": "code",
   "execution_count": 2,
   "metadata": {
    "collapsed": true
   },
   "outputs": [],
   "source": [
    "bos = load_boston()"
   ]
  },
  {
   "cell_type": "code",
   "execution_count": 3,
   "metadata": {},
   "outputs": [
    {
     "data": {
      "text/html": [
       "<div>\n",
       "<style>\n",
       "    .dataframe thead tr:only-child th {\n",
       "        text-align: right;\n",
       "    }\n",
       "\n",
       "    .dataframe thead th {\n",
       "        text-align: left;\n",
       "    }\n",
       "\n",
       "    .dataframe tbody tr th {\n",
       "        vertical-align: top;\n",
       "    }\n",
       "</style>\n",
       "<table border=\"1\" class=\"dataframe\">\n",
       "  <thead>\n",
       "    <tr style=\"text-align: right;\">\n",
       "      <th></th>\n",
       "      <th>CRIM</th>\n",
       "      <th>ZN</th>\n",
       "      <th>INDUS</th>\n",
       "      <th>CHAS</th>\n",
       "      <th>NOX</th>\n",
       "      <th>RM</th>\n",
       "      <th>AGE</th>\n",
       "      <th>DIS</th>\n",
       "      <th>RAD</th>\n",
       "      <th>TAX</th>\n",
       "      <th>PTRATIO</th>\n",
       "      <th>B</th>\n",
       "      <th>LSTAT</th>\n",
       "      <th>target</th>\n",
       "    </tr>\n",
       "  </thead>\n",
       "  <tbody>\n",
       "    <tr>\n",
       "      <th>0</th>\n",
       "      <td>0.00632</td>\n",
       "      <td>18.0</td>\n",
       "      <td>2.31</td>\n",
       "      <td>0.0</td>\n",
       "      <td>0.538</td>\n",
       "      <td>6.575</td>\n",
       "      <td>65.2</td>\n",
       "      <td>4.0900</td>\n",
       "      <td>1.0</td>\n",
       "      <td>296.0</td>\n",
       "      <td>15.3</td>\n",
       "      <td>396.90</td>\n",
       "      <td>4.98</td>\n",
       "      <td>24.0</td>\n",
       "    </tr>\n",
       "    <tr>\n",
       "      <th>1</th>\n",
       "      <td>0.02731</td>\n",
       "      <td>0.0</td>\n",
       "      <td>7.07</td>\n",
       "      <td>0.0</td>\n",
       "      <td>0.469</td>\n",
       "      <td>6.421</td>\n",
       "      <td>78.9</td>\n",
       "      <td>4.9671</td>\n",
       "      <td>2.0</td>\n",
       "      <td>242.0</td>\n",
       "      <td>17.8</td>\n",
       "      <td>396.90</td>\n",
       "      <td>9.14</td>\n",
       "      <td>21.6</td>\n",
       "    </tr>\n",
       "    <tr>\n",
       "      <th>2</th>\n",
       "      <td>0.02729</td>\n",
       "      <td>0.0</td>\n",
       "      <td>7.07</td>\n",
       "      <td>0.0</td>\n",
       "      <td>0.469</td>\n",
       "      <td>7.185</td>\n",
       "      <td>61.1</td>\n",
       "      <td>4.9671</td>\n",
       "      <td>2.0</td>\n",
       "      <td>242.0</td>\n",
       "      <td>17.8</td>\n",
       "      <td>392.83</td>\n",
       "      <td>4.03</td>\n",
       "      <td>34.7</td>\n",
       "    </tr>\n",
       "    <tr>\n",
       "      <th>3</th>\n",
       "      <td>0.03237</td>\n",
       "      <td>0.0</td>\n",
       "      <td>2.18</td>\n",
       "      <td>0.0</td>\n",
       "      <td>0.458</td>\n",
       "      <td>6.998</td>\n",
       "      <td>45.8</td>\n",
       "      <td>6.0622</td>\n",
       "      <td>3.0</td>\n",
       "      <td>222.0</td>\n",
       "      <td>18.7</td>\n",
       "      <td>394.63</td>\n",
       "      <td>2.94</td>\n",
       "      <td>33.4</td>\n",
       "    </tr>\n",
       "    <tr>\n",
       "      <th>4</th>\n",
       "      <td>0.06905</td>\n",
       "      <td>0.0</td>\n",
       "      <td>2.18</td>\n",
       "      <td>0.0</td>\n",
       "      <td>0.458</td>\n",
       "      <td>7.147</td>\n",
       "      <td>54.2</td>\n",
       "      <td>6.0622</td>\n",
       "      <td>3.0</td>\n",
       "      <td>222.0</td>\n",
       "      <td>18.7</td>\n",
       "      <td>396.90</td>\n",
       "      <td>5.33</td>\n",
       "      <td>36.2</td>\n",
       "    </tr>\n",
       "  </tbody>\n",
       "</table>\n",
       "</div>"
      ],
      "text/plain": [
       "      CRIM    ZN  INDUS  CHAS    NOX     RM   AGE     DIS  RAD    TAX  \\\n",
       "0  0.00632  18.0   2.31   0.0  0.538  6.575  65.2  4.0900  1.0  296.0   \n",
       "1  0.02731   0.0   7.07   0.0  0.469  6.421  78.9  4.9671  2.0  242.0   \n",
       "2  0.02729   0.0   7.07   0.0  0.469  7.185  61.1  4.9671  2.0  242.0   \n",
       "3  0.03237   0.0   2.18   0.0  0.458  6.998  45.8  6.0622  3.0  222.0   \n",
       "4  0.06905   0.0   2.18   0.0  0.458  7.147  54.2  6.0622  3.0  222.0   \n",
       "\n",
       "   PTRATIO       B  LSTAT  target  \n",
       "0     15.3  396.90   4.98    24.0  \n",
       "1     17.8  396.90   9.14    21.6  \n",
       "2     17.8  392.83   4.03    34.7  \n",
       "3     18.7  394.63   2.94    33.4  \n",
       "4     18.7  396.90   5.33    36.2  "
      ]
     },
     "execution_count": 3,
     "metadata": {},
     "output_type": "execute_result"
    }
   ],
   "source": [
    "df = pd.DataFrame(bos.data, columns=bos.feature_names)\n",
    "df['target'] = bos.target\n",
    "df.head()"
   ]
  },
  {
   "cell_type": "code",
   "execution_count": 4,
   "metadata": {},
   "outputs": [
    {
     "name": "stdout",
     "output_type": "stream",
     "text": [
      "<class 'pandas.core.frame.DataFrame'>\n",
      "RangeIndex: 506 entries, 0 to 505\n",
      "Data columns (total 14 columns):\n",
      "CRIM       506 non-null float64\n",
      "ZN         506 non-null float64\n",
      "INDUS      506 non-null float64\n",
      "CHAS       506 non-null float64\n",
      "NOX        506 non-null float64\n",
      "RM         506 non-null float64\n",
      "AGE        506 non-null float64\n",
      "DIS        506 non-null float64\n",
      "RAD        506 non-null float64\n",
      "TAX        506 non-null float64\n",
      "PTRATIO    506 non-null float64\n",
      "B          506 non-null float64\n",
      "LSTAT      506 non-null float64\n",
      "target     506 non-null float64\n",
      "dtypes: float64(14)\n",
      "memory usage: 55.4 KB\n"
     ]
    },
    {
     "data": {
      "text/html": [
       "<div>\n",
       "<style>\n",
       "    .dataframe thead tr:only-child th {\n",
       "        text-align: right;\n",
       "    }\n",
       "\n",
       "    .dataframe thead th {\n",
       "        text-align: left;\n",
       "    }\n",
       "\n",
       "    .dataframe tbody tr th {\n",
       "        vertical-align: top;\n",
       "    }\n",
       "</style>\n",
       "<table border=\"1\" class=\"dataframe\">\n",
       "  <thead>\n",
       "    <tr style=\"text-align: right;\">\n",
       "      <th></th>\n",
       "      <th>CRIM</th>\n",
       "      <th>ZN</th>\n",
       "      <th>INDUS</th>\n",
       "      <th>CHAS</th>\n",
       "      <th>NOX</th>\n",
       "      <th>RM</th>\n",
       "      <th>AGE</th>\n",
       "      <th>DIS</th>\n",
       "      <th>RAD</th>\n",
       "      <th>TAX</th>\n",
       "      <th>PTRATIO</th>\n",
       "      <th>B</th>\n",
       "      <th>LSTAT</th>\n",
       "      <th>target</th>\n",
       "    </tr>\n",
       "  </thead>\n",
       "  <tbody>\n",
       "    <tr>\n",
       "      <th>0</th>\n",
       "      <td>0.00632</td>\n",
       "      <td>18.0</td>\n",
       "      <td>2.31</td>\n",
       "      <td>0.0</td>\n",
       "      <td>0.538</td>\n",
       "      <td>6.575</td>\n",
       "      <td>65.2</td>\n",
       "      <td>4.0900</td>\n",
       "      <td>1.0</td>\n",
       "      <td>296.0</td>\n",
       "      <td>15.3</td>\n",
       "      <td>396.90</td>\n",
       "      <td>4.98</td>\n",
       "      <td>24.0</td>\n",
       "    </tr>\n",
       "    <tr>\n",
       "      <th>1</th>\n",
       "      <td>0.02731</td>\n",
       "      <td>0.0</td>\n",
       "      <td>7.07</td>\n",
       "      <td>0.0</td>\n",
       "      <td>0.469</td>\n",
       "      <td>6.421</td>\n",
       "      <td>78.9</td>\n",
       "      <td>4.9671</td>\n",
       "      <td>2.0</td>\n",
       "      <td>242.0</td>\n",
       "      <td>17.8</td>\n",
       "      <td>396.90</td>\n",
       "      <td>9.14</td>\n",
       "      <td>21.6</td>\n",
       "    </tr>\n",
       "    <tr>\n",
       "      <th>2</th>\n",
       "      <td>0.02729</td>\n",
       "      <td>0.0</td>\n",
       "      <td>7.07</td>\n",
       "      <td>0.0</td>\n",
       "      <td>0.469</td>\n",
       "      <td>7.185</td>\n",
       "      <td>61.1</td>\n",
       "      <td>4.9671</td>\n",
       "      <td>2.0</td>\n",
       "      <td>242.0</td>\n",
       "      <td>17.8</td>\n",
       "      <td>392.83</td>\n",
       "      <td>4.03</td>\n",
       "      <td>34.7</td>\n",
       "    </tr>\n",
       "    <tr>\n",
       "      <th>3</th>\n",
       "      <td>0.03237</td>\n",
       "      <td>0.0</td>\n",
       "      <td>2.18</td>\n",
       "      <td>0.0</td>\n",
       "      <td>0.458</td>\n",
       "      <td>6.998</td>\n",
       "      <td>45.8</td>\n",
       "      <td>6.0622</td>\n",
       "      <td>3.0</td>\n",
       "      <td>222.0</td>\n",
       "      <td>18.7</td>\n",
       "      <td>394.63</td>\n",
       "      <td>2.94</td>\n",
       "      <td>33.4</td>\n",
       "    </tr>\n",
       "    <tr>\n",
       "      <th>4</th>\n",
       "      <td>0.06905</td>\n",
       "      <td>0.0</td>\n",
       "      <td>2.18</td>\n",
       "      <td>0.0</td>\n",
       "      <td>0.458</td>\n",
       "      <td>7.147</td>\n",
       "      <td>54.2</td>\n",
       "      <td>6.0622</td>\n",
       "      <td>3.0</td>\n",
       "      <td>222.0</td>\n",
       "      <td>18.7</td>\n",
       "      <td>396.90</td>\n",
       "      <td>5.33</td>\n",
       "      <td>36.2</td>\n",
       "    </tr>\n",
       "  </tbody>\n",
       "</table>\n",
       "</div>"
      ],
      "text/plain": [
       "      CRIM    ZN  INDUS  CHAS    NOX     RM   AGE     DIS  RAD    TAX  \\\n",
       "0  0.00632  18.0   2.31   0.0  0.538  6.575  65.2  4.0900  1.0  296.0   \n",
       "1  0.02731   0.0   7.07   0.0  0.469  6.421  78.9  4.9671  2.0  242.0   \n",
       "2  0.02729   0.0   7.07   0.0  0.469  7.185  61.1  4.9671  2.0  242.0   \n",
       "3  0.03237   0.0   2.18   0.0  0.458  6.998  45.8  6.0622  3.0  222.0   \n",
       "4  0.06905   0.0   2.18   0.0  0.458  7.147  54.2  6.0622  3.0  222.0   \n",
       "\n",
       "   PTRATIO       B  LSTAT  target  \n",
       "0     15.3  396.90   4.98    24.0  \n",
       "1     17.8  396.90   9.14    21.6  \n",
       "2     17.8  392.83   4.03    34.7  \n",
       "3     18.7  394.63   2.94    33.4  \n",
       "4     18.7  396.90   5.33    36.2  "
      ]
     },
     "execution_count": 4,
     "metadata": {},
     "output_type": "execute_result"
    }
   ],
   "source": [
    "df.info()\n",
    "\n",
    "df.head()"
   ]
  },
  {
   "cell_type": "code",
   "execution_count": 5,
   "metadata": {},
   "outputs": [
    {
     "name": "stdout",
     "output_type": "stream",
     "text": [
      "Categorical Variables:\n",
      "CHAS(Charles River dummy variable (= 1 if tract bounds river; 0 otherwise)): [ 0.  1.]\n",
      "Unique values in CHAS: 2\n",
      "RAD(index of accessibility to radial highways)): [  1.   2.   3.   5.   4.   8.   6.   7.  24.]\n",
      "Unique values in RAD: 9\n"
     ]
    }
   ],
   "source": [
    "print('Categorical Variables:')\n",
    "print(\"CHAS(Charles River dummy variable (= 1 if tract bounds river; 0 otherwise)):\",df['CHAS'].unique())\n",
    "print(\"Unique values in CHAS:\",len(df['CHAS'].unique()))\n",
    "\n",
    "print(\"RAD(index of accessibility to radial highways)):\",df['RAD'].unique())\n",
    "print(\"Unique values in RAD:\",len(df['RAD'].unique()))"
   ]
  },
  {
   "cell_type": "markdown",
   "metadata": {},
   "source": [
    "#### 2. Add some (10 or so) engineered features (synthetic features) to the data. As in the previous problem set, you may use various mathematical operations on a single or multiple features to create new ones."
   ]
  },
  {
   "cell_type": "code",
   "execution_count": 6,
   "metadata": {
    "collapsed": true
   },
   "outputs": [],
   "source": [
    "df['B_NEW'] = np.log(df['B'])\n",
    "df['TAX_NEW'] = np.log(df['TAX'])\n",
    "df['AGE_NEW'] = np.where(df['AGE']>30,1,0)\n",
    "df['CB_NEW'] = df['CRIM']*df['B']\n",
    "df['CT_NEW'] = df['CRIM']*df['TAX']\n",
    "df['INDUS_NEW'] = df['INDUS']**2\n",
    "df['RM_NEW'] = df['RM']**2\n",
    "df['LSTAT_NEW'] = np.where(df['LSTAT']>18,1,0)\n",
    "df['LL_NEW'] = df['LSTAT']*np.log(df['LSTAT'])\n",
    "df['PN_NEW'] = df['PTRATIO'] * df['NOX']"
   ]
  },
  {
   "cell_type": "markdown",
   "metadata": {},
   "source": [
    "#### 3. Add another set (10 or so) bogus features, variables that have no relationship whatsoever to Boston housing market. You may just pick random numbers, or numbers from irrelevant sources, such as population of Chinese cities or baseball scores of yesteryear. Give these features distinct names (such as B1-B10) so you (and the reader) can easily recognize these later. You should have about 35 features in your data now."
   ]
  },
  {
   "cell_type": "code",
   "execution_count": 7,
   "metadata": {},
   "outputs": [
    {
     "data": {
      "text/html": [
       "<div>\n",
       "<style>\n",
       "    .dataframe thead tr:only-child th {\n",
       "        text-align: right;\n",
       "    }\n",
       "\n",
       "    .dataframe thead th {\n",
       "        text-align: left;\n",
       "    }\n",
       "\n",
       "    .dataframe tbody tr th {\n",
       "        vertical-align: top;\n",
       "    }\n",
       "</style>\n",
       "<table border=\"1\" class=\"dataframe\">\n",
       "  <thead>\n",
       "    <tr style=\"text-align: right;\">\n",
       "      <th></th>\n",
       "      <th>mean radius</th>\n",
       "      <th>mean texture</th>\n",
       "      <th>mean perimeter</th>\n",
       "      <th>mean area</th>\n",
       "      <th>mean smoothness</th>\n",
       "      <th>mean compactness</th>\n",
       "      <th>mean concavity</th>\n",
       "      <th>mean concave points</th>\n",
       "      <th>mean symmetry</th>\n",
       "      <th>mean fractal dimension</th>\n",
       "      <th>...</th>\n",
       "      <th>worst radius</th>\n",
       "      <th>worst texture</th>\n",
       "      <th>worst perimeter</th>\n",
       "      <th>worst area</th>\n",
       "      <th>worst smoothness</th>\n",
       "      <th>worst compactness</th>\n",
       "      <th>worst concavity</th>\n",
       "      <th>worst concave points</th>\n",
       "      <th>worst symmetry</th>\n",
       "      <th>worst fractal dimension</th>\n",
       "    </tr>\n",
       "  </thead>\n",
       "  <tbody>\n",
       "    <tr>\n",
       "      <th>0</th>\n",
       "      <td>17.99</td>\n",
       "      <td>10.38</td>\n",
       "      <td>122.80</td>\n",
       "      <td>1001.0</td>\n",
       "      <td>0.11840</td>\n",
       "      <td>0.27760</td>\n",
       "      <td>0.3001</td>\n",
       "      <td>0.14710</td>\n",
       "      <td>0.2419</td>\n",
       "      <td>0.07871</td>\n",
       "      <td>...</td>\n",
       "      <td>25.38</td>\n",
       "      <td>17.33</td>\n",
       "      <td>184.60</td>\n",
       "      <td>2019.0</td>\n",
       "      <td>0.1622</td>\n",
       "      <td>0.6656</td>\n",
       "      <td>0.7119</td>\n",
       "      <td>0.2654</td>\n",
       "      <td>0.4601</td>\n",
       "      <td>0.11890</td>\n",
       "    </tr>\n",
       "    <tr>\n",
       "      <th>1</th>\n",
       "      <td>20.57</td>\n",
       "      <td>17.77</td>\n",
       "      <td>132.90</td>\n",
       "      <td>1326.0</td>\n",
       "      <td>0.08474</td>\n",
       "      <td>0.07864</td>\n",
       "      <td>0.0869</td>\n",
       "      <td>0.07017</td>\n",
       "      <td>0.1812</td>\n",
       "      <td>0.05667</td>\n",
       "      <td>...</td>\n",
       "      <td>24.99</td>\n",
       "      <td>23.41</td>\n",
       "      <td>158.80</td>\n",
       "      <td>1956.0</td>\n",
       "      <td>0.1238</td>\n",
       "      <td>0.1866</td>\n",
       "      <td>0.2416</td>\n",
       "      <td>0.1860</td>\n",
       "      <td>0.2750</td>\n",
       "      <td>0.08902</td>\n",
       "    </tr>\n",
       "    <tr>\n",
       "      <th>2</th>\n",
       "      <td>19.69</td>\n",
       "      <td>21.25</td>\n",
       "      <td>130.00</td>\n",
       "      <td>1203.0</td>\n",
       "      <td>0.10960</td>\n",
       "      <td>0.15990</td>\n",
       "      <td>0.1974</td>\n",
       "      <td>0.12790</td>\n",
       "      <td>0.2069</td>\n",
       "      <td>0.05999</td>\n",
       "      <td>...</td>\n",
       "      <td>23.57</td>\n",
       "      <td>25.53</td>\n",
       "      <td>152.50</td>\n",
       "      <td>1709.0</td>\n",
       "      <td>0.1444</td>\n",
       "      <td>0.4245</td>\n",
       "      <td>0.4504</td>\n",
       "      <td>0.2430</td>\n",
       "      <td>0.3613</td>\n",
       "      <td>0.08758</td>\n",
       "    </tr>\n",
       "    <tr>\n",
       "      <th>3</th>\n",
       "      <td>11.42</td>\n",
       "      <td>20.38</td>\n",
       "      <td>77.58</td>\n",
       "      <td>386.1</td>\n",
       "      <td>0.14250</td>\n",
       "      <td>0.28390</td>\n",
       "      <td>0.2414</td>\n",
       "      <td>0.10520</td>\n",
       "      <td>0.2597</td>\n",
       "      <td>0.09744</td>\n",
       "      <td>...</td>\n",
       "      <td>14.91</td>\n",
       "      <td>26.50</td>\n",
       "      <td>98.87</td>\n",
       "      <td>567.7</td>\n",
       "      <td>0.2098</td>\n",
       "      <td>0.8663</td>\n",
       "      <td>0.6869</td>\n",
       "      <td>0.2575</td>\n",
       "      <td>0.6638</td>\n",
       "      <td>0.17300</td>\n",
       "    </tr>\n",
       "    <tr>\n",
       "      <th>4</th>\n",
       "      <td>20.29</td>\n",
       "      <td>14.34</td>\n",
       "      <td>135.10</td>\n",
       "      <td>1297.0</td>\n",
       "      <td>0.10030</td>\n",
       "      <td>0.13280</td>\n",
       "      <td>0.1980</td>\n",
       "      <td>0.10430</td>\n",
       "      <td>0.1809</td>\n",
       "      <td>0.05883</td>\n",
       "      <td>...</td>\n",
       "      <td>22.54</td>\n",
       "      <td>16.67</td>\n",
       "      <td>152.20</td>\n",
       "      <td>1575.0</td>\n",
       "      <td>0.1374</td>\n",
       "      <td>0.2050</td>\n",
       "      <td>0.4000</td>\n",
       "      <td>0.1625</td>\n",
       "      <td>0.2364</td>\n",
       "      <td>0.07678</td>\n",
       "    </tr>\n",
       "  </tbody>\n",
       "</table>\n",
       "<p>5 rows × 30 columns</p>\n",
       "</div>"
      ],
      "text/plain": [
       "   mean radius  mean texture  mean perimeter  mean area  mean smoothness  \\\n",
       "0        17.99         10.38          122.80     1001.0          0.11840   \n",
       "1        20.57         17.77          132.90     1326.0          0.08474   \n",
       "2        19.69         21.25          130.00     1203.0          0.10960   \n",
       "3        11.42         20.38           77.58      386.1          0.14250   \n",
       "4        20.29         14.34          135.10     1297.0          0.10030   \n",
       "\n",
       "   mean compactness  mean concavity  mean concave points  mean symmetry  \\\n",
       "0           0.27760          0.3001              0.14710         0.2419   \n",
       "1           0.07864          0.0869              0.07017         0.1812   \n",
       "2           0.15990          0.1974              0.12790         0.2069   \n",
       "3           0.28390          0.2414              0.10520         0.2597   \n",
       "4           0.13280          0.1980              0.10430         0.1809   \n",
       "\n",
       "   mean fractal dimension           ...             worst radius  \\\n",
       "0                 0.07871           ...                    25.38   \n",
       "1                 0.05667           ...                    24.99   \n",
       "2                 0.05999           ...                    23.57   \n",
       "3                 0.09744           ...                    14.91   \n",
       "4                 0.05883           ...                    22.54   \n",
       "\n",
       "   worst texture  worst perimeter  worst area  worst smoothness  \\\n",
       "0          17.33           184.60      2019.0            0.1622   \n",
       "1          23.41           158.80      1956.0            0.1238   \n",
       "2          25.53           152.50      1709.0            0.1444   \n",
       "3          26.50            98.87       567.7            0.2098   \n",
       "4          16.67           152.20      1575.0            0.1374   \n",
       "\n",
       "   worst compactness  worst concavity  worst concave points  worst symmetry  \\\n",
       "0             0.6656           0.7119                0.2654          0.4601   \n",
       "1             0.1866           0.2416                0.1860          0.2750   \n",
       "2             0.4245           0.4504                0.2430          0.3613   \n",
       "3             0.8663           0.6869                0.2575          0.6638   \n",
       "4             0.2050           0.4000                0.1625          0.2364   \n",
       "\n",
       "   worst fractal dimension  \n",
       "0                  0.11890  \n",
       "1                  0.08902  \n",
       "2                  0.08758  \n",
       "3                  0.17300  \n",
       "4                  0.07678  \n",
       "\n",
       "[5 rows x 30 columns]"
      ]
     },
     "execution_count": 7,
     "metadata": {},
     "output_type": "execute_result"
    }
   ],
   "source": [
    "d2 = load_breast_cancer()\n",
    "df1 = pd.DataFrame(d2.data, columns=d2.feature_names)\n",
    "df1.head()"
   ]
  },
  {
   "cell_type": "code",
   "execution_count": 8,
   "metadata": {},
   "outputs": [
    {
     "data": {
      "text/html": [
       "<div>\n",
       "<style>\n",
       "    .dataframe thead tr:only-child th {\n",
       "        text-align: right;\n",
       "    }\n",
       "\n",
       "    .dataframe thead th {\n",
       "        text-align: left;\n",
       "    }\n",
       "\n",
       "    .dataframe tbody tr th {\n",
       "        vertical-align: top;\n",
       "    }\n",
       "</style>\n",
       "<table border=\"1\" class=\"dataframe\">\n",
       "  <thead>\n",
       "    <tr style=\"text-align: right;\">\n",
       "      <th></th>\n",
       "      <th>CRIM</th>\n",
       "      <th>ZN</th>\n",
       "      <th>INDUS</th>\n",
       "      <th>CHAS</th>\n",
       "      <th>NOX</th>\n",
       "      <th>RM</th>\n",
       "      <th>AGE</th>\n",
       "      <th>DIS</th>\n",
       "      <th>RAD</th>\n",
       "      <th>TAX</th>\n",
       "      <th>...</th>\n",
       "      <th>B1</th>\n",
       "      <th>B2</th>\n",
       "      <th>B3</th>\n",
       "      <th>B4</th>\n",
       "      <th>B5</th>\n",
       "      <th>B6</th>\n",
       "      <th>B7</th>\n",
       "      <th>B8</th>\n",
       "      <th>B9</th>\n",
       "      <th>B10</th>\n",
       "    </tr>\n",
       "  </thead>\n",
       "  <tbody>\n",
       "    <tr>\n",
       "      <th>0</th>\n",
       "      <td>0.00632</td>\n",
       "      <td>18.0</td>\n",
       "      <td>2.31</td>\n",
       "      <td>0.0</td>\n",
       "      <td>0.538</td>\n",
       "      <td>6.575</td>\n",
       "      <td>65.2</td>\n",
       "      <td>4.0900</td>\n",
       "      <td>1.0</td>\n",
       "      <td>296.0</td>\n",
       "      <td>...</td>\n",
       "      <td>122.80</td>\n",
       "      <td>1001.0</td>\n",
       "      <td>0.11840</td>\n",
       "      <td>0.27760</td>\n",
       "      <td>0.3001</td>\n",
       "      <td>0.14710</td>\n",
       "      <td>0.2419</td>\n",
       "      <td>0.07871</td>\n",
       "      <td>1.0950</td>\n",
       "      <td>0.9053</td>\n",
       "    </tr>\n",
       "    <tr>\n",
       "      <th>1</th>\n",
       "      <td>0.02731</td>\n",
       "      <td>0.0</td>\n",
       "      <td>7.07</td>\n",
       "      <td>0.0</td>\n",
       "      <td>0.469</td>\n",
       "      <td>6.421</td>\n",
       "      <td>78.9</td>\n",
       "      <td>4.9671</td>\n",
       "      <td>2.0</td>\n",
       "      <td>242.0</td>\n",
       "      <td>...</td>\n",
       "      <td>132.90</td>\n",
       "      <td>1326.0</td>\n",
       "      <td>0.08474</td>\n",
       "      <td>0.07864</td>\n",
       "      <td>0.0869</td>\n",
       "      <td>0.07017</td>\n",
       "      <td>0.1812</td>\n",
       "      <td>0.05667</td>\n",
       "      <td>0.5435</td>\n",
       "      <td>0.7339</td>\n",
       "    </tr>\n",
       "    <tr>\n",
       "      <th>2</th>\n",
       "      <td>0.02729</td>\n",
       "      <td>0.0</td>\n",
       "      <td>7.07</td>\n",
       "      <td>0.0</td>\n",
       "      <td>0.469</td>\n",
       "      <td>7.185</td>\n",
       "      <td>61.1</td>\n",
       "      <td>4.9671</td>\n",
       "      <td>2.0</td>\n",
       "      <td>242.0</td>\n",
       "      <td>...</td>\n",
       "      <td>130.00</td>\n",
       "      <td>1203.0</td>\n",
       "      <td>0.10960</td>\n",
       "      <td>0.15990</td>\n",
       "      <td>0.1974</td>\n",
       "      <td>0.12790</td>\n",
       "      <td>0.2069</td>\n",
       "      <td>0.05999</td>\n",
       "      <td>0.7456</td>\n",
       "      <td>0.7869</td>\n",
       "    </tr>\n",
       "    <tr>\n",
       "      <th>3</th>\n",
       "      <td>0.03237</td>\n",
       "      <td>0.0</td>\n",
       "      <td>2.18</td>\n",
       "      <td>0.0</td>\n",
       "      <td>0.458</td>\n",
       "      <td>6.998</td>\n",
       "      <td>45.8</td>\n",
       "      <td>6.0622</td>\n",
       "      <td>3.0</td>\n",
       "      <td>222.0</td>\n",
       "      <td>...</td>\n",
       "      <td>77.58</td>\n",
       "      <td>386.1</td>\n",
       "      <td>0.14250</td>\n",
       "      <td>0.28390</td>\n",
       "      <td>0.2414</td>\n",
       "      <td>0.10520</td>\n",
       "      <td>0.2597</td>\n",
       "      <td>0.09744</td>\n",
       "      <td>0.4956</td>\n",
       "      <td>1.1560</td>\n",
       "    </tr>\n",
       "    <tr>\n",
       "      <th>4</th>\n",
       "      <td>0.06905</td>\n",
       "      <td>0.0</td>\n",
       "      <td>2.18</td>\n",
       "      <td>0.0</td>\n",
       "      <td>0.458</td>\n",
       "      <td>7.147</td>\n",
       "      <td>54.2</td>\n",
       "      <td>6.0622</td>\n",
       "      <td>3.0</td>\n",
       "      <td>222.0</td>\n",
       "      <td>...</td>\n",
       "      <td>135.10</td>\n",
       "      <td>1297.0</td>\n",
       "      <td>0.10030</td>\n",
       "      <td>0.13280</td>\n",
       "      <td>0.1980</td>\n",
       "      <td>0.10430</td>\n",
       "      <td>0.1809</td>\n",
       "      <td>0.05883</td>\n",
       "      <td>0.7572</td>\n",
       "      <td>0.7813</td>\n",
       "    </tr>\n",
       "  </tbody>\n",
       "</table>\n",
       "<p>5 rows × 34 columns</p>\n",
       "</div>"
      ],
      "text/plain": [
       "      CRIM    ZN  INDUS  CHAS    NOX     RM   AGE     DIS  RAD    TAX   ...    \\\n",
       "0  0.00632  18.0   2.31   0.0  0.538  6.575  65.2  4.0900  1.0  296.0   ...     \n",
       "1  0.02731   0.0   7.07   0.0  0.469  6.421  78.9  4.9671  2.0  242.0   ...     \n",
       "2  0.02729   0.0   7.07   0.0  0.469  7.185  61.1  4.9671  2.0  242.0   ...     \n",
       "3  0.03237   0.0   2.18   0.0  0.458  6.998  45.8  6.0622  3.0  222.0   ...     \n",
       "4  0.06905   0.0   2.18   0.0  0.458  7.147  54.2  6.0622  3.0  222.0   ...     \n",
       "\n",
       "       B1      B2       B3       B4      B5       B6      B7       B8      B9  \\\n",
       "0  122.80  1001.0  0.11840  0.27760  0.3001  0.14710  0.2419  0.07871  1.0950   \n",
       "1  132.90  1326.0  0.08474  0.07864  0.0869  0.07017  0.1812  0.05667  0.5435   \n",
       "2  130.00  1203.0  0.10960  0.15990  0.1974  0.12790  0.2069  0.05999  0.7456   \n",
       "3   77.58   386.1  0.14250  0.28390  0.2414  0.10520  0.2597  0.09744  0.4956   \n",
       "4  135.10  1297.0  0.10030  0.13280  0.1980  0.10430  0.1809  0.05883  0.7572   \n",
       "\n",
       "      B10  \n",
       "0  0.9053  \n",
       "1  0.7339  \n",
       "2  0.7869  \n",
       "3  1.1560  \n",
       "4  0.7813  \n",
       "\n",
       "[5 rows x 34 columns]"
      ]
     },
     "execution_count": 8,
     "metadata": {},
     "output_type": "execute_result"
    }
   ],
   "source": [
    "for i in range(10):\n",
    "    df['B'+str(i+1)]=df1.iloc[0:506,i+2]\n",
    "\n",
    "df.head()"
   ]
  },
  {
   "cell_type": "markdown",
   "metadata": {},
   "source": [
    "#### 4. Create a summary table where you show means, ranges, and number of missings for each variable. In addition, add correlation between the price and each variable. You may add more statistics you consider useful to this table."
   ]
  },
  {
   "cell_type": "code",
   "execution_count": 9,
   "metadata": {},
   "outputs": [
    {
     "data": {
      "text/html": [
       "<div>\n",
       "<style>\n",
       "    .dataframe thead tr:only-child th {\n",
       "        text-align: right;\n",
       "    }\n",
       "\n",
       "    .dataframe thead th {\n",
       "        text-align: left;\n",
       "    }\n",
       "\n",
       "    .dataframe tbody tr th {\n",
       "        vertical-align: top;\n",
       "    }\n",
       "</style>\n",
       "<table border=\"1\" class=\"dataframe\">\n",
       "  <thead>\n",
       "    <tr style=\"text-align: right;\">\n",
       "      <th></th>\n",
       "      <th>mean</th>\n",
       "      <th>std</th>\n",
       "      <th>Missing values</th>\n",
       "      <th>Range</th>\n",
       "      <th>Correlation</th>\n",
       "    </tr>\n",
       "  </thead>\n",
       "  <tbody>\n",
       "    <tr>\n",
       "      <th>CRIM</th>\n",
       "      <td>3.593761</td>\n",
       "      <td>8.596783</td>\n",
       "      <td>0</td>\n",
       "      <td>88.969880</td>\n",
       "      <td>-0.385832</td>\n",
       "    </tr>\n",
       "    <tr>\n",
       "      <th>ZN</th>\n",
       "      <td>11.363636</td>\n",
       "      <td>23.322453</td>\n",
       "      <td>0</td>\n",
       "      <td>100.000000</td>\n",
       "      <td>0.360445</td>\n",
       "    </tr>\n",
       "    <tr>\n",
       "      <th>INDUS</th>\n",
       "      <td>11.136779</td>\n",
       "      <td>6.860353</td>\n",
       "      <td>0</td>\n",
       "      <td>27.280000</td>\n",
       "      <td>-0.483725</td>\n",
       "    </tr>\n",
       "    <tr>\n",
       "      <th>CHAS</th>\n",
       "      <td>0.069170</td>\n",
       "      <td>0.253994</td>\n",
       "      <td>0</td>\n",
       "      <td>1.000000</td>\n",
       "      <td>0.175260</td>\n",
       "    </tr>\n",
       "    <tr>\n",
       "      <th>NOX</th>\n",
       "      <td>0.554695</td>\n",
       "      <td>0.115878</td>\n",
       "      <td>0</td>\n",
       "      <td>0.486000</td>\n",
       "      <td>-0.427321</td>\n",
       "    </tr>\n",
       "    <tr>\n",
       "      <th>RM</th>\n",
       "      <td>6.284634</td>\n",
       "      <td>0.702617</td>\n",
       "      <td>0</td>\n",
       "      <td>5.219000</td>\n",
       "      <td>0.695360</td>\n",
       "    </tr>\n",
       "    <tr>\n",
       "      <th>AGE</th>\n",
       "      <td>68.574901</td>\n",
       "      <td>28.148861</td>\n",
       "      <td>0</td>\n",
       "      <td>97.100000</td>\n",
       "      <td>-0.376955</td>\n",
       "    </tr>\n",
       "    <tr>\n",
       "      <th>DIS</th>\n",
       "      <td>3.795043</td>\n",
       "      <td>2.105710</td>\n",
       "      <td>0</td>\n",
       "      <td>10.996900</td>\n",
       "      <td>0.249929</td>\n",
       "    </tr>\n",
       "    <tr>\n",
       "      <th>RAD</th>\n",
       "      <td>9.549407</td>\n",
       "      <td>8.707259</td>\n",
       "      <td>0</td>\n",
       "      <td>23.000000</td>\n",
       "      <td>-0.381626</td>\n",
       "    </tr>\n",
       "    <tr>\n",
       "      <th>TAX</th>\n",
       "      <td>408.237154</td>\n",
       "      <td>168.537116</td>\n",
       "      <td>0</td>\n",
       "      <td>524.000000</td>\n",
       "      <td>-0.468536</td>\n",
       "    </tr>\n",
       "    <tr>\n",
       "      <th>PTRATIO</th>\n",
       "      <td>18.455534</td>\n",
       "      <td>2.164946</td>\n",
       "      <td>0</td>\n",
       "      <td>9.400000</td>\n",
       "      <td>-0.507787</td>\n",
       "    </tr>\n",
       "    <tr>\n",
       "      <th>B</th>\n",
       "      <td>356.674032</td>\n",
       "      <td>91.294864</td>\n",
       "      <td>0</td>\n",
       "      <td>396.580000</td>\n",
       "      <td>0.333461</td>\n",
       "    </tr>\n",
       "    <tr>\n",
       "      <th>LSTAT</th>\n",
       "      <td>12.653063</td>\n",
       "      <td>7.141062</td>\n",
       "      <td>0</td>\n",
       "      <td>36.240000</td>\n",
       "      <td>-0.737663</td>\n",
       "    </tr>\n",
       "    <tr>\n",
       "      <th>target</th>\n",
       "      <td>22.532806</td>\n",
       "      <td>9.197104</td>\n",
       "      <td>0</td>\n",
       "      <td>45.000000</td>\n",
       "      <td>1.000000</td>\n",
       "    </tr>\n",
       "    <tr>\n",
       "      <th>B_NEW</th>\n",
       "      <td>5.749869</td>\n",
       "      <td>0.773471</td>\n",
       "      <td>0</td>\n",
       "      <td>7.123119</td>\n",
       "      <td>0.283157</td>\n",
       "    </tr>\n",
       "    <tr>\n",
       "      <th>TAX_NEW</th>\n",
       "      <td>5.931405</td>\n",
       "      <td>0.396367</td>\n",
       "      <td>0</td>\n",
       "      <td>1.335564</td>\n",
       "      <td>-0.474701</td>\n",
       "    </tr>\n",
       "    <tr>\n",
       "      <th>AGE_NEW</th>\n",
       "      <td>0.873518</td>\n",
       "      <td>0.332721</td>\n",
       "      <td>0</td>\n",
       "      <td>1.000000</td>\n",
       "      <td>-0.200863</td>\n",
       "    </tr>\n",
       "    <tr>\n",
       "      <th>CB_NEW</th>\n",
       "      <td>986.214804</td>\n",
       "      <td>2662.522176</td>\n",
       "      <td>0</td>\n",
       "      <td>35312.504110</td>\n",
       "      <td>-0.311844</td>\n",
       "    </tr>\n",
       "    <tr>\n",
       "      <th>CT_NEW</th>\n",
       "      <td>2305.164448</td>\n",
       "      <td>5751.404856</td>\n",
       "      <td>0</td>\n",
       "      <td>59256.278480</td>\n",
       "      <td>-0.384490</td>\n",
       "    </tr>\n",
       "    <tr>\n",
       "      <th>INDUS_NEW</th>\n",
       "      <td>170.999269</td>\n",
       "      <td>171.087497</td>\n",
       "      <td>0</td>\n",
       "      <td>769.296000</td>\n",
       "      <td>-0.428892</td>\n",
       "    </tr>\n",
       "    <tr>\n",
       "      <th>RM_NEW</th>\n",
       "      <td>39.989325</td>\n",
       "      <td>9.079531</td>\n",
       "      <td>0</td>\n",
       "      <td>64.407679</td>\n",
       "      <td>0.718169</td>\n",
       "    </tr>\n",
       "    <tr>\n",
       "      <th>LSTAT_NEW</th>\n",
       "      <td>0.207510</td>\n",
       "      <td>0.405925</td>\n",
       "      <td>0</td>\n",
       "      <td>1.000000</td>\n",
       "      <td>-0.506618</td>\n",
       "    </tr>\n",
       "    <tr>\n",
       "      <th>LL_NEW</th>\n",
       "      <td>34.042805</td>\n",
       "      <td>26.221857</td>\n",
       "      <td>0</td>\n",
       "      <td>137.140908</td>\n",
       "      <td>-0.705958</td>\n",
       "    </tr>\n",
       "    <tr>\n",
       "      <th>PN_NEW</th>\n",
       "      <td>10.284497</td>\n",
       "      <td>2.618985</td>\n",
       "      <td>0</td>\n",
       "      <td>10.463600</td>\n",
       "      <td>-0.579499</td>\n",
       "    </tr>\n",
       "    <tr>\n",
       "      <th>B1</th>\n",
       "      <td>92.595514</td>\n",
       "      <td>24.067316</td>\n",
       "      <td>0</td>\n",
       "      <td>144.710000</td>\n",
       "      <td>0.142522</td>\n",
       "    </tr>\n",
       "    <tr>\n",
       "      <th>B2</th>\n",
       "      <td>662.820553</td>\n",
       "      <td>351.251618</td>\n",
       "      <td>0</td>\n",
       "      <td>2357.500000</td>\n",
       "      <td>0.146291</td>\n",
       "    </tr>\n",
       "    <tr>\n",
       "      <th>B3</th>\n",
       "      <td>0.096250</td>\n",
       "      <td>0.014029</td>\n",
       "      <td>0</td>\n",
       "      <td>0.100890</td>\n",
       "      <td>0.017026</td>\n",
       "    </tr>\n",
       "    <tr>\n",
       "      <th>B4</th>\n",
       "      <td>0.104661</td>\n",
       "      <td>0.053403</td>\n",
       "      <td>0</td>\n",
       "      <td>0.326020</td>\n",
       "      <td>0.051950</td>\n",
       "    </tr>\n",
       "    <tr>\n",
       "      <th>B5</th>\n",
       "      <td>0.090171</td>\n",
       "      <td>0.079906</td>\n",
       "      <td>0</td>\n",
       "      <td>0.426800</td>\n",
       "      <td>0.073915</td>\n",
       "    </tr>\n",
       "    <tr>\n",
       "      <th>B6</th>\n",
       "      <td>0.049620</td>\n",
       "      <td>0.038740</td>\n",
       "      <td>0</td>\n",
       "      <td>0.201200</td>\n",
       "      <td>0.124762</td>\n",
       "    </tr>\n",
       "    <tr>\n",
       "      <th>B7</th>\n",
       "      <td>0.181557</td>\n",
       "      <td>0.027809</td>\n",
       "      <td>0</td>\n",
       "      <td>0.187300</td>\n",
       "      <td>0.028050</td>\n",
       "    </tr>\n",
       "    <tr>\n",
       "      <th>B8</th>\n",
       "      <td>0.062651</td>\n",
       "      <td>0.007160</td>\n",
       "      <td>0</td>\n",
       "      <td>0.047480</td>\n",
       "      <td>-0.066820</td>\n",
       "    </tr>\n",
       "    <tr>\n",
       "      <th>B9</th>\n",
       "      <td>0.410960</td>\n",
       "      <td>0.283270</td>\n",
       "      <td>0</td>\n",
       "      <td>2.761500</td>\n",
       "      <td>0.096129</td>\n",
       "    </tr>\n",
       "    <tr>\n",
       "      <th>B10</th>\n",
       "      <td>1.199077</td>\n",
       "      <td>0.535995</td>\n",
       "      <td>0</td>\n",
       "      <td>4.524800</td>\n",
       "      <td>0.018269</td>\n",
       "    </tr>\n",
       "  </tbody>\n",
       "</table>\n",
       "</div>"
      ],
      "text/plain": [
       "                  mean          std  Missing values         Range  Correlation\n",
       "CRIM          3.593761     8.596783               0     88.969880    -0.385832\n",
       "ZN           11.363636    23.322453               0    100.000000     0.360445\n",
       "INDUS        11.136779     6.860353               0     27.280000    -0.483725\n",
       "CHAS          0.069170     0.253994               0      1.000000     0.175260\n",
       "NOX           0.554695     0.115878               0      0.486000    -0.427321\n",
       "RM            6.284634     0.702617               0      5.219000     0.695360\n",
       "AGE          68.574901    28.148861               0     97.100000    -0.376955\n",
       "DIS           3.795043     2.105710               0     10.996900     0.249929\n",
       "RAD           9.549407     8.707259               0     23.000000    -0.381626\n",
       "TAX         408.237154   168.537116               0    524.000000    -0.468536\n",
       "PTRATIO      18.455534     2.164946               0      9.400000    -0.507787\n",
       "B           356.674032    91.294864               0    396.580000     0.333461\n",
       "LSTAT        12.653063     7.141062               0     36.240000    -0.737663\n",
       "target       22.532806     9.197104               0     45.000000     1.000000\n",
       "B_NEW         5.749869     0.773471               0      7.123119     0.283157\n",
       "TAX_NEW       5.931405     0.396367               0      1.335564    -0.474701\n",
       "AGE_NEW       0.873518     0.332721               0      1.000000    -0.200863\n",
       "CB_NEW      986.214804  2662.522176               0  35312.504110    -0.311844\n",
       "CT_NEW     2305.164448  5751.404856               0  59256.278480    -0.384490\n",
       "INDUS_NEW   170.999269   171.087497               0    769.296000    -0.428892\n",
       "RM_NEW       39.989325     9.079531               0     64.407679     0.718169\n",
       "LSTAT_NEW     0.207510     0.405925               0      1.000000    -0.506618\n",
       "LL_NEW       34.042805    26.221857               0    137.140908    -0.705958\n",
       "PN_NEW       10.284497     2.618985               0     10.463600    -0.579499\n",
       "B1           92.595514    24.067316               0    144.710000     0.142522\n",
       "B2          662.820553   351.251618               0   2357.500000     0.146291\n",
       "B3            0.096250     0.014029               0      0.100890     0.017026\n",
       "B4            0.104661     0.053403               0      0.326020     0.051950\n",
       "B5            0.090171     0.079906               0      0.426800     0.073915\n",
       "B6            0.049620     0.038740               0      0.201200     0.124762\n",
       "B7            0.181557     0.027809               0      0.187300     0.028050\n",
       "B8            0.062651     0.007160               0      0.047480    -0.066820\n",
       "B9            0.410960     0.283270               0      2.761500     0.096129\n",
       "B10           1.199077     0.535995               0      4.524800     0.018269"
      ]
     },
     "execution_count": 9,
     "metadata": {},
     "output_type": "execute_result"
    }
   ],
   "source": [
    "df3 = df.describe().T\n",
    "df3=pd.DataFrame(data=df3,columns=['mean','std'])\n",
    "df3['Missing values'] = df.isnull().sum()\n",
    "df3['Range'] = df.max() - df.min()\n",
    "df3['Correlation'] = df.corr()['target']\n",
    "df3"
   ]
  },
  {
   "cell_type": "markdown",
   "metadata": {},
   "source": [
    "#### 5. Graphical exploration. Make a number of scatterplots where you explore the relationship between features and the value. Include a few features you consider relevant and a few you consider irrelevant here."
   ]
  },
  {
   "cell_type": "code",
   "execution_count": 10,
   "metadata": {},
   "outputs": [
    {
     "data": {
      "image/png": "[encoded data removed]",
      "text/plain": [
       "<matplotlib.figure.Figure at 0x1bed667c668>"
      ]
     },
     "metadata": {},
     "output_type": "display_data"
    }
   ],
   "source": [
    "plt.style.use('ggplot')\n",
    "rcParams['figure.figsize'] = 20, 20\n",
    "fig = plt.figure()\n",
    "ax1 = fig.add_subplot(321)\n",
    "ax1.scatter(df['CRIM'],df['target'], c = 'red')\n",
    "xlabel('Per Capita Crime Rate by Town', fontsize=20)\n",
    "ylabel('Median Value (in 1000s)', fontsize=20)\n",
    "title('Price Vs. CRIM',fontsize=22)\n",
    "\n",
    "\n",
    "ax2 = fig.add_subplot(322)\n",
    "ax2.scatter(df['RM'],df['target'], c = 'blue')\n",
    "xlabel('Average number of rooms per dwelling', fontsize=20)\n",
    "ylabel('Median Value (in 1000s)', fontsize=20)\n",
    "title('Price Vs. RM',fontsize=22)\n",
    "\n",
    "ax3 = fig.add_subplot(323)\n",
    "ax3.scatter(df['AGE'],df['target'], c = 'black')\n",
    "xlabel('Proportion of units built prior to 1940', fontsize=20)\n",
    "ylabel('Median Value (in 1000s)', fontsize=20)\n",
    "title('\\nPrice Vs AGE',fontsize=22)\n",
    "\n",
    "ax4 = fig.add_subplot(324)\n",
    "ax4.scatter(df['B1'],df['target'], c = 'green')\n",
    "xlabel('B1', fontsize=20)\n",
    "ylabel('Median Value (in 1000s)', fontsize=20)\n",
    "title('Price Vs B1',fontsize=20)\n",
    "\n",
    "ax4 = fig.add_subplot(325)\n",
    "ax4.scatter(df['LSTAT'],df['target'], c = 'lightblue')\n",
    "xlabel('% lower status of the population', fontsize=20)\n",
    "ylabel('Median Value (in 1000s)', fontsize=20)\n",
    "title('Price Vs LSTAT',fontsize=20)\n",
    "\n",
    "ax4 = fig.add_subplot(326)\n",
    "ax4.scatter(df['RAD'],df['target'], c = 'pink')\n",
    "xlabel('Index of accessibility to radial highways', fontsize=20)\n",
    "ylabel('Median Value (in 1000s)', fontsize=20)\n",
    "title('Price Vs RAD',fontsize=20)\n",
    "\n",
    "plt.show()"
   ]
  },
  {
   "cell_type": "markdown",
   "metadata": {},
   "source": [
    "#### Based on the above plots, we observe the following:\n",
    "* Median value of owner occupied homes reduced exponentially as we move from less percentage of lower status population region to higher percentage of lower status population. \n",
    "* With increase in accessibility to radial highways, we see more number of numbers falling into the lesser median value region.\n",
    "* We see a certain rise in the median values of the owner occupied houses with increase in the average number of rooms per dwellings.\n",
    "* With increase in proportion of units built prior to 1940, the median value of the owner occupied houses decreases.\n",
    "* We find no correlation between the randonly created feature B1 and the target varibale (Median value of the owner occupied houses)\n",
    "* We observe very small per capita crime rates for most of the houses however, there are few houses who have higher per capita crime rate and their median values for houses is low."
   ]
  },
  {
   "cell_type": "markdown",
   "metadata": {},
   "source": [
    "## 2 Warm-up: a few simple models"
   ]
  },
  {
   "cell_type": "markdown",
   "metadata": {},
   "source": [
    "#### 1. Write this function. The function should take three inputs: a) the estimated model (or just the estimated parameters beta); b) the test data X; and the test labels y. You may add other inputs if you consider it useful, for instance controls for print verbosity."
   ]
  },
  {
   "cell_type": "code",
   "execution_count": 11,
   "metadata": {
    "collapsed": true
   },
   "outputs": [],
   "source": [
    "def loss_function(mod,X_test,y_test):\n",
    "    coeff = mod.coef_\n",
    "    intercept = mod.intercept_\n",
    "    t = len(coeff)\n",
    "    coeff = coeff.reshape(t,1)\n",
    "    \n",
    "    coeff = np.append(np.matrix([intercept]),coeff, axis=0)\n",
    "    X_test = np.append(np.ones((len(X_test),1)),X_test,axis=1)\n",
    "    \n",
    "    N = len(y_test)\n",
    "    #print(y_test)\n",
    "    #print(X_test)\n",
    "    #print(N)\n",
    "    y_test = y_test.reshape(N,1)\n",
    "    A = y_test - (X_test @ coeff)\n",
    "    \n",
    "    #print(A)\n",
    "    lf = (1/N) * ((A.T) @ A)\n",
    "    \n",
    "    #print(lf)\n",
    "    return (lf)"
   ]
  },
  {
   "cell_type": "markdown",
   "metadata": {},
   "source": [
    "### 2.2 A few simple regressions"
   ]
  },
  {
   "cell_type": "markdown",
   "metadata": {},
   "source": [
    "#### 1. Create a small model. It should include 1-2 variables you consider relevant, i.e. features you think should be closely related to price."
   ]
  },
  {
   "cell_type": "code",
   "execution_count": 12,
   "metadata": {
    "collapsed": true
   },
   "outputs": [],
   "source": [
    "df_new = pd.DataFrame(data=df, columns=['RM','LSTAT'])\n",
    "y = df['target']\n",
    "mod = LinearRegression() "
   ]
  },
  {
   "cell_type": "markdown",
   "metadata": {},
   "source": [
    "#### 2. 10-fold cross-validate this model to get the average MSE score (the value of your loss function)."
   ]
  },
  {
   "cell_type": "code",
   "execution_count": 13,
   "metadata": {
    "collapsed": true
   },
   "outputs": [],
   "source": [
    "k = 10\n",
    "indices = np.arange(len(df))\n",
    "np.random.shuffle(indices)\n",
    "np.random.seed(0)"
   ]
  },
  {
   "cell_type": "code",
   "execution_count": 14,
   "metadata": {
    "collapsed": true
   },
   "outputs": [],
   "source": [
    "def mse_cv(df,y,k=10):\n",
    "    mse = np.empty(k)\n",
    "    for i in range(k):\n",
    "        itest = indices[i::k]\n",
    "        itrain = list(set(indices).difference(itest))\n",
    "        X_testDat = df.iloc[itest]\n",
    "        X_trainDat = df.iloc[itrain]\n",
    "        y_train =  y.iloc[itrain]\n",
    "        y_test =  y.iloc[itest]\n",
    "        \n",
    "        m1 = LinearRegression().fit(X_trainDat,y_train)\n",
    "        \n",
    "        mse[i] = loss_function(m1,X_testDat.as_matrix(),y_test.as_matrix())\n",
    "    \n",
    "    return (np.mean(mse))"
   ]
  },
  {
   "cell_type": "code",
   "execution_count": 15,
   "metadata": {},
   "outputs": [
    {
     "name": "stdout",
     "output_type": "stream",
     "text": [
      "Mean Squared Error with 2 feature model: 31.1533162139\n"
     ]
    }
   ],
   "source": [
    "l=[]\n",
    "l.append(mse_cv(df_new,y))\n",
    "print(\"Mean Squared Error with 2 feature model:\",mse_cv(df_new,y))"
   ]
  },
  {
   "cell_type": "markdown",
   "metadata": {},
   "source": [
    "#### 3. Now build the next model with 10 features. Add more features you consider relevant but also those you consider irrelevant. Compute 10-fold MSE for this model."
   ]
  },
  {
   "cell_type": "code",
   "execution_count": 16,
   "metadata": {
    "collapsed": true
   },
   "outputs": [],
   "source": [
    "df_new1 = pd.DataFrame(data=df, columns=['RM','LSTAT','INDUS','NOX','TAX','B1','B2','B3','B4','B5'])\n",
    "y = df['target']"
   ]
  },
  {
   "cell_type": "code",
   "execution_count": 17,
   "metadata": {},
   "outputs": [
    {
     "name": "stdout",
     "output_type": "stream",
     "text": [
      "Mean Squared Error with 10 features model: 30.4695029733\n"
     ]
    }
   ],
   "source": [
    "l.append(mse_cv(df_new1,y))\n",
    "print(\"Mean Squared Error with 10 features model:\",mse_cv(df_new1,y))"
   ]
  },
  {
   "cell_type": "markdown",
   "metadata": {},
   "source": [
    "#### 4. Finally, include all your features and compute MSE. We call this the full model below."
   ]
  },
  {
   "cell_type": "code",
   "execution_count": 18,
   "metadata": {},
   "outputs": [
    {
     "name": "stdout",
     "output_type": "stream",
     "text": [
      "Mean Squared Error with all features model: 17.3377317441\n"
     ]
    }
   ],
   "source": [
    "l.append(mse_cv(df.drop(['target'],axis=1),df['target']))\n",
    "num = [] # To keep the Count of features for each model\n",
    "msev = [] # to keep the mse scores for each model\n",
    "msev.append(mse_cv(df.drop(['target'],axis=1),df['target']))\n",
    "num.append(33)\n",
    "print(\"Mean Squared Error with all features model:\",mse_cv(df.drop(['target'],axis=1),df['target']))"
   ]
  },
  {
   "cell_type": "markdown",
   "metadata": {},
   "source": [
    "#### 5. Compare the results. Which has the best performance?"
   ]
  },
  {
   "cell_type": "code",
   "execution_count": 19,
   "metadata": {},
   "outputs": [
    {
     "name": "stdout",
     "output_type": "stream",
     "text": [
      "[31.153316213927418, 30.469502973319514, 17.337731744116564]\n"
     ]
    },
    {
     "data": {
      "image/png": "[encoded data removed]",
      "text/plain": [
       "<matplotlib.figure.Figure at 0x1bed66b1b70>"
      ]
     },
     "metadata": {},
     "output_type": "display_data"
    }
   ],
   "source": [
    "print(l)\n",
    "c = [1,10,33]\n",
    "d = pd.DataFrame({'N':c,'MSE':l})\n",
    "plt.figure(figsize=(8,5))\n",
    "plt.barh(d['N'],d['MSE'])\n",
    "plt.ylabel('Number of Features',fontsize=18)\n",
    "plt.xlabel('Mean Squared Error Values',fontsize=18)\n",
    "plt.show()"
   ]
  },
  {
   "cell_type": "markdown",
   "metadata": {},
   "source": [
    "Based on the above Mean Squared Error values, we observed that model with all the features have the least mean squared error value and hence performs better as compared to the other two."
   ]
  },
  {
   "cell_type": "markdown",
   "metadata": {},
   "source": [
    "## 3 Find the best model\n",
    "### 3.1 Can we evaluate all models?"
   ]
  },
  {
   "cell_type": "markdown",
   "metadata": {},
   "source": [
    "#### 1. How many different linear regression models can you build based on the features you have (including the ones you generated)?"
   ]
  },
  {
   "cell_type": "code",
   "execution_count": 20,
   "metadata": {},
   "outputs": [
    {
     "name": "stdout",
     "output_type": "stream",
     "text": [
      "Number of models with best subset selection method: 8589934592\n"
     ]
    }
   ],
   "source": [
    "print(\"Number of models with best subset selection method:\",2 ** 33)"
   ]
  },
  {
   "cell_type": "markdown",
   "metadata": {},
   "source": [
    "#### 2. Run a test: run the following loop a number of times so that the total execution time is reasonably long (at least 5 seconds) but not too long.\n",
    "* (a) choose a random number of different features\n",
    "* (b) estimate the model based on these features\n",
    "* (c) run 10-fold CV to get the MSE score for this model."
   ]
  },
  {
   "cell_type": "code",
   "execution_count": 21,
   "metadata": {},
   "outputs": [
    {
     "name": "stdout",
     "output_type": "stream",
     "text": [
      "Average Memory size for 1 MSE value: 32\n",
      "Execution time: 3.0333893299102783\n"
     ]
    }
   ],
   "source": [
    "df4 = df.drop(['target'],axis=1)\n",
    "a = []\n",
    "import sys\n",
    "\n",
    "start = time.time()\n",
    "for i in range(100):\n",
    "    n = random.randint(1,30)\n",
    "    df5 = df4.sample(n,axis=1,replace=False)\n",
    "    a.append(mse_cv(df5,df['target']))\n",
    "end = time.time()\n",
    "\n",
    "exect = end-start\n",
    "b = sys.getsizeof(sum(a)/len(a))\n",
    "print(\"Average Memory size for 1 MSE value:\",sys.getsizeof(sum(a)/len(a)))  \n",
    "print(\"Execution time:\",end - start)"
   ]
  },
  {
   "cell_type": "markdown",
   "metadata": {},
   "source": [
    "#### 3. Based on the test timings, calculate how long time it would take to evaluate all the possible models. Would it be possible to store all the resulting MSE-s in your computer's memory?"
   ]
  },
  {
   "cell_type": "code",
   "execution_count": 22,
   "metadata": {},
   "outputs": [
    {
     "name": "stdout",
     "output_type": "stream",
     "text": [
      "Execution time for all possible models(approx): 826 years\n",
      "Average memory size for MSEs for all possible models(approx): 256 GB\n"
     ]
    }
   ],
   "source": [
    "print(\"Execution time for all possible models(approx):\",int((exect * (2**33))/(3600*24*365)),'years')\n",
    "print(\"Average memory size for MSEs for all possible models(approx):\",int((b * (2**33))/1073741824),'GB')"
   ]
  },
  {
   "cell_type": "markdown",
   "metadata": {},
   "source": [
    "It would take approx 1822 years to evaluate all posisble models and 256 GB memory space for storing all the MSE values from these models. The average MSE value is calculated the avearge memory space required to store an MSE value and hence may vary if we have large or smaller numbers as MSE values."
   ]
  },
  {
   "cell_type": "markdown",
   "metadata": {},
   "source": [
    "## 3.2 Forward selection"
   ]
  },
  {
   "cell_type": "markdown",
   "metadata": {},
   "source": [
    "#### 2. Create a series of 1-feature models and pick the best one by 10-fold CV. Note: always include the constant.\n",
    "#### 3. Pick the feature with the lowest loss. This is your 1-feature model.\n",
    "#### 4. Repeat the procedure with more features until all features are included.\n",
    "#### 5. Pick the best model using Cp, AIC, BIC or adjusted R2 (consult James et al. (2015, section 6.1.3)). This is your forward-selection model."
   ]
  },
  {
   "cell_type": "code",
   "execution_count": 23,
   "metadata": {
    "scrolled": false
   },
   "outputs": [
    {
     "data": {
      "text/html": [
       "<div>\n",
       "<style>\n",
       "    .dataframe thead tr:only-child th {\n",
       "        text-align: right;\n",
       "    }\n",
       "\n",
       "    .dataframe thead th {\n",
       "        text-align: left;\n",
       "    }\n",
       "\n",
       "    .dataframe tbody tr th {\n",
       "        vertical-align: top;\n",
       "    }\n",
       "</style>\n",
       "<table border=\"1\" class=\"dataframe\">\n",
       "  <thead>\n",
       "    <tr style=\"text-align: right;\">\n",
       "      <th></th>\n",
       "      <th>MSE</th>\n",
       "      <th>f</th>\n",
       "    </tr>\n",
       "  </thead>\n",
       "  <tbody>\n",
       "    <tr>\n",
       "      <th>0</th>\n",
       "      <td>38.908373</td>\n",
       "      <td>LSTAT</td>\n",
       "    </tr>\n",
       "    <tr>\n",
       "      <th>1</th>\n",
       "      <td>29.091998</td>\n",
       "      <td>[LSTAT, RM_NEW]</td>\n",
       "    </tr>\n",
       "    <tr>\n",
       "      <th>2</th>\n",
       "      <td>24.248923</td>\n",
       "      <td>[LSTAT, RM_NEW, LL_NEW]</td>\n",
       "    </tr>\n",
       "    <tr>\n",
       "      <th>3</th>\n",
       "      <td>22.161665</td>\n",
       "      <td>[LSTAT, RM_NEW, LL_NEW, RM]</td>\n",
       "    </tr>\n",
       "    <tr>\n",
       "      <th>4</th>\n",
       "      <td>20.436888</td>\n",
       "      <td>[LSTAT, RM_NEW, LL_NEW, RM, PTRATIO]</td>\n",
       "    </tr>\n",
       "    <tr>\n",
       "      <th>5</th>\n",
       "      <td>19.656228</td>\n",
       "      <td>[LSTAT, RM_NEW, LL_NEW, RM, PTRATIO, CRIM]</td>\n",
       "    </tr>\n",
       "    <tr>\n",
       "      <th>6</th>\n",
       "      <td>18.710075</td>\n",
       "      <td>[LSTAT, RM_NEW, LL_NEW, RM, PTRATIO, CRIM, DIS]</td>\n",
       "    </tr>\n",
       "    <tr>\n",
       "      <th>7</th>\n",
       "      <td>17.850096</td>\n",
       "      <td>[LSTAT, RM_NEW, LL_NEW, RM, PTRATIO, CRIM, DIS...</td>\n",
       "    </tr>\n",
       "    <tr>\n",
       "      <th>8</th>\n",
       "      <td>17.606573</td>\n",
       "      <td>[LSTAT, RM_NEW, LL_NEW, RM, PTRATIO, CRIM, DIS...</td>\n",
       "    </tr>\n",
       "    <tr>\n",
       "      <th>9</th>\n",
       "      <td>17.395949</td>\n",
       "      <td>[LSTAT, RM_NEW, LL_NEW, RM, PTRATIO, CRIM, DIS...</td>\n",
       "    </tr>\n",
       "    <tr>\n",
       "      <th>10</th>\n",
       "      <td>17.171951</td>\n",
       "      <td>[LSTAT, RM_NEW, LL_NEW, RM, PTRATIO, CRIM, DIS...</td>\n",
       "    </tr>\n",
       "    <tr>\n",
       "      <th>11</th>\n",
       "      <td>16.856555</td>\n",
       "      <td>[LSTAT, RM_NEW, LL_NEW, RM, PTRATIO, CRIM, DIS...</td>\n",
       "    </tr>\n",
       "    <tr>\n",
       "      <th>12</th>\n",
       "      <td>16.759093</td>\n",
       "      <td>[LSTAT, RM_NEW, LL_NEW, RM, PTRATIO, CRIM, DIS...</td>\n",
       "    </tr>\n",
       "    <tr>\n",
       "      <th>13</th>\n",
       "      <td>16.698276</td>\n",
       "      <td>[LSTAT, RM_NEW, LL_NEW, RM, PTRATIO, CRIM, DIS...</td>\n",
       "    </tr>\n",
       "    <tr>\n",
       "      <th>14</th>\n",
       "      <td>16.642035</td>\n",
       "      <td>[LSTAT, RM_NEW, LL_NEW, RM, PTRATIO, CRIM, DIS...</td>\n",
       "    </tr>\n",
       "    <tr>\n",
       "      <th>15</th>\n",
       "      <td>16.582252</td>\n",
       "      <td>[LSTAT, RM_NEW, LL_NEW, RM, PTRATIO, CRIM, DIS...</td>\n",
       "    </tr>\n",
       "    <tr>\n",
       "      <th>16</th>\n",
       "      <td>16.553728</td>\n",
       "      <td>[LSTAT, RM_NEW, LL_NEW, RM, PTRATIO, CRIM, DIS...</td>\n",
       "    </tr>\n",
       "    <tr>\n",
       "      <th>17</th>\n",
       "      <td>16.530373</td>\n",
       "      <td>[LSTAT, RM_NEW, LL_NEW, RM, PTRATIO, CRIM, DIS...</td>\n",
       "    </tr>\n",
       "    <tr>\n",
       "      <th>18</th>\n",
       "      <td>16.500881</td>\n",
       "      <td>[LSTAT, RM_NEW, LL_NEW, RM, PTRATIO, CRIM, DIS...</td>\n",
       "    </tr>\n",
       "    <tr>\n",
       "      <th>19</th>\n",
       "      <td>16.515959</td>\n",
       "      <td>[LSTAT, RM_NEW, LL_NEW, RM, PTRATIO, CRIM, DIS...</td>\n",
       "    </tr>\n",
       "    <tr>\n",
       "      <th>20</th>\n",
       "      <td>16.545320</td>\n",
       "      <td>[LSTAT, RM_NEW, LL_NEW, RM, PTRATIO, CRIM, DIS...</td>\n",
       "    </tr>\n",
       "    <tr>\n",
       "      <th>21</th>\n",
       "      <td>16.581332</td>\n",
       "      <td>[LSTAT, RM_NEW, LL_NEW, RM, PTRATIO, CRIM, DIS...</td>\n",
       "    </tr>\n",
       "    <tr>\n",
       "      <th>22</th>\n",
       "      <td>16.623083</td>\n",
       "      <td>[LSTAT, RM_NEW, LL_NEW, RM, PTRATIO, CRIM, DIS...</td>\n",
       "    </tr>\n",
       "    <tr>\n",
       "      <th>23</th>\n",
       "      <td>16.663540</td>\n",
       "      <td>[LSTAT, RM_NEW, LL_NEW, RM, PTRATIO, CRIM, DIS...</td>\n",
       "    </tr>\n",
       "    <tr>\n",
       "      <th>24</th>\n",
       "      <td>16.704549</td>\n",
       "      <td>[LSTAT, RM_NEW, LL_NEW, RM, PTRATIO, CRIM, DIS...</td>\n",
       "    </tr>\n",
       "    <tr>\n",
       "      <th>25</th>\n",
       "      <td>16.758646</td>\n",
       "      <td>[LSTAT, RM_NEW, LL_NEW, RM, PTRATIO, CRIM, DIS...</td>\n",
       "    </tr>\n",
       "    <tr>\n",
       "      <th>26</th>\n",
       "      <td>16.821141</td>\n",
       "      <td>[LSTAT, RM_NEW, LL_NEW, RM, PTRATIO, CRIM, DIS...</td>\n",
       "    </tr>\n",
       "    <tr>\n",
       "      <th>27</th>\n",
       "      <td>16.873549</td>\n",
       "      <td>[LSTAT, RM_NEW, LL_NEW, RM, PTRATIO, CRIM, DIS...</td>\n",
       "    </tr>\n",
       "    <tr>\n",
       "      <th>28</th>\n",
       "      <td>16.917710</td>\n",
       "      <td>[LSTAT, RM_NEW, LL_NEW, RM, PTRATIO, CRIM, DIS...</td>\n",
       "    </tr>\n",
       "    <tr>\n",
       "      <th>29</th>\n",
       "      <td>17.022458</td>\n",
       "      <td>[LSTAT, RM_NEW, LL_NEW, RM, PTRATIO, CRIM, DIS...</td>\n",
       "    </tr>\n",
       "    <tr>\n",
       "      <th>30</th>\n",
       "      <td>17.093114</td>\n",
       "      <td>[LSTAT, RM_NEW, LL_NEW, RM, PTRATIO, CRIM, DIS...</td>\n",
       "    </tr>\n",
       "    <tr>\n",
       "      <th>31</th>\n",
       "      <td>17.199065</td>\n",
       "      <td>[LSTAT, RM_NEW, LL_NEW, RM, PTRATIO, CRIM, DIS...</td>\n",
       "    </tr>\n",
       "    <tr>\n",
       "      <th>32</th>\n",
       "      <td>17.337732</td>\n",
       "      <td>[LSTAT, RM_NEW, LL_NEW, RM, PTRATIO, CRIM, DIS...</td>\n",
       "    </tr>\n",
       "  </tbody>\n",
       "</table>\n",
       "</div>"
      ],
      "text/plain": [
       "          MSE                                                  f\n",
       "0   38.908373                                              LSTAT\n",
       "1   29.091998                                    [LSTAT, RM_NEW]\n",
       "2   24.248923                            [LSTAT, RM_NEW, LL_NEW]\n",
       "3   22.161665                        [LSTAT, RM_NEW, LL_NEW, RM]\n",
       "4   20.436888               [LSTAT, RM_NEW, LL_NEW, RM, PTRATIO]\n",
       "5   19.656228         [LSTAT, RM_NEW, LL_NEW, RM, PTRATIO, CRIM]\n",
       "6   18.710075    [LSTAT, RM_NEW, LL_NEW, RM, PTRATIO, CRIM, DIS]\n",
       "7   17.850096  [LSTAT, RM_NEW, LL_NEW, RM, PTRATIO, CRIM, DIS...\n",
       "8   17.606573  [LSTAT, RM_NEW, LL_NEW, RM, PTRATIO, CRIM, DIS...\n",
       "9   17.395949  [LSTAT, RM_NEW, LL_NEW, RM, PTRATIO, CRIM, DIS...\n",
       "10  17.171951  [LSTAT, RM_NEW, LL_NEW, RM, PTRATIO, CRIM, DIS...\n",
       "11  16.856555  [LSTAT, RM_NEW, LL_NEW, RM, PTRATIO, CRIM, DIS...\n",
       "12  16.759093  [LSTAT, RM_NEW, LL_NEW, RM, PTRATIO, CRIM, DIS...\n",
       "13  16.698276  [LSTAT, RM_NEW, LL_NEW, RM, PTRATIO, CRIM, DIS...\n",
       "14  16.642035  [LSTAT, RM_NEW, LL_NEW, RM, PTRATIO, CRIM, DIS...\n",
       "15  16.582252  [LSTAT, RM_NEW, LL_NEW, RM, PTRATIO, CRIM, DIS...\n",
       "16  16.553728  [LSTAT, RM_NEW, LL_NEW, RM, PTRATIO, CRIM, DIS...\n",
       "17  16.530373  [LSTAT, RM_NEW, LL_NEW, RM, PTRATIO, CRIM, DIS...\n",
       "18  16.500881  [LSTAT, RM_NEW, LL_NEW, RM, PTRATIO, CRIM, DIS...\n",
       "19  16.515959  [LSTAT, RM_NEW, LL_NEW, RM, PTRATIO, CRIM, DIS...\n",
       "20  16.545320  [LSTAT, RM_NEW, LL_NEW, RM, PTRATIO, CRIM, DIS...\n",
       "21  16.581332  [LSTAT, RM_NEW, LL_NEW, RM, PTRATIO, CRIM, DIS...\n",
       "22  16.623083  [LSTAT, RM_NEW, LL_NEW, RM, PTRATIO, CRIM, DIS...\n",
       "23  16.663540  [LSTAT, RM_NEW, LL_NEW, RM, PTRATIO, CRIM, DIS...\n",
       "24  16.704549  [LSTAT, RM_NEW, LL_NEW, RM, PTRATIO, CRIM, DIS...\n",
       "25  16.758646  [LSTAT, RM_NEW, LL_NEW, RM, PTRATIO, CRIM, DIS...\n",
       "26  16.821141  [LSTAT, RM_NEW, LL_NEW, RM, PTRATIO, CRIM, DIS...\n",
       "27  16.873549  [LSTAT, RM_NEW, LL_NEW, RM, PTRATIO, CRIM, DIS...\n",
       "28  16.917710  [LSTAT, RM_NEW, LL_NEW, RM, PTRATIO, CRIM, DIS...\n",
       "29  17.022458  [LSTAT, RM_NEW, LL_NEW, RM, PTRATIO, CRIM, DIS...\n",
       "30  17.093114  [LSTAT, RM_NEW, LL_NEW, RM, PTRATIO, CRIM, DIS...\n",
       "31  17.199065  [LSTAT, RM_NEW, LL_NEW, RM, PTRATIO, CRIM, DIS...\n",
       "32  17.337732  [LSTAT, RM_NEW, LL_NEW, RM, PTRATIO, CRIM, DIS..."
      ]
     },
     "execution_count": 23,
     "metadata": {},
     "output_type": "execute_result"
    }
   ],
   "source": [
    "df6 = df.drop(['target'],axis=1)\n",
    "c=[]\n",
    "a = []\n",
    "h=[]\n",
    "g=[]\n",
    "\n",
    "for i in range(0,33):\n",
    "    df7 = pd.DataFrame(data = df6.iloc[:,i])\n",
    "    c.append(df7.columns.values[0])\n",
    "    a.append(mse_cv(df7,df['target']))\n",
    "    \n",
    "    d = pd.DataFrame({'feature':c,'MSE':a})\n",
    "    df9 = df6.drop(d.loc[d['MSE'].idxmin()][1],axis=1)\n",
    "    df8 = df[d.loc[d['MSE'].idxmin()][1]]\n",
    "\n",
    "#print(d.loc[d['MSE'].idxmin()][1],d.loc[d['MSE'].idxmin()][0])\n",
    "h.append(d.loc[d['MSE'].idxmin()][1])\n",
    "g.append(d.loc[d['MSE'].idxmin()][0])\n",
    "for i in range(0,32):\n",
    "    c=[]\n",
    "    a=[]\n",
    "    for j in range(0,(df9.shape[1])):\n",
    "        df11 = pd.concat([df8,df9.iloc[:,j]],axis=1)\n",
    "        c.append(df11.columns.values)\n",
    "        a.append(mse_cv(df11,df['target']))\n",
    "        d = pd.DataFrame({'feature':c,'MSE':a})\n",
    "        \n",
    "    #print(d.loc[d['MSE'].idxmin()][1],d.loc[d['MSE'].idxmin()][0])\n",
    "    h.append(d.loc[d['MSE'].idxmin()][1])\n",
    "    g.append(d.loc[d['MSE'].idxmin()][0])\n",
    "    df9 = df6.drop(d.loc[d['MSE'].idxmin()][1],axis=1)\n",
    "    df8 =pd.concat([df8,df[d.loc[d['MSE'].idxmin()][1][i+1]]],axis=1)\n",
    "dd = pd.DataFrame({'f':h,'MSE':g})\n",
    "dd"
   ]
  },
  {
   "cell_type": "code",
   "execution_count": 24,
   "metadata": {},
   "outputs": [
    {
     "name": "stdout",
     "output_type": "stream",
     "text": [
      "Best model:\n",
      "\n",
      "Number of Features: 19\n",
      "MSE Value: 16.5008814245\n"
     ]
    }
   ],
   "source": [
    "m = dd['MSE'].min()\n",
    "\n",
    "print(\"Best model:\")\n",
    "print(\"\\nNumber of Features:\",dd.index[dd['MSE'] == m].tolist()[0]+1)\n",
    "print(\"MSE Value:\",dd['MSE'].min())\n",
    "\n",
    "num.append(dd.index[dd['MSE'] == m].tolist()[0]+1)\n",
    "msev.append(dd['MSE'].min())"
   ]
  },
  {
   "cell_type": "markdown",
   "metadata": {},
   "source": [
    "## 4 Principal components"
   ]
  },
  {
   "cell_type": "markdown",
   "metadata": {},
   "source": [
    "#### 2. Perform Principal Component Analysis on all the features in your data (except the target (price) medv). Extract all components (the number should equal to the number of features) and report:\n",
    "* (a) Variance explained by each component\n",
    "* (b) Proportional variance explained by each component\n",
    "* (c) Cumulative variance explained up to each component."
   ]
  },
  {
   "cell_type": "code",
   "execution_count": 25,
   "metadata": {
    "collapsed": true
   },
   "outputs": [],
   "source": [
    "from sklearn.decomposition import PCA"
   ]
  },
  {
   "cell_type": "code",
   "execution_count": 26,
   "metadata": {},
   "outputs": [
    {
     "data": {
      "text/plain": [
       "PCA(copy=True, iterated_power='auto', n_components=None, random_state=None,\n",
       "  svd_solver='auto', tol=0.0, whiten=False)"
      ]
     },
     "execution_count": 26,
     "metadata": {},
     "output_type": "execute_result"
    }
   ],
   "source": [
    "mod1 = PCA()\n",
    "mod1.fit(df.drop(['target'],axis=1))"
   ]
  },
  {
   "cell_type": "code",
   "execution_count": 27,
   "metadata": {},
   "outputs": [
    {
     "data": {
      "text/plain": [
       "array([  3.80442685e+07,   2.14252580e+06,   1.22469020e+05,\n",
       "         3.71862375e+04,   8.39015977e+03,   3.73819303e+03,\n",
       "         7.38666445e+02,   3.66468182e+02,   2.59230666e+02,\n",
       "         4.59907210e+01,   1.54847797e+01,   1.01457914e+01,\n",
       "         3.52613815e+00,   1.56352698e+00,   1.18417724e+00,\n",
       "         6.14534396e-01,   2.94788079e-01,   2.23958985e-01,\n",
       "         1.04696087e-01,   5.87029410e-02,   5.45894008e-02,\n",
       "         4.56303652e-02,   2.94865398e-02,   2.49748520e-02,\n",
       "         3.92920611e-03,   3.80132005e-03,   9.68103063e-04,\n",
       "         4.86509123e-04,   2.73092187e-04,   1.28779174e-04,\n",
       "         1.13636989e-04,   4.28122627e-05,   7.26168870e-06])"
      ]
     },
     "execution_count": 27,
     "metadata": {},
     "output_type": "execute_result"
    }
   ],
   "source": [
    "mod1.explained_variance_"
   ]
  },
  {
   "cell_type": "code",
   "execution_count": 28,
   "metadata": {},
   "outputs": [
    {
     "data": {
      "text/plain": [
       "array([  9.42622599e-01,   5.30853483e-02,   3.03441415e-03,\n",
       "         9.21363171e-04,   2.07882936e-04,   9.26211850e-05,\n",
       "         1.83019338e-05,   9.07997984e-06,   6.42295658e-06,\n",
       "         1.13951180e-06,   3.83666289e-07,   2.51382210e-07,\n",
       "         8.73671027e-08,   3.87394981e-08,   2.93403521e-08,\n",
       "         1.52263148e-08,   7.30396237e-09,   5.54903035e-09,\n",
       "         2.59405429e-09,   1.45448240e-09,   1.35256124e-09,\n",
       "         1.13058327e-09,   7.30587810e-10,   6.18801750e-10,\n",
       "         9.73539150e-11,   9.41852828e-11,   2.39866835e-11,\n",
       "         1.20542335e-11,   6.76640339e-12,   3.19076078e-12,\n",
       "         2.81558297e-12,   1.06075916e-12,   1.79922815e-13])"
      ]
     },
     "execution_count": 28,
     "metadata": {},
     "output_type": "execute_result"
    }
   ],
   "source": [
    "mod1.explained_variance_ratio_"
   ]
  },
  {
   "cell_type": "code",
   "execution_count": 29,
   "metadata": {},
   "outputs": [
    {
     "data": {
      "text/plain": [
       "array([ 0.9426226 ,  0.99570795,  0.99874236,  0.99966372,  0.99987161,\n",
       "        0.99996423,  0.99998253,  0.99999161,  0.99999803,  0.99999917,\n",
       "        0.99999956,  0.99999981,  0.9999999 ,  0.99999993,  0.99999996,\n",
       "        0.99999998,  0.99999999,  0.99999999,  0.99999999,  1.        ,\n",
       "        1.        ,  1.        ,  1.        ,  1.        ,  1.        ,\n",
       "        1.        ,  1.        ,  1.        ,  1.        ,  1.        ,\n",
       "        1.        ,  1.        ,  1.        ])"
      ]
     },
     "execution_count": 29,
     "metadata": {},
     "output_type": "execute_result"
    }
   ],
   "source": [
    "(mod1.explained_variance_ratio_).cumsum()"
   ]
  },
  {
   "cell_type": "markdown",
   "metadata": {},
   "source": [
    "#### 3. Rotate data: rotate the original features according to the principal components. Most packages have this function built-in but you can consult Leskovec et al. (2014, chapter 11.2.1) for details and interpretation."
   ]
  },
  {
   "cell_type": "code",
   "execution_count": 30,
   "metadata": {},
   "outputs": [
    {
     "data": {
      "text/plain": [
       "array([[ -2.50909339e+03,   5.38330438e+01,   3.25603341e+02, ...,\n",
       "          5.37156638e-03,   9.40874100e-03,   5.31082199e-04],\n",
       "       [ -2.50385751e+03,   4.45553840e+01,   6.51146330e+02, ...,\n",
       "          7.89330232e-05,   2.44491848e-04,   6.48308431e-03],\n",
       "       [ -2.50322749e+03,   4.60223679e+01,   5.28210363e+02, ...,\n",
       "         -1.00602668e-02,   9.85952943e-03,  -1.37770838e-03],\n",
       "       ..., \n",
       "       [ -2.49033313e+03,   3.23729070e+01,   1.00781863e+03, ...,\n",
       "          5.23188105e-03,  -4.43415875e-03,   3.86158518e-04],\n",
       "       [ -2.46245301e+03,   3.39215656e+01,  -4.28117218e+02, ...,\n",
       "         -2.25465700e-03,  -2.16400690e-02,   3.76227822e-03],\n",
       "       [ -2.48739203e+03,   4.98202524e+01,  -4.04181204e+02, ...,\n",
       "          3.59816238e-03,   1.21907702e-02,   7.92661809e-03]])"
      ]
     },
     "execution_count": 30,
     "metadata": {},
     "output_type": "execute_result"
    }
   ],
   "source": [
    "dataRot = mod1.fit_transform(df.drop(['target'],axis=1))\n",
    "dataRot"
   ]
  },
  {
   "cell_type": "markdown",
   "metadata": {},
   "source": [
    "#### 4. Find the optimal model in rotated data: estimate the regression model explaining the housing value by the rotated features. Start with the first (most important) rotated feature and add rotated features to the model one-by-one. Each time cross-validate your result."
   ]
  },
  {
   "cell_type": "code",
   "execution_count": 31,
   "metadata": {
    "collapsed": true
   },
   "outputs": [],
   "source": [
    "dff = pd.DataFrame(data=dataRot)"
   ]
  },
  {
   "cell_type": "code",
   "execution_count": 32,
   "metadata": {},
   "outputs": [
    {
     "name": "stdout",
     "output_type": "stream",
     "text": [
      "[ 0  1  2  3  4  5  6  7  8  9 10 11 12 13 14 15 16 17 18 19 20 21 22 23 24\n",
      " 25] 17.0040378679\n"
     ]
    }
   ],
   "source": [
    "a = []\n",
    "c = []\n",
    "x = []\n",
    "for i in range(1,34):\n",
    "    dfh = pd.DataFrame(data = dff.iloc[:,0:i])\n",
    "    c.append(dfh.columns.values)\n",
    "    a.append(mse_cv(dfh,df['target']))\n",
    "    x.append(len(c))\n",
    "    \n",
    "    d = pd.DataFrame({'feature':c,'MSE':a})\n",
    "\n",
    "print(d.loc[d['MSE'].idxmin()][1],d.loc[d['MSE'].idxmin()][0])"
   ]
  },
  {
   "cell_type": "code",
   "execution_count": 33,
   "metadata": {
    "collapsed": true
   },
   "outputs": [],
   "source": [
    "num.append(len(d.loc[d['MSE'].idxmin()][1]))\n",
    "msev.append(d.loc[d['MSE'].idxmin()][0])"
   ]
  },
  {
   "cell_type": "markdown",
   "metadata": {},
   "source": [
    "#### 5. Show a plot how cross-validated MSE depends on the number of components. Which number of components will give you the smallest MSE?"
   ]
  },
  {
   "cell_type": "code",
   "execution_count": 34,
   "metadata": {},
   "outputs": [
    {
     "data": {
      "image/png": "[encoded data removed]",
      "text/plain": [
       "<matplotlib.figure.Figure at 0x1bed72c1898>"
      ]
     },
     "metadata": {},
     "output_type": "display_data"
    }
   ],
   "source": [
    "plt.style.use('ggplot')\n",
    "plt.figure(figsize=(8,8))\n",
    "plt.plot(x,a)\n",
    "plt.title('Model Performance based on MSE',fontsize=20)\n",
    "plt.xlabel('Number of Features in the Model',fontsize=18)\n",
    "plt.ylabel('Mean Squared Error (MSE)',fontsize=18)\n",
    "plt.show()"
   ]
  },
  {
   "cell_type": "markdown",
   "metadata": {},
   "source": [
    "#### 26 features are gving minimum MSE, 17.69."
   ]
  },
  {
   "cell_type": "markdown",
   "metadata": {},
   "source": [
    "## 4.2 PCA on normalized data"
   ]
  },
  {
   "cell_type": "markdown",
   "metadata": {},
   "source": [
    "#### 1. Code such a function and apply this to all explanatory variables in your data (but not to the target). This gives you a normalized data matrix Xn."
   ]
  },
  {
   "cell_type": "code",
   "execution_count": 35,
   "metadata": {
    "collapsed": true
   },
   "outputs": [],
   "source": [
    "def normalize(dft):\n",
    "    m = []\n",
    "    s=[]\n",
    "    for i in range(len(dft.columns.values)):\n",
    "        m.append(np.mean(dft.iloc[:,i]))\n",
    "        s.append(np.std(dft.iloc[:,i]))\n",
    "        \n",
    "        dft.iloc[:,i] = ((dft.iloc[:,i] - m[i] )/ s[i])\n",
    "    return(dft)"
   ]
  },
  {
   "cell_type": "markdown",
   "metadata": {},
   "source": [
    "#### 2. Repeat the analysis in 4.1 with normalized data."
   ]
  },
  {
   "cell_type": "code",
   "execution_count": 36,
   "metadata": {},
   "outputs": [
    {
     "data": {
      "text/html": [
       "<div>\n",
       "<style>\n",
       "    .dataframe thead tr:only-child th {\n",
       "        text-align: right;\n",
       "    }\n",
       "\n",
       "    .dataframe thead th {\n",
       "        text-align: left;\n",
       "    }\n",
       "\n",
       "    .dataframe tbody tr th {\n",
       "        vertical-align: top;\n",
       "    }\n",
       "</style>\n",
       "<table border=\"1\" class=\"dataframe\">\n",
       "  <thead>\n",
       "    <tr style=\"text-align: right;\">\n",
       "      <th></th>\n",
       "      <th>CRIM</th>\n",
       "      <th>ZN</th>\n",
       "      <th>INDUS</th>\n",
       "      <th>CHAS</th>\n",
       "      <th>NOX</th>\n",
       "      <th>RM</th>\n",
       "      <th>AGE</th>\n",
       "      <th>DIS</th>\n",
       "      <th>RAD</th>\n",
       "      <th>TAX</th>\n",
       "      <th>...</th>\n",
       "      <th>B1</th>\n",
       "      <th>B2</th>\n",
       "      <th>B3</th>\n",
       "      <th>B4</th>\n",
       "      <th>B5</th>\n",
       "      <th>B6</th>\n",
       "      <th>B7</th>\n",
       "      <th>B8</th>\n",
       "      <th>B9</th>\n",
       "      <th>B10</th>\n",
       "    </tr>\n",
       "  </thead>\n",
       "  <tbody>\n",
       "    <tr>\n",
       "      <th>0</th>\n",
       "      <td>-0.417713</td>\n",
       "      <td>0.284830</td>\n",
       "      <td>-1.287909</td>\n",
       "      <td>-0.272599</td>\n",
       "      <td>-0.144217</td>\n",
       "      <td>0.413672</td>\n",
       "      <td>-0.120013</td>\n",
       "      <td>0.140214</td>\n",
       "      <td>-0.982843</td>\n",
       "      <td>-0.666608</td>\n",
       "      <td>...</td>\n",
       "      <td>1.256242</td>\n",
       "      <td>0.963737</td>\n",
       "      <td>1.580424</td>\n",
       "      <td>3.241579</td>\n",
       "      <td>2.629820</td>\n",
       "      <td>2.518748</td>\n",
       "      <td>2.172072</td>\n",
       "      <td>2.245231</td>\n",
       "      <td>2.417190</td>\n",
       "      <td>-0.548638</td>\n",
       "    </tr>\n",
       "    <tr>\n",
       "      <th>1</th>\n",
       "      <td>-0.415269</td>\n",
       "      <td>-0.487722</td>\n",
       "      <td>-0.593381</td>\n",
       "      <td>-0.272599</td>\n",
       "      <td>-0.740262</td>\n",
       "      <td>0.194274</td>\n",
       "      <td>0.367166</td>\n",
       "      <td>0.557160</td>\n",
       "      <td>-0.867883</td>\n",
       "      <td>-0.987329</td>\n",
       "      <td>...</td>\n",
       "      <td>1.676314</td>\n",
       "      <td>1.889915</td>\n",
       "      <td>-0.821213</td>\n",
       "      <td>-0.487747</td>\n",
       "      <td>-0.040972</td>\n",
       "      <td>0.530976</td>\n",
       "      <td>-0.012833</td>\n",
       "      <td>-0.836194</td>\n",
       "      <td>0.468356</td>\n",
       "      <td>-0.868733</td>\n",
       "    </tr>\n",
       "    <tr>\n",
       "      <th>2</th>\n",
       "      <td>-0.415272</td>\n",
       "      <td>-0.487722</td>\n",
       "      <td>-0.593381</td>\n",
       "      <td>-0.272599</td>\n",
       "      <td>-0.740262</td>\n",
       "      <td>1.282714</td>\n",
       "      <td>-0.265812</td>\n",
       "      <td>0.557160</td>\n",
       "      <td>-0.867883</td>\n",
       "      <td>-0.987329</td>\n",
       "      <td>...</td>\n",
       "      <td>1.555699</td>\n",
       "      <td>1.539392</td>\n",
       "      <td>0.952545</td>\n",
       "      <td>1.035398</td>\n",
       "      <td>1.343280</td>\n",
       "      <td>2.022645</td>\n",
       "      <td>0.912242</td>\n",
       "      <td>-0.372023</td>\n",
       "      <td>1.182516</td>\n",
       "      <td>-0.769754</td>\n",
       "    </tr>\n",
       "    <tr>\n",
       "      <th>3</th>\n",
       "      <td>-0.414680</td>\n",
       "      <td>-0.487722</td>\n",
       "      <td>-1.306878</td>\n",
       "      <td>-0.272599</td>\n",
       "      <td>-0.835284</td>\n",
       "      <td>1.016303</td>\n",
       "      <td>-0.809889</td>\n",
       "      <td>1.077737</td>\n",
       "      <td>-0.752922</td>\n",
       "      <td>-1.106115</td>\n",
       "      <td>...</td>\n",
       "      <td>-0.624514</td>\n",
       "      <td>-0.788593</td>\n",
       "      <td>3.299957</td>\n",
       "      <td>3.359667</td>\n",
       "      <td>1.894475</td>\n",
       "      <td>1.436106</td>\n",
       "      <td>2.812786</td>\n",
       "      <td>4.863883</td>\n",
       "      <td>0.299092</td>\n",
       "      <td>-0.080447</td>\n",
       "    </tr>\n",
       "    <tr>\n",
       "      <th>4</th>\n",
       "      <td>-0.410409</td>\n",
       "      <td>-0.487722</td>\n",
       "      <td>-1.306878</td>\n",
       "      <td>-0.272599</td>\n",
       "      <td>-0.835284</td>\n",
       "      <td>1.228577</td>\n",
       "      <td>-0.511180</td>\n",
       "      <td>1.077737</td>\n",
       "      <td>-0.752922</td>\n",
       "      <td>-1.106115</td>\n",
       "      <td>...</td>\n",
       "      <td>1.767814</td>\n",
       "      <td>1.807271</td>\n",
       "      <td>0.288991</td>\n",
       "      <td>0.527433</td>\n",
       "      <td>1.350796</td>\n",
       "      <td>1.412851</td>\n",
       "      <td>-0.023632</td>\n",
       "      <td>-0.534204</td>\n",
       "      <td>1.223507</td>\n",
       "      <td>-0.780212</td>\n",
       "    </tr>\n",
       "  </tbody>\n",
       "</table>\n",
       "<p>5 rows × 33 columns</p>\n",
       "</div>"
      ],
      "text/plain": [
       "       CRIM        ZN     INDUS      CHAS       NOX        RM       AGE  \\\n",
       "0 -0.417713  0.284830 -1.287909 -0.272599 -0.144217  0.413672 -0.120013   \n",
       "1 -0.415269 -0.487722 -0.593381 -0.272599 -0.740262  0.194274  0.367166   \n",
       "2 -0.415272 -0.487722 -0.593381 -0.272599 -0.740262  1.282714 -0.265812   \n",
       "3 -0.414680 -0.487722 -1.306878 -0.272599 -0.835284  1.016303 -0.809889   \n",
       "4 -0.410409 -0.487722 -1.306878 -0.272599 -0.835284  1.228577 -0.511180   \n",
       "\n",
       "        DIS       RAD       TAX    ...           B1        B2        B3  \\\n",
       "0  0.140214 -0.982843 -0.666608    ...     1.256242  0.963737  1.580424   \n",
       "1  0.557160 -0.867883 -0.987329    ...     1.676314  1.889915 -0.821213   \n",
       "2  0.557160 -0.867883 -0.987329    ...     1.555699  1.539392  0.952545   \n",
       "3  1.077737 -0.752922 -1.106115    ...    -0.624514 -0.788593  3.299957   \n",
       "4  1.077737 -0.752922 -1.106115    ...     1.767814  1.807271  0.288991   \n",
       "\n",
       "         B4        B5        B6        B7        B8        B9       B10  \n",
       "0  3.241579  2.629820  2.518748  2.172072  2.245231  2.417190 -0.548638  \n",
       "1 -0.487747 -0.040972  0.530976 -0.012833 -0.836194  0.468356 -0.868733  \n",
       "2  1.035398  1.343280  2.022645  0.912242 -0.372023  1.182516 -0.769754  \n",
       "3  3.359667  1.894475  1.436106  2.812786  4.863883  0.299092 -0.080447  \n",
       "4  0.527433  1.350796  1.412851 -0.023632 -0.534204  1.223507 -0.780212  \n",
       "\n",
       "[5 rows x 33 columns]"
      ]
     },
     "execution_count": 36,
     "metadata": {},
     "output_type": "execute_result"
    }
   ],
   "source": [
    "dff1 = normalize(df.drop(['target'],axis=1))\n",
    "dff1.head()"
   ]
  },
  {
   "cell_type": "code",
   "execution_count": 37,
   "metadata": {},
   "outputs": [
    {
     "data": {
      "text/plain": [
       "PCA(copy=True, iterated_power='auto', n_components=None, random_state=None,\n",
       "  svd_solver='auto', tol=0.0, whiten=False)"
      ]
     },
     "execution_count": 37,
     "metadata": {},
     "output_type": "execute_result"
    }
   ],
   "source": [
    "mod1 = PCA()\n",
    "mod1.fit(dff1)"
   ]
  },
  {
   "cell_type": "code",
   "execution_count": 38,
   "metadata": {},
   "outputs": [
    {
     "data": {
      "text/plain": [
       "array([  1.07163507e+01,   5.14878549e+00,   2.37191766e+00,\n",
       "         2.26810196e+00,   2.04482754e+00,   1.71177048e+00,\n",
       "         1.27683221e+00,   1.07336004e+00,   9.94954490e-01,\n",
       "         9.25556843e-01,   7.77768570e-01,   6.47534905e-01,\n",
       "         5.10340249e-01,   4.69664493e-01,   3.64239059e-01,\n",
       "         3.33393030e-01,   3.20151212e-01,   2.06802610e-01,\n",
       "         1.81598126e-01,   1.62454051e-01,   1.24398301e-01,\n",
       "         1.07861798e-01,   1.01013295e-01,   8.70203041e-02,\n",
       "         6.89987935e-02,   3.41289318e-02,   1.68803068e-02,\n",
       "         5.84268393e-03,   5.47199151e-03,   3.44999126e-03,\n",
       "         2.06214749e-03,   1.69022584e-03,   1.24001508e-04])"
      ]
     },
     "execution_count": 38,
     "metadata": {},
     "output_type": "execute_result"
    }
   ],
   "source": [
    "mod1.explained_variance_"
   ]
  },
  {
   "cell_type": "code",
   "execution_count": 39,
   "metadata": {},
   "outputs": [
    {
     "data": {
      "text/plain": [
       "array([  3.24096127e-01,   1.55715455e-01,   7.17342448e-02,\n",
       "         6.85945317e-02,   6.18420116e-02,   5.17693191e-02,\n",
       "         3.86154190e-02,   3.24617812e-02,   3.00905508e-02,\n",
       "         2.79917479e-02,   2.35221660e-02,   1.95834907e-02,\n",
       "         1.54342931e-02,   1.42041304e-02,   1.10157339e-02,\n",
       "         1.00828531e-02,   9.68237884e-03,   6.25436089e-03,\n",
       "         5.49209808e-03,   4.91312108e-03,   3.76219559e-03,\n",
       "         3.26207977e-03,   3.05495951e-03,   2.63176749e-03,\n",
       "         2.08674037e-03,   1.03216616e-03,   5.10513531e-04,\n",
       "         1.76701125e-04,   1.65490221e-04,   1.04338579e-04,\n",
       "         6.23658213e-05,   5.11177417e-05,   3.75019532e-06])"
      ]
     },
     "execution_count": 39,
     "metadata": {},
     "output_type": "execute_result"
    }
   ],
   "source": [
    "mod1.explained_variance_ratio_"
   ]
  },
  {
   "cell_type": "code",
   "execution_count": 40,
   "metadata": {},
   "outputs": [
    {
     "data": {
      "text/plain": [
       "array([ 0.32409613,  0.47981158,  0.55154583,  0.62014036,  0.68198237,\n",
       "        0.73375169,  0.77236711,  0.80482889,  0.83491944,  0.86291119,\n",
       "        0.88643335,  0.90601684,  0.92145114,  0.93565527,  0.946671  ,\n",
       "        0.95675385,  0.96643623,  0.97269059,  0.97818269,  0.98309581,\n",
       "        0.98685801,  0.99012009,  0.99317505,  0.99580682,  0.99789356,\n",
       "        0.99892572,  0.99943624,  0.99961294,  0.99977843,  0.99988277,\n",
       "        0.99994513,  0.99999625,  1.        ])"
      ]
     },
     "execution_count": 40,
     "metadata": {},
     "output_type": "execute_result"
    }
   ],
   "source": [
    "(mod1.explained_variance_ratio_).cumsum()"
   ]
  },
  {
   "cell_type": "code",
   "execution_count": 41,
   "metadata": {},
   "outputs": [
    {
     "data": {
      "text/plain": [
       "array([[-3.77809885,  5.63161307,  1.54170481, ..., -0.04223375,\n",
       "         0.04891803, -0.01489645],\n",
       "       [-2.28245297,  0.76802547, -2.31470105, ...,  0.0925961 ,\n",
       "         0.0334165 , -0.00947875],\n",
       "       [-3.5255955 ,  3.10233376, -1.24116776, ...,  0.08603948,\n",
       "         0.08731899, -0.01063162],\n",
       "       ..., \n",
       "       [-1.49116054,  3.41093477, -4.1607916 , ...,  0.06495751,\n",
       "         0.07297653, -0.01431947],\n",
       "       [-1.38023212,  2.41648192,  5.20843855, ...,  0.04510362,\n",
       "         0.07108861, -0.00638213],\n",
       "       [-0.89560636,  1.74879067,  4.44426235, ...,  0.04285537,\n",
       "         0.04606648, -0.01014296]])"
      ]
     },
     "execution_count": 41,
     "metadata": {},
     "output_type": "execute_result"
    }
   ],
   "source": [
    "dataRot = mod1.fit_transform(dff1)\n",
    "dataRot"
   ]
  },
  {
   "cell_type": "code",
   "execution_count": 42,
   "metadata": {},
   "outputs": [
    {
     "name": "stdout",
     "output_type": "stream",
     "text": [
      "[ 0  1  2  3  4  5  6  7  8  9 10 11 12 13 14 15 16 17 18 19 20 21 22 23 24\n",
      " 25 26 27 28 29 30 31 32] 17.3377317441\n"
     ]
    },
    {
     "data": {
      "text/plain": [
       "33"
      ]
     },
     "execution_count": 42,
     "metadata": {},
     "output_type": "execute_result"
    }
   ],
   "source": [
    "dff = pd.DataFrame(data=dataRot)\n",
    "a = []\n",
    "c = []\n",
    "x = []\n",
    "for i in range(1,34):\n",
    "    dfh = pd.DataFrame(data = dff.iloc[:,0:i])\n",
    "    c.append(dfh.columns.values)\n",
    "    a.append(mse_cv(dfh,df['target']))\n",
    "    x.append(len(c))\n",
    "    \n",
    "    d = pd.DataFrame({'feature':c,'MSE':a})\n",
    "\n",
    "print(d.loc[d['MSE'].idxmin()][1],d.loc[d['MSE'].idxmin()][0])\n",
    "len(d.loc[d['MSE'].idxmin()][1])"
   ]
  },
  {
   "cell_type": "code",
   "execution_count": 43,
   "metadata": {
    "collapsed": true
   },
   "outputs": [],
   "source": [
    "num.append(len(d.loc[d['MSE'].idxmin()][1]))\n",
    "msev.append(d.loc[d['MSE'].idxmin()][0])"
   ]
  },
  {
   "cell_type": "code",
   "execution_count": 44,
   "metadata": {},
   "outputs": [
    {
     "data": {
      "image/png": "[encoded data removed]",
      "text/plain": [
       "<matplotlib.figure.Figure at 0x1bed72bc390>"
      ]
     },
     "metadata": {},
     "output_type": "display_data"
    }
   ],
   "source": [
    "plt.style.use('ggplot')\n",
    "plt.figure(figsize=(8,8))\n",
    "plt.plot(x,a)\n",
    "plt.title('Model Performance based on MSE',fontsize=20)\n",
    "plt.xlabel('Number of Features in the Model',fontsize=18)\n",
    "plt.ylabel('Mean Squared Error (MSE)',fontsize=18)\n",
    "plt.show()"
   ]
  },
  {
   "cell_type": "code",
   "execution_count": 45,
   "metadata": {},
   "outputs": [
    {
     "data": {
      "text/plain": [
       "2.6237443006148761e+21"
      ]
     },
     "execution_count": 45,
     "metadata": {},
     "output_type": "execute_result"
    }
   ],
   "source": [
    "Xt = df.drop(['target'],axis=1)\n",
    "Xt = np.append(np.ones((len(Xt),1)),Xt,axis=1)\n",
    "\n",
    "np.linalg.cond(Xt.dot(Xt.T))"
   ]
  },
  {
   "cell_type": "markdown",
   "metadata": {},
   "source": [
    "As we can see from the condition number above, which comes out to be very large, we can explain the incorrect behavior of these models by stating that there are highly correlated features in the model which lead to bad MSE values for lesser number of features."
   ]
  },
  {
   "cell_type": "markdown",
   "metadata": {},
   "source": [
    "## 4.3 What's the best solution?"
   ]
  },
  {
   "cell_type": "markdown",
   "metadata": {},
   "source": [
    "#### Compare all your results: full model, forward selection, PCA on raw data, and PCA on normalized data. Which one is most precise? Which one is most compact? Which one is the easiest to do? Which one is the most straightforward to interpret?"
   ]
  },
  {
   "cell_type": "code",
   "execution_count": 46,
   "metadata": {
    "collapsed": true
   },
   "outputs": [],
   "source": [
    "c=['Full-Model','Fwd. Selection','PCA','Norm PCA']"
   ]
  },
  {
   "cell_type": "code",
   "execution_count": 47,
   "metadata": {},
   "outputs": [
    {
     "data": {
      "text/html": [
       "<div>\n",
       "<style>\n",
       "    .dataframe thead tr:only-child th {\n",
       "        text-align: right;\n",
       "    }\n",
       "\n",
       "    .dataframe thead th {\n",
       "        text-align: left;\n",
       "    }\n",
       "\n",
       "    .dataframe tbody tr th {\n",
       "        vertical-align: top;\n",
       "    }\n",
       "</style>\n",
       "<table border=\"1\" class=\"dataframe\">\n",
       "  <thead>\n",
       "    <tr style=\"text-align: right;\">\n",
       "      <th></th>\n",
       "      <th>Model Name</th>\n",
       "      <th>Mean Squared Error Value</th>\n",
       "      <th>Number of Features</th>\n",
       "    </tr>\n",
       "  </thead>\n",
       "  <tbody>\n",
       "    <tr>\n",
       "      <th>0</th>\n",
       "      <td>Full-Model</td>\n",
       "      <td>17.337732</td>\n",
       "      <td>33</td>\n",
       "    </tr>\n",
       "    <tr>\n",
       "      <th>1</th>\n",
       "      <td>Fwd. Selection</td>\n",
       "      <td>16.500881</td>\n",
       "      <td>19</td>\n",
       "    </tr>\n",
       "    <tr>\n",
       "      <th>2</th>\n",
       "      <td>PCA</td>\n",
       "      <td>17.004038</td>\n",
       "      <td>26</td>\n",
       "    </tr>\n",
       "    <tr>\n",
       "      <th>3</th>\n",
       "      <td>Norm PCA</td>\n",
       "      <td>17.337732</td>\n",
       "      <td>33</td>\n",
       "    </tr>\n",
       "  </tbody>\n",
       "</table>\n",
       "</div>"
      ],
      "text/plain": [
       "       Model Name  Mean Squared Error Value  Number of Features\n",
       "0      Full-Model                 17.337732                  33\n",
       "1  Fwd. Selection                 16.500881                  19\n",
       "2             PCA                 17.004038                  26\n",
       "3        Norm PCA                 17.337732                  33"
      ]
     },
     "execution_count": 47,
     "metadata": {},
     "output_type": "execute_result"
    }
   ],
   "source": [
    "ddd = pd.DataFrame({'Model Name':c,'Mean Squared Error Value':msev, 'Number of Features':num})\n",
    "pd.DataFrame(data=ddd,columns=['Model Name','Mean Squared Error Value', 'Number of Features'])"
   ]
  },
  {
   "cell_type": "markdown",
   "metadata": {
    "collapsed": true
   },
   "source": [
    "#### Which one is most precise?\n",
    "\n",
    "Forward selection model looks the most precise as it has the minimum number of features and providing the least Mean squared error as well. However, raw PCA is performing well as and may provide precise results on test data."
   ]
  },
  {
   "cell_type": "markdown",
   "metadata": {
    "collapsed": true
   },
   "source": [
    "#### Which one is most compact?\n",
    "\n",
    "Forward selection model looks the most compact as it has the minimum number of features and providing the least Mean squared error as well. However, if we select the 5 or 6 features in the normalized PCA or around 10-11 features in the raw PCA model, then we will get smaller MSE values and number of features would also be very small. The reason we could do that is because we see good amount of collinearity (as indicated by the condition number) between the variables and hence selecting a model with fewer number of features would make more sense."
   ]
  },
  {
   "cell_type": "markdown",
   "metadata": {
    "collapsed": true
   },
   "source": [
    "#### Which one is the easiest to do?\n",
    "Full model is easiest to do as we don't have to do any additional feature selection procedures and would require the least amount of time for implementation. The mena squared error values are also not slightly varied from the best performing model(Fwd. Selection)."
   ]
  },
  {
   "cell_type": "markdown",
   "metadata": {
    "collapsed": true
   },
   "source": [
    "####  Which one is the most straightforward to interpret?\n",
    "Full Model is most stratightforward to interpret as we know that all the features are being included and there would be certain amount of error involved as we are not checking for multicollinearity or other statistical analysis. However, if we are looking for better predictions then Fwd. Selection or PCA would make more sense."
   ]
  }
 ],
 "metadata": {
  "kernelspec": {
   "display_name": "Python 3",
   "language": "python",
   "name": "python3"
  },
  "language_info": {
   "codemirror_mode": {
    "name": "ipython",
    "version": 3
   },
   "file_extension": ".py",
   "mimetype": "text/x-python",
   "name": "python",
   "nbconvert_exporter": "python",
   "pygments_lexer": "ipython3",
   "version": "3.6.2"
  }
 },
 "nbformat": 4,
 "nbformat_minor": 2
}
